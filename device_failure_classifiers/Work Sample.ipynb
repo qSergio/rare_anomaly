{
 "cells": [
  {
   "cell_type": "markdown",
   "metadata": {},
   "source": [
    "# __3D TECHNOLOGIES__"
   ]
  },
  {
   "cell_type": "markdown",
   "metadata": {},
   "source": [
    "__REPORT: On Reducing Maintenance Cost__\n",
    "\n",
    "\n",
    "__Elaborated by: Sergio Nieto__\n",
    "\n",
    "__Objective__\n",
    "\n",
    "This document is a report on the work done by *The Data Science Team* building a predictive model using machine learning to predict the probability of a device failure. \n",
    "\n",
    "__Context__\n",
    "\n",
    "The data is about a fleet of devices transmitting daily aggregated telemetry\n",
    "attributes.\n",
    "Predictive maintenance techniques are designed to help determine the condition of in-service equipment in order to predict when maintenance should be performed. This approach promises cost savings over routine or time-based preventive maintenance, because tasks are performed only when warranted."
   ]
  },
  {
   "cell_type": "code",
   "execution_count": 1,
   "metadata": {},
   "outputs": [],
   "source": [
    "# The libraries we'll use in this report are:\n",
    "\n",
    "import numpy as np\n",
    "import pandas as pd\n",
    "import matplotlib.pyplot as plt\n",
    "import seaborn as sns\n",
    "from datetime import datetime\n",
    "import matplotlib.dates as dt\n",
    "import matplotlib.lines as mlines\n",
    "from IPython.core.pylabtools import figsize\n",
    "import warnings\n",
    "import pickle\n",
    "\n",
    "# Processing\n",
    "from sklearn.preprocessing import StandardScaler,PolynomialFeatures,MinMaxScaler\n",
    "from sklearn.pipeline import make_pipeline, Pipeline\n",
    "from sklearn.model_selection import train_test_split,KFold,GridSearchCV,RandomizedSearchCV, StratifiedKFold,cross_val_predict,cross_val_score,ShuffleSplit\n",
    "from sklearn.feature_selection import SelectKBest, SelectFromModel\n",
    "from imblearn.over_sampling import SMOTE\n",
    "from sklearn.compose import ColumnTransformer\n",
    "from sklearn.base import clone\n",
    "\n",
    "# Modelling\n",
    "from sklearn.tree import DecisionTreeClassifier\n",
    "from sklearn.ensemble import RandomForestClassifier,GradientBoostingClassifier\n",
    "from sklearn.linear_model import LogisticRegression\n",
    "\n",
    "# Representation Learning for the autoencoder\n",
    "import tensorflow as tf\n",
    "from tensorflow import keras\n",
    "from tensorflow.keras import backend as K\n",
    "from tensorflow.keras.models import Sequential, Model\n",
    "from tensorflow.keras.layers import Activation, Dense, Dropout\n",
    "from tensorflow.keras.layers import BatchNormalization, Input, Lambda\n",
    "from tensorflow.keras import regularizers\n",
    "from tensorflow.keras.losses import mse, binary_crossentropy\n",
    "\n",
    "# Evaluation\n",
    "from sklearn.metrics import roc_curve,auc, roc_auc_score,accuracy_score, recall_score, f1_score, confusion_matrix, log_loss\n",
    "from sklearn.metrics import classification_report, balanced_accuracy_score,precision_score,average_precision_score, precision_recall_curve\n",
    "\n",
    "plt.rcParams['figure.figsize'] = (20, 10)\n",
    "pd.set_option('display.max_columns', None)\n",
    "warnings.filterwarnings('ignore')\n",
    "sns.set()"
   ]
  },
  {
   "cell_type": "code",
   "execution_count": 2,
   "metadata": {},
   "outputs": [
    {
     "name": "stdout",
     "output_type": "stream",
     "text": [
      "sklearn    0.23.1\n",
      "tensorflow 2.2.0\n",
      "keras      2.3.0-tf\n",
      "numpy      1.18.5\n",
      "pandas   1.0.4\n"
     ]
    }
   ],
   "source": [
    "import sys, sklearn\n",
    "print(f'sklearn    {sklearn.__version__}')\n",
    "print(f'tensorflow {tf.__version__}')\n",
    "print(f'keras      {keras.__version__}')\n",
    "print(f'numpy      {np.__version__}')\n",
    "print(f'pandas   {pd.__version__}')"
   ]
  },
  {
   "cell_type": "code",
   "execution_count": 3,
   "metadata": {},
   "outputs": [],
   "source": [
    "# \n",
    "tf.random.set_seed(2020)\n",
    "np.random.seed(2020)"
   ]
  },
  {
   "cell_type": "code",
   "execution_count": 3,
   "metadata": {},
   "outputs": [],
   "source": [
    "# We check that it is a csv file\n",
    "# cat device_failure.csv | head \n",
    "# shows no problem\n",
    "# since we know nothing about the file encoding, latin-1 will be used."
   ]
  },
  {
   "cell_type": "markdown",
   "metadata": {},
   "source": [
    "# Exploratory Data Analysis "
   ]
  },
  {
   "cell_type": "code",
   "execution_count": 4,
   "metadata": {},
   "outputs": [],
   "source": [
    "devices = pd.read_csv(\"device_failure.csv\", encoding='Latin-1')"
   ]
  },
  {
   "cell_type": "code",
   "execution_count": 5,
   "metadata": {},
   "outputs": [
    {
     "data": {
      "text/html": [
       "<div>\n",
       "<style scoped>\n",
       "    .dataframe tbody tr th:only-of-type {\n",
       "        vertical-align: middle;\n",
       "    }\n",
       "\n",
       "    .dataframe tbody tr th {\n",
       "        vertical-align: top;\n",
       "    }\n",
       "\n",
       "    .dataframe thead th {\n",
       "        text-align: right;\n",
       "    }\n",
       "</style>\n",
       "<table border=\"1\" class=\"dataframe\">\n",
       "  <thead>\n",
       "    <tr style=\"text-align: right;\">\n",
       "      <th></th>\n",
       "      <th>date</th>\n",
       "      <th>device</th>\n",
       "      <th>failure</th>\n",
       "      <th>attribute1</th>\n",
       "      <th>attribute2</th>\n",
       "      <th>attribute3</th>\n",
       "      <th>attribute4</th>\n",
       "      <th>attribute5</th>\n",
       "      <th>attribute6</th>\n",
       "      <th>attribute7</th>\n",
       "      <th>attribute8</th>\n",
       "      <th>attribute9</th>\n",
       "    </tr>\n",
       "  </thead>\n",
       "  <tbody>\n",
       "    <tr>\n",
       "      <th>0</th>\n",
       "      <td>2015-01-01</td>\n",
       "      <td>S1F01085</td>\n",
       "      <td>0</td>\n",
       "      <td>215630672</td>\n",
       "      <td>56</td>\n",
       "      <td>0</td>\n",
       "      <td>52</td>\n",
       "      <td>6</td>\n",
       "      <td>407438</td>\n",
       "      <td>0</td>\n",
       "      <td>0</td>\n",
       "      <td>7</td>\n",
       "    </tr>\n",
       "    <tr>\n",
       "      <th>1</th>\n",
       "      <td>2015-01-01</td>\n",
       "      <td>S1F0166B</td>\n",
       "      <td>0</td>\n",
       "      <td>61370680</td>\n",
       "      <td>0</td>\n",
       "      <td>3</td>\n",
       "      <td>0</td>\n",
       "      <td>6</td>\n",
       "      <td>403174</td>\n",
       "      <td>0</td>\n",
       "      <td>0</td>\n",
       "      <td>0</td>\n",
       "    </tr>\n",
       "    <tr>\n",
       "      <th>2</th>\n",
       "      <td>2015-01-01</td>\n",
       "      <td>S1F01E6Y</td>\n",
       "      <td>0</td>\n",
       "      <td>173295968</td>\n",
       "      <td>0</td>\n",
       "      <td>0</td>\n",
       "      <td>0</td>\n",
       "      <td>12</td>\n",
       "      <td>237394</td>\n",
       "      <td>0</td>\n",
       "      <td>0</td>\n",
       "      <td>0</td>\n",
       "    </tr>\n",
       "    <tr>\n",
       "      <th>3</th>\n",
       "      <td>2015-01-01</td>\n",
       "      <td>S1F01JE0</td>\n",
       "      <td>0</td>\n",
       "      <td>79694024</td>\n",
       "      <td>0</td>\n",
       "      <td>0</td>\n",
       "      <td>0</td>\n",
       "      <td>6</td>\n",
       "      <td>410186</td>\n",
       "      <td>0</td>\n",
       "      <td>0</td>\n",
       "      <td>0</td>\n",
       "    </tr>\n",
       "    <tr>\n",
       "      <th>4</th>\n",
       "      <td>2015-01-01</td>\n",
       "      <td>S1F01R2B</td>\n",
       "      <td>0</td>\n",
       "      <td>135970480</td>\n",
       "      <td>0</td>\n",
       "      <td>0</td>\n",
       "      <td>0</td>\n",
       "      <td>15</td>\n",
       "      <td>313173</td>\n",
       "      <td>0</td>\n",
       "      <td>0</td>\n",
       "      <td>3</td>\n",
       "    </tr>\n",
       "  </tbody>\n",
       "</table>\n",
       "</div>"
      ],
      "text/plain": [
       "         date    device  failure  attribute1  attribute2  attribute3  \\\n",
       "0  2015-01-01  S1F01085        0   215630672          56           0   \n",
       "1  2015-01-01  S1F0166B        0    61370680           0           3   \n",
       "2  2015-01-01  S1F01E6Y        0   173295968           0           0   \n",
       "3  2015-01-01  S1F01JE0        0    79694024           0           0   \n",
       "4  2015-01-01  S1F01R2B        0   135970480           0           0   \n",
       "\n",
       "   attribute4  attribute5  attribute6  attribute7  attribute8  attribute9  \n",
       "0          52           6      407438           0           0           7  \n",
       "1           0           6      403174           0           0           0  \n",
       "2           0          12      237394           0           0           0  \n",
       "3           0           6      410186           0           0           0  \n",
       "4           0          15      313173           0           0           3  "
      ]
     },
     "execution_count": 5,
     "metadata": {},
     "output_type": "execute_result"
    }
   ],
   "source": [
    "devices.head()"
   ]
  },
  {
   "cell_type": "code",
   "execution_count": 6,
   "metadata": {},
   "outputs": [
    {
     "data": {
      "text/plain": [
       "1169"
      ]
     },
     "execution_count": 6,
     "metadata": {},
     "output_type": "execute_result"
    }
   ],
   "source": [
    "# Number of different devices\n",
    "\n",
    "devices.device.nunique()"
   ]
  },
  {
   "cell_type": "code",
   "execution_count": 7,
   "metadata": {},
   "outputs": [
    {
     "data": {
      "text/plain": [
       "304"
      ]
     },
     "execution_count": 7,
     "metadata": {},
     "output_type": "execute_result"
    }
   ],
   "source": [
    "# How many different dates?\n",
    "\n",
    "devices.date.nunique()"
   ]
  },
  {
   "cell_type": "code",
   "execution_count": 8,
   "metadata": {},
   "outputs": [
    {
     "data": {
      "text/plain": [
       "6"
      ]
     },
     "execution_count": 8,
     "metadata": {},
     "output_type": "execute_result"
    }
   ],
   "source": [
    "# Not all devices have the same number of records\n",
    "# This may be a disadvantage for a time series approach to detecting failure\n",
    "\n",
    "# we take to examples from the previous head:\n",
    "\n",
    "devices[devices.device == \"S1F01085\"][\"date\"].nunique()"
   ]
  },
  {
   "cell_type": "code",
   "execution_count": 9,
   "metadata": {},
   "outputs": [
    {
     "data": {
      "text/plain": [
       "48"
      ]
     },
     "execution_count": 9,
     "metadata": {},
     "output_type": "execute_result"
    }
   ],
   "source": [
    "devices[devices.device == \"S1F01E6Y\"][\"date\"].nunique()"
   ]
  },
  {
   "cell_type": "code",
   "execution_count": 10,
   "metadata": {},
   "outputs": [
    {
     "name": "stdout",
     "output_type": "stream",
     "text": [
      "<class 'pandas.core.frame.DataFrame'>\n",
      "RangeIndex: 124494 entries, 0 to 124493\n",
      "Data columns (total 12 columns):\n",
      " #   Column      Non-Null Count   Dtype \n",
      "---  ------      --------------   ----- \n",
      " 0   date        124494 non-null  object\n",
      " 1   device      124494 non-null  object\n",
      " 2   failure     124494 non-null  int64 \n",
      " 3   attribute1  124494 non-null  int64 \n",
      " 4   attribute2  124494 non-null  int64 \n",
      " 5   attribute3  124494 non-null  int64 \n",
      " 6   attribute4  124494 non-null  int64 \n",
      " 7   attribute5  124494 non-null  int64 \n",
      " 8   attribute6  124494 non-null  int64 \n",
      " 9   attribute7  124494 non-null  int64 \n",
      " 10  attribute8  124494 non-null  int64 \n",
      " 11  attribute9  124494 non-null  int64 \n",
      "dtypes: int64(10), object(2)\n",
      "memory usage: 11.4+ MB\n"
     ]
    }
   ],
   "source": [
    "# Before proceeding, we look at the info in the data frame:\n",
    "\n",
    "devices.info()"
   ]
  },
  {
   "cell_type": "code",
   "execution_count": 11,
   "metadata": {},
   "outputs": [
    {
     "data": {
      "text/plain": [
       "0    0.999149\n",
       "1    0.000851\n",
       "Name: failure, dtype: float64"
      ]
     },
     "execution_count": 11,
     "metadata": {},
     "output_type": "execute_result"
    }
   ],
   "source": [
    "# We have more than 100 thounsand records, but haw many are failures?\n",
    "\n",
    "devices.failure.value_counts(normalize=True)"
   ]
  },
  {
   "cell_type": "code",
   "execution_count": 12,
   "metadata": {},
   "outputs": [],
   "source": [
    "# Date are converted to datetime from pandas in case we need to use later on these functionality\n",
    "\n",
    "devices[\"date\"]=pd.to_datetime(devices[\"date\"])"
   ]
  },
  {
   "cell_type": "code",
   "execution_count": 13,
   "metadata": {},
   "outputs": [
    {
     "data": {
      "text/plain": [
       "<matplotlib.axes._subplots.AxesSubplot at 0x7f3225340630>"
      ]
     },
     "execution_count": 13,
     "metadata": {},
     "output_type": "execute_result"
    },
    {
     "data": {
      "image/png": "[encoded data removed]",
      "text/plain": [
       "<Figure size 1440x720 with 1 Axes>"
      ]
     },
     "metadata": {},
     "output_type": "display_data"
    }
   ],
   "source": [
    "# Since we know\n",
    "\n",
    "devices.groupby([\"date\"])[\"device\"].nunique().plot()"
   ]
  },
  {
   "cell_type": "code",
   "execution_count": 14,
   "metadata": {},
   "outputs": [
    {
     "data": {
      "text/plain": [
       "<matplotlib.axes._subplots.AxesSubplot at 0x7f322522c860>"
      ]
     },
     "execution_count": 14,
     "metadata": {},
     "output_type": "execute_result"
    },
    {
     "data": {
      "image/png": "[encoded data removed]",
      "text/plain": [
       "<Figure size 1440x720 with 1 Axes>"
      ]
     },
     "metadata": {},
     "output_type": "display_data"
    }
   ],
   "source": [
    "devices.query(\"(failure == 1)\").date.hist(bins = 110, alpha = 0.5)"
   ]
  },
  {
   "cell_type": "code",
   "execution_count": 15,
   "metadata": {},
   "outputs": [
    {
     "data": {
      "text/plain": [
       "count    1169.000000\n",
       "mean      106.496151\n",
       "std       102.651601\n",
       "min         1.000000\n",
       "25%         6.000000\n",
       "50%        84.000000\n",
       "75%       224.000000\n",
       "max       304.000000\n",
       "Name: date, dtype: float64"
      ]
     },
     "execution_count": 15,
     "metadata": {},
     "output_type": "execute_result"
    }
   ],
   "source": [
    "devices.groupby([\"device\"])[\"date\"].count().describe()"
   ]
  },
  {
   "cell_type": "markdown",
   "metadata": {},
   "source": [
    "__Create a data frame based only on failures to understand better the structure of the time series__"
   ]
  },
  {
   "cell_type": "code",
   "execution_count": 16,
   "metadata": {},
   "outputs": [],
   "source": [
    "list_failures=list(set(devices[devices.failure == 1]['device']))\n",
    "devices.loc[devices.device.isin(list_failures),\"tag\"] = 1\n",
    "devices.loc[~devices.device.isin(list_failures),\"tag\"] = 2"
   ]
  },
  {
   "cell_type": "code",
   "execution_count": 17,
   "metadata": {},
   "outputs": [],
   "source": [
    "failures = devices[devices.tag == 1]\n",
    "non_failures = devices[devices.tag == 2]"
   ]
  },
  {
   "cell_type": "code",
   "execution_count": 18,
   "metadata": {},
   "outputs": [
    {
     "data": {
      "text/html": [
       "<div>\n",
       "<style scoped>\n",
       "    .dataframe tbody tr th:only-of-type {\n",
       "        vertical-align: middle;\n",
       "    }\n",
       "\n",
       "    .dataframe tbody tr th {\n",
       "        vertical-align: top;\n",
       "    }\n",
       "\n",
       "    .dataframe thead th {\n",
       "        text-align: right;\n",
       "    }\n",
       "</style>\n",
       "<table border=\"1\" class=\"dataframe\">\n",
       "  <thead>\n",
       "    <tr style=\"text-align: right;\">\n",
       "      <th></th>\n",
       "      <th>date</th>\n",
       "      <th>device</th>\n",
       "      <th>failure</th>\n",
       "      <th>attribute1</th>\n",
       "      <th>attribute2</th>\n",
       "      <th>attribute3</th>\n",
       "      <th>attribute4</th>\n",
       "      <th>attribute5</th>\n",
       "      <th>attribute6</th>\n",
       "      <th>attribute7</th>\n",
       "      <th>attribute8</th>\n",
       "      <th>attribute9</th>\n",
       "      <th>tag</th>\n",
       "    </tr>\n",
       "  </thead>\n",
       "  <tbody>\n",
       "    <tr>\n",
       "      <th>0</th>\n",
       "      <td>2015-01-01</td>\n",
       "      <td>S1F01085</td>\n",
       "      <td>0</td>\n",
       "      <td>215630672</td>\n",
       "      <td>56</td>\n",
       "      <td>0</td>\n",
       "      <td>52</td>\n",
       "      <td>6</td>\n",
       "      <td>407438</td>\n",
       "      <td>0</td>\n",
       "      <td>0</td>\n",
       "      <td>7</td>\n",
       "      <td>2.0</td>\n",
       "    </tr>\n",
       "    <tr>\n",
       "      <th>1</th>\n",
       "      <td>2015-01-01</td>\n",
       "      <td>S1F0166B</td>\n",
       "      <td>0</td>\n",
       "      <td>61370680</td>\n",
       "      <td>0</td>\n",
       "      <td>3</td>\n",
       "      <td>0</td>\n",
       "      <td>6</td>\n",
       "      <td>403174</td>\n",
       "      <td>0</td>\n",
       "      <td>0</td>\n",
       "      <td>0</td>\n",
       "      <td>2.0</td>\n",
       "    </tr>\n",
       "    <tr>\n",
       "      <th>2</th>\n",
       "      <td>2015-01-01</td>\n",
       "      <td>S1F01E6Y</td>\n",
       "      <td>0</td>\n",
       "      <td>173295968</td>\n",
       "      <td>0</td>\n",
       "      <td>0</td>\n",
       "      <td>0</td>\n",
       "      <td>12</td>\n",
       "      <td>237394</td>\n",
       "      <td>0</td>\n",
       "      <td>0</td>\n",
       "      <td>0</td>\n",
       "      <td>2.0</td>\n",
       "    </tr>\n",
       "    <tr>\n",
       "      <th>3</th>\n",
       "      <td>2015-01-01</td>\n",
       "      <td>S1F01JE0</td>\n",
       "      <td>0</td>\n",
       "      <td>79694024</td>\n",
       "      <td>0</td>\n",
       "      <td>0</td>\n",
       "      <td>0</td>\n",
       "      <td>6</td>\n",
       "      <td>410186</td>\n",
       "      <td>0</td>\n",
       "      <td>0</td>\n",
       "      <td>0</td>\n",
       "      <td>2.0</td>\n",
       "    </tr>\n",
       "    <tr>\n",
       "      <th>4</th>\n",
       "      <td>2015-01-01</td>\n",
       "      <td>S1F01R2B</td>\n",
       "      <td>0</td>\n",
       "      <td>135970480</td>\n",
       "      <td>0</td>\n",
       "      <td>0</td>\n",
       "      <td>0</td>\n",
       "      <td>15</td>\n",
       "      <td>313173</td>\n",
       "      <td>0</td>\n",
       "      <td>0</td>\n",
       "      <td>3</td>\n",
       "      <td>2.0</td>\n",
       "    </tr>\n",
       "  </tbody>\n",
       "</table>\n",
       "</div>"
      ],
      "text/plain": [
       "        date    device  failure  attribute1  attribute2  attribute3  \\\n",
       "0 2015-01-01  S1F01085        0   215630672          56           0   \n",
       "1 2015-01-01  S1F0166B        0    61370680           0           3   \n",
       "2 2015-01-01  S1F01E6Y        0   173295968           0           0   \n",
       "3 2015-01-01  S1F01JE0        0    79694024           0           0   \n",
       "4 2015-01-01  S1F01R2B        0   135970480           0           0   \n",
       "\n",
       "   attribute4  attribute5  attribute6  attribute7  attribute8  attribute9  tag  \n",
       "0          52           6      407438           0           0           7  2.0  \n",
       "1           0           6      403174           0           0           0  2.0  \n",
       "2           0          12      237394           0           0           0  2.0  \n",
       "3           0           6      410186           0           0           0  2.0  \n",
       "4           0          15      313173           0           0           3  2.0  "
      ]
     },
     "execution_count": 18,
     "metadata": {},
     "output_type": "execute_result"
    }
   ],
   "source": [
    "non_failures.head()"
   ]
  },
  {
   "cell_type": "code",
   "execution_count": 19,
   "metadata": {},
   "outputs": [
    {
     "data": {
      "text/html": [
       "<div>\n",
       "<style scoped>\n",
       "    .dataframe tbody tr th:only-of-type {\n",
       "        vertical-align: middle;\n",
       "    }\n",
       "\n",
       "    .dataframe tbody tr th {\n",
       "        vertical-align: top;\n",
       "    }\n",
       "\n",
       "    .dataframe thead th {\n",
       "        text-align: right;\n",
       "    }\n",
       "</style>\n",
       "<table border=\"1\" class=\"dataframe\">\n",
       "  <thead>\n",
       "    <tr style=\"text-align: right;\">\n",
       "      <th></th>\n",
       "      <th>date</th>\n",
       "      <th>device</th>\n",
       "      <th>failure</th>\n",
       "      <th>attribute1</th>\n",
       "      <th>attribute2</th>\n",
       "      <th>attribute3</th>\n",
       "      <th>attribute4</th>\n",
       "      <th>attribute5</th>\n",
       "      <th>attribute6</th>\n",
       "      <th>attribute7</th>\n",
       "      <th>attribute8</th>\n",
       "      <th>attribute9</th>\n",
       "      <th>tag</th>\n",
       "    </tr>\n",
       "  </thead>\n",
       "  <tbody>\n",
       "    <tr>\n",
       "      <th>7</th>\n",
       "      <td>2015-01-01</td>\n",
       "      <td>S1F023H2</td>\n",
       "      <td>0</td>\n",
       "      <td>141503600</td>\n",
       "      <td>0</td>\n",
       "      <td>0</td>\n",
       "      <td>1</td>\n",
       "      <td>19</td>\n",
       "      <td>494462</td>\n",
       "      <td>16</td>\n",
       "      <td>16</td>\n",
       "      <td>3</td>\n",
       "      <td>1.0</td>\n",
       "    </tr>\n",
       "    <tr>\n",
       "      <th>23</th>\n",
       "      <td>2015-01-01</td>\n",
       "      <td>S1F03YZM</td>\n",
       "      <td>0</td>\n",
       "      <td>55587136</td>\n",
       "      <td>0</td>\n",
       "      <td>0</td>\n",
       "      <td>0</td>\n",
       "      <td>7</td>\n",
       "      <td>199132</td>\n",
       "      <td>0</td>\n",
       "      <td>0</td>\n",
       "      <td>0</td>\n",
       "      <td>1.0</td>\n",
       "    </tr>\n",
       "    <tr>\n",
       "      <th>44</th>\n",
       "      <td>2015-01-01</td>\n",
       "      <td>S1F09DZQ</td>\n",
       "      <td>0</td>\n",
       "      <td>12568128</td>\n",
       "      <td>136</td>\n",
       "      <td>0</td>\n",
       "      <td>2</td>\n",
       "      <td>6</td>\n",
       "      <td>380112</td>\n",
       "      <td>0</td>\n",
       "      <td>0</td>\n",
       "      <td>2</td>\n",
       "      <td>1.0</td>\n",
       "    </tr>\n",
       "    <tr>\n",
       "      <th>63</th>\n",
       "      <td>2015-01-01</td>\n",
       "      <td>S1F0CTDN</td>\n",
       "      <td>0</td>\n",
       "      <td>50147888</td>\n",
       "      <td>528</td>\n",
       "      <td>0</td>\n",
       "      <td>4</td>\n",
       "      <td>9</td>\n",
       "      <td>381198</td>\n",
       "      <td>32</td>\n",
       "      <td>32</td>\n",
       "      <td>3</td>\n",
       "      <td>1.0</td>\n",
       "    </tr>\n",
       "    <tr>\n",
       "      <th>74</th>\n",
       "      <td>2015-01-01</td>\n",
       "      <td>S1F0DSTY</td>\n",
       "      <td>0</td>\n",
       "      <td>8471680</td>\n",
       "      <td>0</td>\n",
       "      <td>0</td>\n",
       "      <td>0</td>\n",
       "      <td>11</td>\n",
       "      <td>436682</td>\n",
       "      <td>0</td>\n",
       "      <td>0</td>\n",
       "      <td>0</td>\n",
       "      <td>1.0</td>\n",
       "    </tr>\n",
       "  </tbody>\n",
       "</table>\n",
       "</div>"
      ],
      "text/plain": [
       "         date    device  failure  attribute1  attribute2  attribute3  \\\n",
       "7  2015-01-01  S1F023H2        0   141503600           0           0   \n",
       "23 2015-01-01  S1F03YZM        0    55587136           0           0   \n",
       "44 2015-01-01  S1F09DZQ        0    12568128         136           0   \n",
       "63 2015-01-01  S1F0CTDN        0    50147888         528           0   \n",
       "74 2015-01-01  S1F0DSTY        0     8471680           0           0   \n",
       "\n",
       "    attribute4  attribute5  attribute6  attribute7  attribute8  attribute9  \\\n",
       "7            1          19      494462          16          16           3   \n",
       "23           0           7      199132           0           0           0   \n",
       "44           2           6      380112           0           0           2   \n",
       "63           4           9      381198          32          32           3   \n",
       "74           0          11      436682           0           0           0   \n",
       "\n",
       "    tag  \n",
       "7   1.0  \n",
       "23  1.0  \n",
       "44  1.0  \n",
       "63  1.0  \n",
       "74  1.0  "
      ]
     },
     "execution_count": 19,
     "metadata": {},
     "output_type": "execute_result"
    }
   ],
   "source": [
    "failures.head()"
   ]
  },
  {
   "cell_type": "code",
   "execution_count": 20,
   "metadata": {},
   "outputs": [
    {
     "data": {
      "text/plain": [
       "106"
      ]
     },
     "execution_count": 20,
     "metadata": {},
     "output_type": "execute_result"
    }
   ],
   "source": [
    "failures.device.nunique()"
   ]
  },
  {
   "cell_type": "code",
   "execution_count": 21,
   "metadata": {},
   "outputs": [
    {
     "data": {
      "text/html": [
       "<div>\n",
       "<style scoped>\n",
       "    .dataframe tbody tr th:only-of-type {\n",
       "        vertical-align: middle;\n",
       "    }\n",
       "\n",
       "    .dataframe tbody tr th {\n",
       "        vertical-align: top;\n",
       "    }\n",
       "\n",
       "    .dataframe thead th {\n",
       "        text-align: right;\n",
       "    }\n",
       "</style>\n",
       "<table border=\"1\" class=\"dataframe\">\n",
       "  <thead>\n",
       "    <tr style=\"text-align: right;\">\n",
       "      <th></th>\n",
       "      <th>device</th>\n",
       "      <th>count</th>\n",
       "      <th>unique</th>\n",
       "      <th>top</th>\n",
       "      <th>freq</th>\n",
       "      <th>first</th>\n",
       "      <th>last</th>\n",
       "    </tr>\n",
       "  </thead>\n",
       "  <tbody>\n",
       "    <tr>\n",
       "      <th>0</th>\n",
       "      <td>S1F023H2</td>\n",
       "      <td>19</td>\n",
       "      <td>19</td>\n",
       "      <td>2015-01-04</td>\n",
       "      <td>1</td>\n",
       "      <td>2015-01-01</td>\n",
       "      <td>2015-01-19</td>\n",
       "    </tr>\n",
       "    <tr>\n",
       "      <th>1</th>\n",
       "      <td>S1F03YZM</td>\n",
       "      <td>215</td>\n",
       "      <td>215</td>\n",
       "      <td>2015-07-19</td>\n",
       "      <td>1</td>\n",
       "      <td>2015-01-01</td>\n",
       "      <td>2015-08-03</td>\n",
       "    </tr>\n",
       "    <tr>\n",
       "      <th>2</th>\n",
       "      <td>S1F09DZQ</td>\n",
       "      <td>199</td>\n",
       "      <td>199</td>\n",
       "      <td>2015-01-31</td>\n",
       "      <td>1</td>\n",
       "      <td>2015-01-01</td>\n",
       "      <td>2015-07-18</td>\n",
       "    </tr>\n",
       "    <tr>\n",
       "      <th>3</th>\n",
       "      <td>S1F0CTDN</td>\n",
       "      <td>7</td>\n",
       "      <td>7</td>\n",
       "      <td>2015-01-04</td>\n",
       "      <td>1</td>\n",
       "      <td>2015-01-01</td>\n",
       "      <td>2015-01-07</td>\n",
       "    </tr>\n",
       "    <tr>\n",
       "      <th>4</th>\n",
       "      <td>S1F0DSTY</td>\n",
       "      <td>45</td>\n",
       "      <td>45</td>\n",
       "      <td>2015-02-01</td>\n",
       "      <td>1</td>\n",
       "      <td>2015-01-01</td>\n",
       "      <td>2015-02-14</td>\n",
       "    </tr>\n",
       "  </tbody>\n",
       "</table>\n",
       "</div>"
      ],
      "text/plain": [
       "     device count unique        top freq      first       last\n",
       "0  S1F023H2    19     19 2015-01-04    1 2015-01-01 2015-01-19\n",
       "1  S1F03YZM   215    215 2015-07-19    1 2015-01-01 2015-08-03\n",
       "2  S1F09DZQ   199    199 2015-01-31    1 2015-01-01 2015-07-18\n",
       "3  S1F0CTDN     7      7 2015-01-04    1 2015-01-01 2015-01-07\n",
       "4  S1F0DSTY    45     45 2015-02-01    1 2015-01-01 2015-02-14"
      ]
     },
     "execution_count": 21,
     "metadata": {},
     "output_type": "execute_result"
    }
   ],
   "source": [
    "failures.groupby(\"device\").date.describe().reset_index().head()"
   ]
  },
  {
   "cell_type": "code",
   "execution_count": 22,
   "metadata": {},
   "outputs": [
    {
     "data": {
      "text/html": [
       "<div>\n",
       "<style scoped>\n",
       "    .dataframe tbody tr th:only-of-type {\n",
       "        vertical-align: middle;\n",
       "    }\n",
       "\n",
       "    .dataframe tbody tr th {\n",
       "        vertical-align: top;\n",
       "    }\n",
       "\n",
       "    .dataframe thead th {\n",
       "        text-align: right;\n",
       "    }\n",
       "</style>\n",
       "<table border=\"1\" class=\"dataframe\">\n",
       "  <thead>\n",
       "    <tr style=\"text-align: right;\">\n",
       "      <th></th>\n",
       "      <th>device</th>\n",
       "      <th>first</th>\n",
       "      <th>last</th>\n",
       "    </tr>\n",
       "  </thead>\n",
       "  <tbody>\n",
       "    <tr>\n",
       "      <th>0</th>\n",
       "      <td>S1F023H2</td>\n",
       "      <td>2015-01-01</td>\n",
       "      <td>2015-01-19</td>\n",
       "    </tr>\n",
       "    <tr>\n",
       "      <th>1</th>\n",
       "      <td>S1F03YZM</td>\n",
       "      <td>2015-01-01</td>\n",
       "      <td>2015-08-03</td>\n",
       "    </tr>\n",
       "    <tr>\n",
       "      <th>2</th>\n",
       "      <td>S1F09DZQ</td>\n",
       "      <td>2015-01-01</td>\n",
       "      <td>2015-07-18</td>\n",
       "    </tr>\n",
       "    <tr>\n",
       "      <th>3</th>\n",
       "      <td>S1F0CTDN</td>\n",
       "      <td>2015-01-01</td>\n",
       "      <td>2015-01-07</td>\n",
       "    </tr>\n",
       "    <tr>\n",
       "      <th>4</th>\n",
       "      <td>S1F0DSTY</td>\n",
       "      <td>2015-01-01</td>\n",
       "      <td>2015-02-14</td>\n",
       "    </tr>\n",
       "  </tbody>\n",
       "</table>\n",
       "</div>"
      ],
      "text/plain": [
       "     device      first       last\n",
       "0  S1F023H2 2015-01-01 2015-01-19\n",
       "1  S1F03YZM 2015-01-01 2015-08-03\n",
       "2  S1F09DZQ 2015-01-01 2015-07-18\n",
       "3  S1F0CTDN 2015-01-01 2015-01-07\n",
       "4  S1F0DSTY 2015-01-01 2015-02-14"
      ]
     },
     "execution_count": 22,
     "metadata": {},
     "output_type": "execute_result"
    }
   ],
   "source": [
    "failures_desc = failures.groupby(\"device\").date.describe().reset_index()\n",
    "failures_desc.drop([\"count\",\"unique\",\"top\",\"freq\"], axis=1, inplace=True)\n",
    "non_failures_desc = non_failures.groupby(\"device\").date.describe().reset_index()\n",
    "non_failures_desc.drop([\"count\",\"unique\",\"top\",\"freq\"], axis=1, inplace=True)\n",
    "failures_desc.head()"
   ]
  },
  {
   "cell_type": "code",
   "execution_count": 23,
   "metadata": {},
   "outputs": [
    {
     "data": {
      "text/plain": [
       "count                     106\n",
       "unique                      1\n",
       "top       2015-01-01 00:00:00\n",
       "freq                      106\n",
       "first     2015-01-01 00:00:00\n",
       "last      2015-01-01 00:00:00\n",
       "Name: first, dtype: object"
      ]
     },
     "execution_count": 23,
     "metadata": {},
     "output_type": "execute_result"
    }
   ],
   "source": [
    "failures_desc[\"first\"].describe()"
   ]
  },
  {
   "cell_type": "code",
   "execution_count": 24,
   "metadata": {},
   "outputs": [
    {
     "data": {
      "image/png": "[encoded data removed]",
      "text/plain": [
       "<Figure size 1368x1440 with 1 Axes>"
      ]
     },
     "metadata": {},
     "output_type": "display_data"
    }
   ],
   "source": [
    "df = failures_desc.rename(columns={'device':'device',\n",
    "                          'first':'Initial', # we have to change names sin \"first\" is reserved\n",
    "                          'last':'Final'})\n",
    "\n",
    "fig = plt.figure(figsize=(19,20))\n",
    "ax = fig.add_subplot(111)\n",
    "ax = ax.xaxis_date()\n",
    "ax = plt.hlines(df.device, dt.date2num(df.Initial), dt.date2num(df.Final))"
   ]
  },
  {
   "cell_type": "code",
   "execution_count": 25,
   "metadata": {},
   "outputs": [
    {
     "data": {
      "text/html": [
       "<div>\n",
       "<style scoped>\n",
       "    .dataframe tbody tr th:only-of-type {\n",
       "        vertical-align: middle;\n",
       "    }\n",
       "\n",
       "    .dataframe tbody tr th {\n",
       "        vertical-align: top;\n",
       "    }\n",
       "\n",
       "    .dataframe thead th {\n",
       "        text-align: right;\n",
       "    }\n",
       "</style>\n",
       "<table border=\"1\" class=\"dataframe\">\n",
       "  <thead>\n",
       "    <tr style=\"text-align: right;\">\n",
       "      <th></th>\n",
       "      <th>date</th>\n",
       "      <th>device</th>\n",
       "      <th>failure</th>\n",
       "      <th>attribute1</th>\n",
       "      <th>attribute2</th>\n",
       "      <th>attribute3</th>\n",
       "      <th>attribute4</th>\n",
       "      <th>attribute5</th>\n",
       "      <th>attribute6</th>\n",
       "      <th>attribute7</th>\n",
       "      <th>attribute8</th>\n",
       "      <th>attribute9</th>\n",
       "      <th>tag</th>\n",
       "    </tr>\n",
       "  </thead>\n",
       "  <tbody>\n",
       "    <tr>\n",
       "      <th>235</th>\n",
       "      <td>2015-01-01</td>\n",
       "      <td>S1F0RRB1</td>\n",
       "      <td>0</td>\n",
       "      <td>5230888</td>\n",
       "      <td>2288</td>\n",
       "      <td>0</td>\n",
       "      <td>37</td>\n",
       "      <td>8</td>\n",
       "      <td>39267</td>\n",
       "      <td>24</td>\n",
       "      <td>24</td>\n",
       "      <td>1</td>\n",
       "      <td>1.0</td>\n",
       "    </tr>\n",
       "    <tr>\n",
       "      <th>1398</th>\n",
       "      <td>2015-01-02</td>\n",
       "      <td>S1F0RRB1</td>\n",
       "      <td>0</td>\n",
       "      <td>13307628</td>\n",
       "      <td>64776</td>\n",
       "      <td>0</td>\n",
       "      <td>49</td>\n",
       "      <td>8</td>\n",
       "      <td>39267</td>\n",
       "      <td>56</td>\n",
       "      <td>56</td>\n",
       "      <td>1</td>\n",
       "      <td>1.0</td>\n",
       "    </tr>\n",
       "    <tr>\n",
       "      <th>2561</th>\n",
       "      <td>2015-01-03</td>\n",
       "      <td>S1F0RRB1</td>\n",
       "      <td>0</td>\n",
       "      <td>26258330</td>\n",
       "      <td>64776</td>\n",
       "      <td>0</td>\n",
       "      <td>135</td>\n",
       "      <td>8</td>\n",
       "      <td>39267</td>\n",
       "      <td>56</td>\n",
       "      <td>56</td>\n",
       "      <td>1</td>\n",
       "      <td>1.0</td>\n",
       "    </tr>\n",
       "    <tr>\n",
       "      <th>3724</th>\n",
       "      <td>2015-01-04</td>\n",
       "      <td>S1F0RRB1</td>\n",
       "      <td>0</td>\n",
       "      <td>37985862</td>\n",
       "      <td>64776</td>\n",
       "      <td>0</td>\n",
       "      <td>763</td>\n",
       "      <td>8</td>\n",
       "      <td>39267</td>\n",
       "      <td>56</td>\n",
       "      <td>56</td>\n",
       "      <td>1</td>\n",
       "      <td>1.0</td>\n",
       "    </tr>\n",
       "    <tr>\n",
       "      <th>4885</th>\n",
       "      <td>2015-01-05</td>\n",
       "      <td>S1F0RRB1</td>\n",
       "      <td>1</td>\n",
       "      <td>48467332</td>\n",
       "      <td>64776</td>\n",
       "      <td>0</td>\n",
       "      <td>841</td>\n",
       "      <td>8</td>\n",
       "      <td>39267</td>\n",
       "      <td>56</td>\n",
       "      <td>56</td>\n",
       "      <td>1</td>\n",
       "      <td>1.0</td>\n",
       "    </tr>\n",
       "  </tbody>\n",
       "</table>\n",
       "</div>"
      ],
      "text/plain": [
       "           date    device  failure  attribute1  attribute2  attribute3  \\\n",
       "235  2015-01-01  S1F0RRB1        0     5230888        2288           0   \n",
       "1398 2015-01-02  S1F0RRB1        0    13307628       64776           0   \n",
       "2561 2015-01-03  S1F0RRB1        0    26258330       64776           0   \n",
       "3724 2015-01-04  S1F0RRB1        0    37985862       64776           0   \n",
       "4885 2015-01-05  S1F0RRB1        1    48467332       64776           0   \n",
       "\n",
       "      attribute4  attribute5  attribute6  attribute7  attribute8  attribute9  \\\n",
       "235           37           8       39267          24          24           1   \n",
       "1398          49           8       39267          56          56           1   \n",
       "2561         135           8       39267          56          56           1   \n",
       "3724         763           8       39267          56          56           1   \n",
       "4885         841           8       39267          56          56           1   \n",
       "\n",
       "      tag  \n",
       "235   1.0  \n",
       "1398  1.0  \n",
       "2561  1.0  \n",
       "3724  1.0  \n",
       "4885  1.0  "
      ]
     },
     "execution_count": 25,
     "metadata": {},
     "output_type": "execute_result"
    }
   ],
   "source": [
    "failures[failures.device == \"S1F0RRB1\"]"
   ]
  },
  {
   "cell_type": "markdown",
   "metadata": {},
   "source": [
    "We do not have a regular pattern over a date range, failures can happen at week 2 or any other week. We cannot take this problem with a time series perspective since it'll have the property that predictions will be based on a window with only a week maybe two as history and the need to drop observations."
   ]
  },
  {
   "cell_type": "markdown",
   "metadata": {},
   "source": [
    "As a first conclusion, we have to treat this problem as a supervised machine learning problem, in particular a binary classification task on the target variable 'failure'."
   ]
  },
  {
   "cell_type": "markdown",
   "metadata": {},
   "source": [
    "# Data Processing and Feature selection"
   ]
  },
  {
   "cell_type": "code",
   "execution_count": 26,
   "metadata": {},
   "outputs": [],
   "source": [
    "process_cols = ['attribute1', 'attribute2', 'attribute3',\n",
    "       'attribute4', 'attribute5', 'attribute6', 'attribute7', 'attribute8','attribute9']"
   ]
  },
  {
   "cell_type": "code",
   "execution_count": 27,
   "metadata": {},
   "outputs": [
    {
     "data": {
      "text/html": [
       "<div>\n",
       "<style scoped>\n",
       "    .dataframe tbody tr th:only-of-type {\n",
       "        vertical-align: middle;\n",
       "    }\n",
       "\n",
       "    .dataframe tbody tr th {\n",
       "        vertical-align: top;\n",
       "    }\n",
       "\n",
       "    .dataframe thead th {\n",
       "        text-align: right;\n",
       "    }\n",
       "</style>\n",
       "<table border=\"1\" class=\"dataframe\">\n",
       "  <thead>\n",
       "    <tr style=\"text-align: right;\">\n",
       "      <th></th>\n",
       "      <th>attribute1</th>\n",
       "      <th>attribute2</th>\n",
       "      <th>attribute3</th>\n",
       "      <th>attribute4</th>\n",
       "      <th>attribute5</th>\n",
       "      <th>attribute6</th>\n",
       "      <th>attribute7</th>\n",
       "      <th>attribute8</th>\n",
       "      <th>attribute9</th>\n",
       "    </tr>\n",
       "  </thead>\n",
       "  <tbody>\n",
       "    <tr>\n",
       "      <th>count</th>\n",
       "      <td>1.244940e+05</td>\n",
       "      <td>124494.000000</td>\n",
       "      <td>124494.000000</td>\n",
       "      <td>124494.000000</td>\n",
       "      <td>124494.000000</td>\n",
       "      <td>124494.000000</td>\n",
       "      <td>124494.000000</td>\n",
       "      <td>124494.000000</td>\n",
       "      <td>124494.000000</td>\n",
       "    </tr>\n",
       "    <tr>\n",
       "      <th>mean</th>\n",
       "      <td>1.223881e+08</td>\n",
       "      <td>159.484762</td>\n",
       "      <td>9.940455</td>\n",
       "      <td>1.741120</td>\n",
       "      <td>14.222669</td>\n",
       "      <td>260172.657726</td>\n",
       "      <td>0.292528</td>\n",
       "      <td>0.292528</td>\n",
       "      <td>12.451524</td>\n",
       "    </tr>\n",
       "    <tr>\n",
       "      <th>std</th>\n",
       "      <td>7.045933e+07</td>\n",
       "      <td>2179.657730</td>\n",
       "      <td>185.747321</td>\n",
       "      <td>22.908507</td>\n",
       "      <td>15.943028</td>\n",
       "      <td>99151.078547</td>\n",
       "      <td>7.436924</td>\n",
       "      <td>7.436924</td>\n",
       "      <td>191.425623</td>\n",
       "    </tr>\n",
       "    <tr>\n",
       "      <th>min</th>\n",
       "      <td>0.000000e+00</td>\n",
       "      <td>0.000000</td>\n",
       "      <td>0.000000</td>\n",
       "      <td>0.000000</td>\n",
       "      <td>1.000000</td>\n",
       "      <td>8.000000</td>\n",
       "      <td>0.000000</td>\n",
       "      <td>0.000000</td>\n",
       "      <td>0.000000</td>\n",
       "    </tr>\n",
       "    <tr>\n",
       "      <th>25%</th>\n",
       "      <td>6.128476e+07</td>\n",
       "      <td>0.000000</td>\n",
       "      <td>0.000000</td>\n",
       "      <td>0.000000</td>\n",
       "      <td>8.000000</td>\n",
       "      <td>221452.000000</td>\n",
       "      <td>0.000000</td>\n",
       "      <td>0.000000</td>\n",
       "      <td>0.000000</td>\n",
       "    </tr>\n",
       "    <tr>\n",
       "      <th>50%</th>\n",
       "      <td>1.227974e+08</td>\n",
       "      <td>0.000000</td>\n",
       "      <td>0.000000</td>\n",
       "      <td>0.000000</td>\n",
       "      <td>10.000000</td>\n",
       "      <td>249799.500000</td>\n",
       "      <td>0.000000</td>\n",
       "      <td>0.000000</td>\n",
       "      <td>0.000000</td>\n",
       "    </tr>\n",
       "    <tr>\n",
       "      <th>75%</th>\n",
       "      <td>1.833096e+08</td>\n",
       "      <td>0.000000</td>\n",
       "      <td>0.000000</td>\n",
       "      <td>0.000000</td>\n",
       "      <td>12.000000</td>\n",
       "      <td>310266.000000</td>\n",
       "      <td>0.000000</td>\n",
       "      <td>0.000000</td>\n",
       "      <td>0.000000</td>\n",
       "    </tr>\n",
       "    <tr>\n",
       "      <th>max</th>\n",
       "      <td>2.441405e+08</td>\n",
       "      <td>64968.000000</td>\n",
       "      <td>24929.000000</td>\n",
       "      <td>1666.000000</td>\n",
       "      <td>98.000000</td>\n",
       "      <td>689161.000000</td>\n",
       "      <td>832.000000</td>\n",
       "      <td>832.000000</td>\n",
       "      <td>18701.000000</td>\n",
       "    </tr>\n",
       "  </tbody>\n",
       "</table>\n",
       "</div>"
      ],
      "text/plain": [
       "         attribute1     attribute2     attribute3     attribute4  \\\n",
       "count  1.244940e+05  124494.000000  124494.000000  124494.000000   \n",
       "mean   1.223881e+08     159.484762       9.940455       1.741120   \n",
       "std    7.045933e+07    2179.657730     185.747321      22.908507   \n",
       "min    0.000000e+00       0.000000       0.000000       0.000000   \n",
       "25%    6.128476e+07       0.000000       0.000000       0.000000   \n",
       "50%    1.227974e+08       0.000000       0.000000       0.000000   \n",
       "75%    1.833096e+08       0.000000       0.000000       0.000000   \n",
       "max    2.441405e+08   64968.000000   24929.000000    1666.000000   \n",
       "\n",
       "          attribute5     attribute6     attribute7     attribute8  \\\n",
       "count  124494.000000  124494.000000  124494.000000  124494.000000   \n",
       "mean       14.222669  260172.657726       0.292528       0.292528   \n",
       "std        15.943028   99151.078547       7.436924       7.436924   \n",
       "min         1.000000       8.000000       0.000000       0.000000   \n",
       "25%         8.000000  221452.000000       0.000000       0.000000   \n",
       "50%        10.000000  249799.500000       0.000000       0.000000   \n",
       "75%        12.000000  310266.000000       0.000000       0.000000   \n",
       "max        98.000000  689161.000000     832.000000     832.000000   \n",
       "\n",
       "          attribute9  \n",
       "count  124494.000000  \n",
       "mean       12.451524  \n",
       "std       191.425623  \n",
       "min         0.000000  \n",
       "25%         0.000000  \n",
       "50%         0.000000  \n",
       "75%         0.000000  \n",
       "max     18701.000000  "
      ]
     },
     "execution_count": 27,
     "metadata": {},
     "output_type": "execute_result"
    }
   ],
   "source": [
    "# A descriptive analysis will help to understand relation between variables\n",
    "# \n",
    "devices[process_cols].describe()"
   ]
  },
  {
   "cell_type": "code",
   "execution_count": 30,
   "metadata": {},
   "outputs": [],
   "source": [
    "## It seems we have two very similar variables: attribute7 and attribute8"
   ]
  },
  {
   "cell_type": "code",
   "execution_count": 14,
   "metadata": {},
   "outputs": [
    {
     "data": {
      "text/html": [
       "<style  type=\"text/css\" >\n",
       "    #T_8b8e6b02_bfdb_11ea_b20a_9cb6d0e02a1frow0_col0 {\n",
       "            background-color:  #b40426;\n",
       "            color:  #f1f1f1;\n",
       "        }    #T_8b8e6b02_bfdb_11ea_b20a_9cb6d0e02a1frow0_col1 {\n",
       "            background-color:  #4055c8;\n",
       "            color:  #f1f1f1;\n",
       "        }    #T_8b8e6b02_bfdb_11ea_b20a_9cb6d0e02a1frow0_col2 {\n",
       "            background-color:  #3d50c3;\n",
       "            color:  #f1f1f1;\n",
       "        }    #T_8b8e6b02_bfdb_11ea_b20a_9cb6d0e02a1frow0_col3 {\n",
       "            background-color:  #3d50c3;\n",
       "            color:  #f1f1f1;\n",
       "        }    #T_8b8e6b02_bfdb_11ea_b20a_9cb6d0e02a1frow0_col4 {\n",
       "            background-color:  #3e51c5;\n",
       "            color:  #f1f1f1;\n",
       "        }    #T_8b8e6b02_bfdb_11ea_b20a_9cb6d0e02a1frow0_col5 {\n",
       "            background-color:  #4257c9;\n",
       "            color:  #f1f1f1;\n",
       "        }    #T_8b8e6b02_bfdb_11ea_b20a_9cb6d0e02a1frow0_col6 {\n",
       "            background-color:  #3e51c5;\n",
       "            color:  #f1f1f1;\n",
       "        }    #T_8b8e6b02_bfdb_11ea_b20a_9cb6d0e02a1frow0_col7 {\n",
       "            background-color:  #3e51c5;\n",
       "            color:  #f1f1f1;\n",
       "        }    #T_8b8e6b02_bfdb_11ea_b20a_9cb6d0e02a1frow0_col8 {\n",
       "            background-color:  #3b4cc0;\n",
       "            color:  #f1f1f1;\n",
       "        }    #T_8b8e6b02_bfdb_11ea_b20a_9cb6d0e02a1frow1_col0 {\n",
       "            background-color:  #3b4cc0;\n",
       "            color:  #f1f1f1;\n",
       "        }    #T_8b8e6b02_bfdb_11ea_b20a_9cb6d0e02a1frow1_col1 {\n",
       "            background-color:  #b40426;\n",
       "            color:  #f1f1f1;\n",
       "        }    #T_8b8e6b02_bfdb_11ea_b20a_9cb6d0e02a1frow1_col2 {\n",
       "            background-color:  #3c4ec2;\n",
       "            color:  #f1f1f1;\n",
       "        }    #T_8b8e6b02_bfdb_11ea_b20a_9cb6d0e02a1frow1_col3 {\n",
       "            background-color:  #6b8df0;\n",
       "            color:  #000000;\n",
       "        }    #T_8b8e6b02_bfdb_11ea_b20a_9cb6d0e02a1frow1_col4 {\n",
       "            background-color:  #3b4cc0;\n",
       "            color:  #f1f1f1;\n",
       "        }    #T_8b8e6b02_bfdb_11ea_b20a_9cb6d0e02a1frow1_col5 {\n",
       "            background-color:  #3b4cc0;\n",
       "            color:  #f1f1f1;\n",
       "        }    #T_8b8e6b02_bfdb_11ea_b20a_9cb6d0e02a1frow1_col6 {\n",
       "            background-color:  #6a8bef;\n",
       "            color:  #000000;\n",
       "        }    #T_8b8e6b02_bfdb_11ea_b20a_9cb6d0e02a1frow1_col7 {\n",
       "            background-color:  #6a8bef;\n",
       "            color:  #000000;\n",
       "        }    #T_8b8e6b02_bfdb_11ea_b20a_9cb6d0e02a1frow1_col8 {\n",
       "            background-color:  #3b4cc0;\n",
       "            color:  #f1f1f1;\n",
       "        }    #T_8b8e6b02_bfdb_11ea_b20a_9cb6d0e02a1frow2_col0 {\n",
       "            background-color:  #3d50c3;\n",
       "            color:  #f1f1f1;\n",
       "        }    #T_8b8e6b02_bfdb_11ea_b20a_9cb6d0e02a1frow2_col1 {\n",
       "            background-color:  #4055c8;\n",
       "            color:  #f1f1f1;\n",
       "        }    #T_8b8e6b02_bfdb_11ea_b20a_9cb6d0e02a1frow2_col2 {\n",
       "            background-color:  #b40426;\n",
       "            color:  #f1f1f1;\n",
       "        }    #T_8b8e6b02_bfdb_11ea_b20a_9cb6d0e02a1frow2_col3 {\n",
       "            background-color:  #5b7ae5;\n",
       "            color:  #000000;\n",
       "        }    #T_8b8e6b02_bfdb_11ea_b20a_9cb6d0e02a1frow2_col4 {\n",
       "            background-color:  #3d50c3;\n",
       "            color:  #f1f1f1;\n",
       "        }    #T_8b8e6b02_bfdb_11ea_b20a_9cb6d0e02a1frow2_col5 {\n",
       "            background-color:  #445acc;\n",
       "            color:  #f1f1f1;\n",
       "        }    #T_8b8e6b02_bfdb_11ea_b20a_9cb6d0e02a1frow2_col6 {\n",
       "            background-color:  #3d50c3;\n",
       "            color:  #f1f1f1;\n",
       "        }    #T_8b8e6b02_bfdb_11ea_b20a_9cb6d0e02a1frow2_col7 {\n",
       "            background-color:  #3d50c3;\n",
       "            color:  #f1f1f1;\n",
       "        }    #T_8b8e6b02_bfdb_11ea_b20a_9cb6d0e02a1frow2_col8 {\n",
       "            background-color:  #e5d8d1;\n",
       "            color:  #000000;\n",
       "        }    #T_8b8e6b02_bfdb_11ea_b20a_9cb6d0e02a1frow3_col0 {\n",
       "            background-color:  #3c4ec2;\n",
       "            color:  #f1f1f1;\n",
       "        }    #T_8b8e6b02_bfdb_11ea_b20a_9cb6d0e02a1frow3_col1 {\n",
       "            background-color:  #7093f3;\n",
       "            color:  #000000;\n",
       "        }    #T_8b8e6b02_bfdb_11ea_b20a_9cb6d0e02a1frow3_col2 {\n",
       "            background-color:  #5a78e4;\n",
       "            color:  #000000;\n",
       "        }    #T_8b8e6b02_bfdb_11ea_b20a_9cb6d0e02a1frow3_col3 {\n",
       "            background-color:  #b40426;\n",
       "            color:  #f1f1f1;\n",
       "        }    #T_8b8e6b02_bfdb_11ea_b20a_9cb6d0e02a1frow3_col4 {\n",
       "            background-color:  #3c4ec2;\n",
       "            color:  #f1f1f1;\n",
       "        }    #T_8b8e6b02_bfdb_11ea_b20a_9cb6d0e02a1frow3_col5 {\n",
       "            background-color:  #4961d2;\n",
       "            color:  #f1f1f1;\n",
       "        }    #T_8b8e6b02_bfdb_11ea_b20a_9cb6d0e02a1frow3_col6 {\n",
       "            background-color:  #4b64d5;\n",
       "            color:  #f1f1f1;\n",
       "        }    #T_8b8e6b02_bfdb_11ea_b20a_9cb6d0e02a1frow3_col7 {\n",
       "            background-color:  #4b64d5;\n",
       "            color:  #f1f1f1;\n",
       "        }    #T_8b8e6b02_bfdb_11ea_b20a_9cb6d0e02a1frow3_col8 {\n",
       "            background-color:  #455cce;\n",
       "            color:  #f1f1f1;\n",
       "        }    #T_8b8e6b02_bfdb_11ea_b20a_9cb6d0e02a1frow4_col0 {\n",
       "            background-color:  #3b4cc0;\n",
       "            color:  #f1f1f1;\n",
       "        }    #T_8b8e6b02_bfdb_11ea_b20a_9cb6d0e02a1frow4_col1 {\n",
       "            background-color:  #3e51c5;\n",
       "            color:  #f1f1f1;\n",
       "        }    #T_8b8e6b02_bfdb_11ea_b20a_9cb6d0e02a1frow4_col2 {\n",
       "            background-color:  #3b4cc0;\n",
       "            color:  #f1f1f1;\n",
       "        }    #T_8b8e6b02_bfdb_11ea_b20a_9cb6d0e02a1frow4_col3 {\n",
       "            background-color:  #3b4cc0;\n",
       "            color:  #f1f1f1;\n",
       "        }    #T_8b8e6b02_bfdb_11ea_b20a_9cb6d0e02a1frow4_col4 {\n",
       "            background-color:  #b40426;\n",
       "            color:  #f1f1f1;\n",
       "        }    #T_8b8e6b02_bfdb_11ea_b20a_9cb6d0e02a1frow4_col5 {\n",
       "            background-color:  #3d50c3;\n",
       "            color:  #f1f1f1;\n",
       "        }    #T_8b8e6b02_bfdb_11ea_b20a_9cb6d0e02a1frow4_col6 {\n",
       "            background-color:  #3b4cc0;\n",
       "            color:  #f1f1f1;\n",
       "        }    #T_8b8e6b02_bfdb_11ea_b20a_9cb6d0e02a1frow4_col7 {\n",
       "            background-color:  #3b4cc0;\n",
       "            color:  #f1f1f1;\n",
       "        }    #T_8b8e6b02_bfdb_11ea_b20a_9cb6d0e02a1frow4_col8 {\n",
       "            background-color:  #3d50c3;\n",
       "            color:  #f1f1f1;\n",
       "        }    #T_8b8e6b02_bfdb_11ea_b20a_9cb6d0e02a1frow5_col0 {\n",
       "            background-color:  #3b4cc0;\n",
       "            color:  #f1f1f1;\n",
       "        }    #T_8b8e6b02_bfdb_11ea_b20a_9cb6d0e02a1frow5_col1 {\n",
       "            background-color:  #3b4cc0;\n",
       "            color:  #f1f1f1;\n",
       "        }    #T_8b8e6b02_bfdb_11ea_b20a_9cb6d0e02a1frow5_col2 {\n",
       "            background-color:  #3e51c5;\n",
       "            color:  #f1f1f1;\n",
       "        }    #T_8b8e6b02_bfdb_11ea_b20a_9cb6d0e02a1frow5_col3 {\n",
       "            background-color:  #445acc;\n",
       "            color:  #f1f1f1;\n",
       "        }    #T_8b8e6b02_bfdb_11ea_b20a_9cb6d0e02a1frow5_col4 {\n",
       "            background-color:  #3b4cc0;\n",
       "            color:  #f1f1f1;\n",
       "        }    #T_8b8e6b02_bfdb_11ea_b20a_9cb6d0e02a1frow5_col5 {\n",
       "            background-color:  #b40426;\n",
       "            color:  #f1f1f1;\n",
       "        }    #T_8b8e6b02_bfdb_11ea_b20a_9cb6d0e02a1frow5_col6 {\n",
       "            background-color:  #3b4cc0;\n",
       "            color:  #f1f1f1;\n",
       "        }    #T_8b8e6b02_bfdb_11ea_b20a_9cb6d0e02a1frow5_col7 {\n",
       "            background-color:  #3b4cc0;\n",
       "            color:  #f1f1f1;\n",
       "        }    #T_8b8e6b02_bfdb_11ea_b20a_9cb6d0e02a1frow5_col8 {\n",
       "            background-color:  #4257c9;\n",
       "            color:  #f1f1f1;\n",
       "        }    #T_8b8e6b02_bfdb_11ea_b20a_9cb6d0e02a1frow6_col0 {\n",
       "            background-color:  #3c4ec2;\n",
       "            color:  #f1f1f1;\n",
       "        }    #T_8b8e6b02_bfdb_11ea_b20a_9cb6d0e02a1frow6_col1 {\n",
       "            background-color:  #6e90f2;\n",
       "            color:  #000000;\n",
       "        }    #T_8b8e6b02_bfdb_11ea_b20a_9cb6d0e02a1frow6_col2 {\n",
       "            background-color:  #3c4ec2;\n",
       "            color:  #f1f1f1;\n",
       "        }    #T_8b8e6b02_bfdb_11ea_b20a_9cb6d0e02a1frow6_col3 {\n",
       "            background-color:  #4b64d5;\n",
       "            color:  #f1f1f1;\n",
       "        }    #T_8b8e6b02_bfdb_11ea_b20a_9cb6d0e02a1frow6_col4 {\n",
       "            background-color:  #3c4ec2;\n",
       "            color:  #f1f1f1;\n",
       "        }    #T_8b8e6b02_bfdb_11ea_b20a_9cb6d0e02a1frow6_col5 {\n",
       "            background-color:  #3e51c5;\n",
       "            color:  #f1f1f1;\n",
       "        }    #T_8b8e6b02_bfdb_11ea_b20a_9cb6d0e02a1frow6_col6 {\n",
       "            background-color:  #b40426;\n",
       "            color:  #f1f1f1;\n",
       "        }    #T_8b8e6b02_bfdb_11ea_b20a_9cb6d0e02a1frow6_col7 {\n",
       "            background-color:  #b40426;\n",
       "            color:  #f1f1f1;\n",
       "        }    #T_8b8e6b02_bfdb_11ea_b20a_9cb6d0e02a1frow6_col8 {\n",
       "            background-color:  #3d50c3;\n",
       "            color:  #f1f1f1;\n",
       "        }    #T_8b8e6b02_bfdb_11ea_b20a_9cb6d0e02a1frow7_col0 {\n",
       "            background-color:  #3c4ec2;\n",
       "            color:  #f1f1f1;\n",
       "        }    #T_8b8e6b02_bfdb_11ea_b20a_9cb6d0e02a1frow7_col1 {\n",
       "            background-color:  #6e90f2;\n",
       "            color:  #000000;\n",
       "        }    #T_8b8e6b02_bfdb_11ea_b20a_9cb6d0e02a1frow7_col2 {\n",
       "            background-color:  #3c4ec2;\n",
       "            color:  #f1f1f1;\n",
       "        }    #T_8b8e6b02_bfdb_11ea_b20a_9cb6d0e02a1frow7_col3 {\n",
       "            background-color:  #4b64d5;\n",
       "            color:  #f1f1f1;\n",
       "        }    #T_8b8e6b02_bfdb_11ea_b20a_9cb6d0e02a1frow7_col4 {\n",
       "            background-color:  #3c4ec2;\n",
       "            color:  #f1f1f1;\n",
       "        }    #T_8b8e6b02_bfdb_11ea_b20a_9cb6d0e02a1frow7_col5 {\n",
       "            background-color:  #3e51c5;\n",
       "            color:  #f1f1f1;\n",
       "        }    #T_8b8e6b02_bfdb_11ea_b20a_9cb6d0e02a1frow7_col6 {\n",
       "            background-color:  #b40426;\n",
       "            color:  #f1f1f1;\n",
       "        }    #T_8b8e6b02_bfdb_11ea_b20a_9cb6d0e02a1frow7_col7 {\n",
       "            background-color:  #b40426;\n",
       "            color:  #f1f1f1;\n",
       "        }    #T_8b8e6b02_bfdb_11ea_b20a_9cb6d0e02a1frow7_col8 {\n",
       "            background-color:  #3d50c3;\n",
       "            color:  #f1f1f1;\n",
       "        }    #T_8b8e6b02_bfdb_11ea_b20a_9cb6d0e02a1frow8_col0 {\n",
       "            background-color:  #3c4ec2;\n",
       "            color:  #f1f1f1;\n",
       "        }    #T_8b8e6b02_bfdb_11ea_b20a_9cb6d0e02a1frow8_col1 {\n",
       "            background-color:  #4055c8;\n",
       "            color:  #f1f1f1;\n",
       "        }    #T_8b8e6b02_bfdb_11ea_b20a_9cb6d0e02a1frow8_col2 {\n",
       "            background-color:  #e6d7cf;\n",
       "            color:  #000000;\n",
       "        }    #T_8b8e6b02_bfdb_11ea_b20a_9cb6d0e02a1frow8_col3 {\n",
       "            background-color:  #485fd1;\n",
       "            color:  #f1f1f1;\n",
       "        }    #T_8b8e6b02_bfdb_11ea_b20a_9cb6d0e02a1frow8_col4 {\n",
       "            background-color:  #4055c8;\n",
       "            color:  #f1f1f1;\n",
       "        }    #T_8b8e6b02_bfdb_11ea_b20a_9cb6d0e02a1frow8_col5 {\n",
       "            background-color:  #485fd1;\n",
       "            color:  #f1f1f1;\n",
       "        }    #T_8b8e6b02_bfdb_11ea_b20a_9cb6d0e02a1frow8_col6 {\n",
       "            background-color:  #3f53c6;\n",
       "            color:  #f1f1f1;\n",
       "        }    #T_8b8e6b02_bfdb_11ea_b20a_9cb6d0e02a1frow8_col7 {\n",
       "            background-color:  #3f53c6;\n",
       "            color:  #f1f1f1;\n",
       "        }    #T_8b8e6b02_bfdb_11ea_b20a_9cb6d0e02a1frow8_col8 {\n",
       "            background-color:  #b40426;\n",
       "            color:  #f1f1f1;\n",
       "        }</style><table id=\"T_8b8e6b02_bfdb_11ea_b20a_9cb6d0e02a1f\" ><thead>    <tr>        <th class=\"blank level0\" ></th>        <th class=\"col_heading level0 col0\" >attribute1</th>        <th class=\"col_heading level0 col1\" >attribute2</th>        <th class=\"col_heading level0 col2\" >attribute3</th>        <th class=\"col_heading level0 col3\" >attribute4</th>        <th class=\"col_heading level0 col4\" >attribute5</th>        <th class=\"col_heading level0 col5\" >attribute6</th>        <th class=\"col_heading level0 col6\" >attribute7</th>        <th class=\"col_heading level0 col7\" >attribute8</th>        <th class=\"col_heading level0 col8\" >attribute9</th>    </tr></thead><tbody>\n",
       "                <tr>\n",
       "                        <th id=\"T_8b8e6b02_bfdb_11ea_b20a_9cb6d0e02a1flevel0_row0\" class=\"row_heading level0 row0\" >attribute1</th>\n",
       "                        <td id=\"T_8b8e6b02_bfdb_11ea_b20a_9cb6d0e02a1frow0_col0\" class=\"data row0 col0\" >1.000</td>\n",
       "                        <td id=\"T_8b8e6b02_bfdb_11ea_b20a_9cb6d0e02a1frow0_col1\" class=\"data row0 col1\" >-0.004</td>\n",
       "                        <td id=\"T_8b8e6b02_bfdb_11ea_b20a_9cb6d0e02a1frow0_col2\" class=\"data row0 col2\" >0.004</td>\n",
       "                        <td id=\"T_8b8e6b02_bfdb_11ea_b20a_9cb6d0e02a1frow0_col3\" class=\"data row0 col3\" >0.002</td>\n",
       "                        <td id=\"T_8b8e6b02_bfdb_11ea_b20a_9cb6d0e02a1frow0_col4\" class=\"data row0 col4\" >-0.003</td>\n",
       "                        <td id=\"T_8b8e6b02_bfdb_11ea_b20a_9cb6d0e02a1frow0_col5\" class=\"data row0 col5\" >-0.002</td>\n",
       "                        <td id=\"T_8b8e6b02_bfdb_11ea_b20a_9cb6d0e02a1frow0_col6\" class=\"data row0 col6\" >0.000</td>\n",
       "                        <td id=\"T_8b8e6b02_bfdb_11ea_b20a_9cb6d0e02a1frow0_col7\" class=\"data row0 col7\" >0.000</td>\n",
       "                        <td id=\"T_8b8e6b02_bfdb_11ea_b20a_9cb6d0e02a1frow0_col8\" class=\"data row0 col8\" >0.001</td>\n",
       "            </tr>\n",
       "            <tr>\n",
       "                        <th id=\"T_8b8e6b02_bfdb_11ea_b20a_9cb6d0e02a1flevel0_row1\" class=\"row_heading level0 row1\" >attribute2</th>\n",
       "                        <td id=\"T_8b8e6b02_bfdb_11ea_b20a_9cb6d0e02a1frow1_col0\" class=\"data row1 col0\" >-0.004</td>\n",
       "                        <td id=\"T_8b8e6b02_bfdb_11ea_b20a_9cb6d0e02a1frow1_col1\" class=\"data row1 col1\" >1.000</td>\n",
       "                        <td id=\"T_8b8e6b02_bfdb_11ea_b20a_9cb6d0e02a1frow1_col2\" class=\"data row1 col2\" >-0.003</td>\n",
       "                        <td id=\"T_8b8e6b02_bfdb_11ea_b20a_9cb6d0e02a1frow1_col3\" class=\"data row1 col3\" >0.147</td>\n",
       "                        <td id=\"T_8b8e6b02_bfdb_11ea_b20a_9cb6d0e02a1frow1_col4\" class=\"data row1 col4\" >-0.014</td>\n",
       "                        <td id=\"T_8b8e6b02_bfdb_11ea_b20a_9cb6d0e02a1frow1_col5\" class=\"data row1 col5\" >-0.026</td>\n",
       "                        <td id=\"T_8b8e6b02_bfdb_11ea_b20a_9cb6d0e02a1frow1_col6\" class=\"data row1 col6\" >0.141</td>\n",
       "                        <td id=\"T_8b8e6b02_bfdb_11ea_b20a_9cb6d0e02a1frow1_col7\" class=\"data row1 col7\" >0.141</td>\n",
       "                        <td id=\"T_8b8e6b02_bfdb_11ea_b20a_9cb6d0e02a1frow1_col8\" class=\"data row1 col8\" >-0.003</td>\n",
       "            </tr>\n",
       "            <tr>\n",
       "                        <th id=\"T_8b8e6b02_bfdb_11ea_b20a_9cb6d0e02a1flevel0_row2\" class=\"row_heading level0 row2\" >attribute3</th>\n",
       "                        <td id=\"T_8b8e6b02_bfdb_11ea_b20a_9cb6d0e02a1frow2_col0\" class=\"data row2 col0\" >0.004</td>\n",
       "                        <td id=\"T_8b8e6b02_bfdb_11ea_b20a_9cb6d0e02a1frow2_col1\" class=\"data row2 col1\" >-0.003</td>\n",
       "                        <td id=\"T_8b8e6b02_bfdb_11ea_b20a_9cb6d0e02a1frow2_col2\" class=\"data row2 col2\" >1.000</td>\n",
       "                        <td id=\"T_8b8e6b02_bfdb_11ea_b20a_9cb6d0e02a1frow2_col3\" class=\"data row2 col3\" >0.097</td>\n",
       "                        <td id=\"T_8b8e6b02_bfdb_11ea_b20a_9cb6d0e02a1frow2_col4\" class=\"data row2 col4\" >-0.007</td>\n",
       "                        <td id=\"T_8b8e6b02_bfdb_11ea_b20a_9cb6d0e02a1frow2_col5\" class=\"data row2 col5\" >0.009</td>\n",
       "                        <td id=\"T_8b8e6b02_bfdb_11ea_b20a_9cb6d0e02a1frow2_col6\" class=\"data row2 col6\" >-0.002</td>\n",
       "                        <td id=\"T_8b8e6b02_bfdb_11ea_b20a_9cb6d0e02a1frow2_col7\" class=\"data row2 col7\" >-0.002</td>\n",
       "                        <td id=\"T_8b8e6b02_bfdb_11ea_b20a_9cb6d0e02a1frow2_col8\" class=\"data row2 col8\" >0.532</td>\n",
       "            </tr>\n",
       "            <tr>\n",
       "                        <th id=\"T_8b8e6b02_bfdb_11ea_b20a_9cb6d0e02a1flevel0_row3\" class=\"row_heading level0 row3\" >attribute4</th>\n",
       "                        <td id=\"T_8b8e6b02_bfdb_11ea_b20a_9cb6d0e02a1frow3_col0\" class=\"data row3 col0\" >0.002</td>\n",
       "                        <td id=\"T_8b8e6b02_bfdb_11ea_b20a_9cb6d0e02a1frow3_col1\" class=\"data row3 col1\" >0.147</td>\n",
       "                        <td id=\"T_8b8e6b02_bfdb_11ea_b20a_9cb6d0e02a1frow3_col2\" class=\"data row3 col2\" >0.097</td>\n",
       "                        <td id=\"T_8b8e6b02_bfdb_11ea_b20a_9cb6d0e02a1frow3_col3\" class=\"data row3 col3\" >1.000</td>\n",
       "                        <td id=\"T_8b8e6b02_bfdb_11ea_b20a_9cb6d0e02a1frow3_col4\" class=\"data row3 col4\" >-0.010</td>\n",
       "                        <td id=\"T_8b8e6b02_bfdb_11ea_b20a_9cb6d0e02a1frow3_col5\" class=\"data row3 col5\" >0.025</td>\n",
       "                        <td id=\"T_8b8e6b02_bfdb_11ea_b20a_9cb6d0e02a1frow3_col6\" class=\"data row3 col6\" >0.046</td>\n",
       "                        <td id=\"T_8b8e6b02_bfdb_11ea_b20a_9cb6d0e02a1frow3_col7\" class=\"data row3 col7\" >0.046</td>\n",
       "                        <td id=\"T_8b8e6b02_bfdb_11ea_b20a_9cb6d0e02a1frow3_col8\" class=\"data row3 col8\" >0.036</td>\n",
       "            </tr>\n",
       "            <tr>\n",
       "                        <th id=\"T_8b8e6b02_bfdb_11ea_b20a_9cb6d0e02a1flevel0_row4\" class=\"row_heading level0 row4\" >attribute5</th>\n",
       "                        <td id=\"T_8b8e6b02_bfdb_11ea_b20a_9cb6d0e02a1frow4_col0\" class=\"data row4 col0\" >-0.003</td>\n",
       "                        <td id=\"T_8b8e6b02_bfdb_11ea_b20a_9cb6d0e02a1frow4_col1\" class=\"data row4 col1\" >-0.014</td>\n",
       "                        <td id=\"T_8b8e6b02_bfdb_11ea_b20a_9cb6d0e02a1frow4_col2\" class=\"data row4 col2\" >-0.007</td>\n",
       "                        <td id=\"T_8b8e6b02_bfdb_11ea_b20a_9cb6d0e02a1frow4_col3\" class=\"data row4 col3\" >-0.010</td>\n",
       "                        <td id=\"T_8b8e6b02_bfdb_11ea_b20a_9cb6d0e02a1frow4_col4\" class=\"data row4 col4\" >1.000</td>\n",
       "                        <td id=\"T_8b8e6b02_bfdb_11ea_b20a_9cb6d0e02a1frow4_col5\" class=\"data row4 col5\" >-0.017</td>\n",
       "                        <td id=\"T_8b8e6b02_bfdb_11ea_b20a_9cb6d0e02a1frow4_col6\" class=\"data row4 col6\" >-0.009</td>\n",
       "                        <td id=\"T_8b8e6b02_bfdb_11ea_b20a_9cb6d0e02a1frow4_col7\" class=\"data row4 col7\" >-0.009</td>\n",
       "                        <td id=\"T_8b8e6b02_bfdb_11ea_b20a_9cb6d0e02a1frow4_col8\" class=\"data row4 col8\" >0.006</td>\n",
       "            </tr>\n",
       "            <tr>\n",
       "                        <th id=\"T_8b8e6b02_bfdb_11ea_b20a_9cb6d0e02a1flevel0_row5\" class=\"row_heading level0 row5\" >attribute6</th>\n",
       "                        <td id=\"T_8b8e6b02_bfdb_11ea_b20a_9cb6d0e02a1frow5_col0\" class=\"data row5 col0\" >-0.002</td>\n",
       "                        <td id=\"T_8b8e6b02_bfdb_11ea_b20a_9cb6d0e02a1frow5_col1\" class=\"data row5 col1\" >-0.026</td>\n",
       "                        <td id=\"T_8b8e6b02_bfdb_11ea_b20a_9cb6d0e02a1frow5_col2\" class=\"data row5 col2\" >0.009</td>\n",
       "                        <td id=\"T_8b8e6b02_bfdb_11ea_b20a_9cb6d0e02a1frow5_col3\" class=\"data row5 col3\" >0.025</td>\n",
       "                        <td id=\"T_8b8e6b02_bfdb_11ea_b20a_9cb6d0e02a1frow5_col4\" class=\"data row5 col4\" >-0.017</td>\n",
       "                        <td id=\"T_8b8e6b02_bfdb_11ea_b20a_9cb6d0e02a1frow5_col5\" class=\"data row5 col5\" >1.000</td>\n",
       "                        <td id=\"T_8b8e6b02_bfdb_11ea_b20a_9cb6d0e02a1frow5_col6\" class=\"data row5 col6\" >-0.012</td>\n",
       "                        <td id=\"T_8b8e6b02_bfdb_11ea_b20a_9cb6d0e02a1frow5_col7\" class=\"data row5 col7\" >-0.012</td>\n",
       "                        <td id=\"T_8b8e6b02_bfdb_11ea_b20a_9cb6d0e02a1frow5_col8\" class=\"data row5 col8\" >0.021</td>\n",
       "            </tr>\n",
       "            <tr>\n",
       "                        <th id=\"T_8b8e6b02_bfdb_11ea_b20a_9cb6d0e02a1flevel0_row6\" class=\"row_heading level0 row6\" >attribute7</th>\n",
       "                        <td id=\"T_8b8e6b02_bfdb_11ea_b20a_9cb6d0e02a1frow6_col0\" class=\"data row6 col0\" >0.000</td>\n",
       "                        <td id=\"T_8b8e6b02_bfdb_11ea_b20a_9cb6d0e02a1frow6_col1\" class=\"data row6 col1\" >0.141</td>\n",
       "                        <td id=\"T_8b8e6b02_bfdb_11ea_b20a_9cb6d0e02a1frow6_col2\" class=\"data row6 col2\" >-0.002</td>\n",
       "                        <td id=\"T_8b8e6b02_bfdb_11ea_b20a_9cb6d0e02a1frow6_col3\" class=\"data row6 col3\" >0.046</td>\n",
       "                        <td id=\"T_8b8e6b02_bfdb_11ea_b20a_9cb6d0e02a1frow6_col4\" class=\"data row6 col4\" >-0.009</td>\n",
       "                        <td id=\"T_8b8e6b02_bfdb_11ea_b20a_9cb6d0e02a1frow6_col5\" class=\"data row6 col5\" >-0.012</td>\n",
       "                        <td id=\"T_8b8e6b02_bfdb_11ea_b20a_9cb6d0e02a1frow6_col6\" class=\"data row6 col6\" >1.000</td>\n",
       "                        <td id=\"T_8b8e6b02_bfdb_11ea_b20a_9cb6d0e02a1frow6_col7\" class=\"data row6 col7\" >1.000</td>\n",
       "                        <td id=\"T_8b8e6b02_bfdb_11ea_b20a_9cb6d0e02a1frow6_col8\" class=\"data row6 col8\" >0.007</td>\n",
       "            </tr>\n",
       "            <tr>\n",
       "                        <th id=\"T_8b8e6b02_bfdb_11ea_b20a_9cb6d0e02a1flevel0_row7\" class=\"row_heading level0 row7\" >attribute8</th>\n",
       "                        <td id=\"T_8b8e6b02_bfdb_11ea_b20a_9cb6d0e02a1frow7_col0\" class=\"data row7 col0\" >0.000</td>\n",
       "                        <td id=\"T_8b8e6b02_bfdb_11ea_b20a_9cb6d0e02a1frow7_col1\" class=\"data row7 col1\" >0.141</td>\n",
       "                        <td id=\"T_8b8e6b02_bfdb_11ea_b20a_9cb6d0e02a1frow7_col2\" class=\"data row7 col2\" >-0.002</td>\n",
       "                        <td id=\"T_8b8e6b02_bfdb_11ea_b20a_9cb6d0e02a1frow7_col3\" class=\"data row7 col3\" >0.046</td>\n",
       "                        <td id=\"T_8b8e6b02_bfdb_11ea_b20a_9cb6d0e02a1frow7_col4\" class=\"data row7 col4\" >-0.009</td>\n",
       "                        <td id=\"T_8b8e6b02_bfdb_11ea_b20a_9cb6d0e02a1frow7_col5\" class=\"data row7 col5\" >-0.012</td>\n",
       "                        <td id=\"T_8b8e6b02_bfdb_11ea_b20a_9cb6d0e02a1frow7_col6\" class=\"data row7 col6\" >1.000</td>\n",
       "                        <td id=\"T_8b8e6b02_bfdb_11ea_b20a_9cb6d0e02a1frow7_col7\" class=\"data row7 col7\" >1.000</td>\n",
       "                        <td id=\"T_8b8e6b02_bfdb_11ea_b20a_9cb6d0e02a1frow7_col8\" class=\"data row7 col8\" >0.007</td>\n",
       "            </tr>\n",
       "            <tr>\n",
       "                        <th id=\"T_8b8e6b02_bfdb_11ea_b20a_9cb6d0e02a1flevel0_row8\" class=\"row_heading level0 row8\" >attribute9</th>\n",
       "                        <td id=\"T_8b8e6b02_bfdb_11ea_b20a_9cb6d0e02a1frow8_col0\" class=\"data row8 col0\" >0.001</td>\n",
       "                        <td id=\"T_8b8e6b02_bfdb_11ea_b20a_9cb6d0e02a1frow8_col1\" class=\"data row8 col1\" >-0.003</td>\n",
       "                        <td id=\"T_8b8e6b02_bfdb_11ea_b20a_9cb6d0e02a1frow8_col2\" class=\"data row8 col2\" >0.532</td>\n",
       "                        <td id=\"T_8b8e6b02_bfdb_11ea_b20a_9cb6d0e02a1frow8_col3\" class=\"data row8 col3\" >0.036</td>\n",
       "                        <td id=\"T_8b8e6b02_bfdb_11ea_b20a_9cb6d0e02a1frow8_col4\" class=\"data row8 col4\" >0.006</td>\n",
       "                        <td id=\"T_8b8e6b02_bfdb_11ea_b20a_9cb6d0e02a1frow8_col5\" class=\"data row8 col5\" >0.021</td>\n",
       "                        <td id=\"T_8b8e6b02_bfdb_11ea_b20a_9cb6d0e02a1frow8_col6\" class=\"data row8 col6\" >0.007</td>\n",
       "                        <td id=\"T_8b8e6b02_bfdb_11ea_b20a_9cb6d0e02a1frow8_col7\" class=\"data row8 col7\" >0.007</td>\n",
       "                        <td id=\"T_8b8e6b02_bfdb_11ea_b20a_9cb6d0e02a1frow8_col8\" class=\"data row8 col8\" >1.000</td>\n",
       "            </tr>\n",
       "    </tbody></table>"
      ],
      "text/plain": [
       "<pandas.io.formats.style.Styler at 0x7fd8d7920518>"
      ]
     },
     "execution_count": 14,
     "metadata": {},
     "output_type": "execute_result"
    }
   ],
   "source": [
    "# We can also look at the correlation matrix between variables:\n",
    "\n",
    "corr = devices[process_cols].corr() \n",
    "corr.style.background_gradient(cmap='coolwarm').set_precision(3)"
   ]
  },
  {
   "cell_type": "markdown",
   "metadata": {},
   "source": [
    "We can see a very important issue here: attribute7 and attribute8 have correlation 1 and the same distribution. \n",
    "\n",
    "Most likely they are equal, but still no new information will be generated by keeping both variables."
   ]
  },
  {
   "cell_type": "code",
   "execution_count": 28,
   "metadata": {},
   "outputs": [],
   "source": [
    "devices.drop(columns=[\"attribute7\"], axis=1, inplace=True)\n",
    "\n",
    "# And we remove it also from the list of attributes for processing\n",
    "\n",
    "process_cols.remove('attribute7')"
   ]
  },
  {
   "cell_type": "code",
   "execution_count": 29,
   "metadata": {},
   "outputs": [
    {
     "data": {
      "text/plain": [
       "failure       1.000000\n",
       "attribute8    0.119055\n",
       "attribute4    0.067398\n",
       "attribute2    0.052902\n",
       "attribute5    0.002270\n",
       "attribute1    0.001983\n",
       "attribute9    0.001622\n",
       "attribute6   -0.000550\n",
       "attribute3   -0.000948\n",
       "tag          -0.095136\n",
       "Name: failure, dtype: float64"
      ]
     },
     "execution_count": 29,
     "metadata": {},
     "output_type": "execute_result"
    }
   ],
   "source": [
    "# We can look now to linear correlation between variables and the target:\n",
    "\n",
    "devices.corr()['failure'].sort_values(ascending=False)"
   ]
  },
  {
   "cell_type": "markdown",
   "metadata": {},
   "source": [
    "__Feature Selection__"
   ]
  },
  {
   "cell_type": "markdown",
   "metadata": {},
   "source": [
    " Before we proceed to selection method, attributes need to be standarized since ranges differ from each other and this will cause truble with selection by logistic regression."
   ]
  },
  {
   "cell_type": "code",
   "execution_count": 30,
   "metadata": {},
   "outputs": [],
   "source": [
    "# We create two pipelines for processing data so that we have them available for later use:\n",
    "\n",
    "# We reserve PCA pipeline if needed.\n",
    "\n",
    "num_pipeline = Pipeline([\n",
    "    (\"estandarizador\", StandardScaler())\n",
    "])\n",
    "\n",
    "\n",
    "pipeline = ColumnTransformer([\n",
    "    (\"cont\", num_pipeline, process_cols)#,\n",
    "    #(\"pcas\", PCA(n_components = 1, random_state=2020), process_cols)\n",
    "])"
   ]
  },
  {
   "cell_type": "code",
   "execution_count": 19,
   "metadata": {},
   "outputs": [],
   "source": [
    "df_num = pipeline.fit_transform(devices)"
   ]
  },
  {
   "cell_type": "code",
   "execution_count": 36,
   "metadata": {},
   "outputs": [],
   "source": [
    "std_cols = ['x1', 'x2', 'x3' , 'x4', 'x5', 'x6', 'x7' , 'x8']"
   ]
  },
  {
   "cell_type": "code",
   "execution_count": 37,
   "metadata": {},
   "outputs": [],
   "source": [
    "df_num = pd.DataFrame(df_num, columns=std_cols)"
   ]
  },
  {
   "cell_type": "code",
   "execution_count": 38,
   "metadata": {},
   "outputs": [],
   "source": [
    "df_num[\"y\"] = devices[\"failure\"]"
   ]
  },
  {
   "cell_type": "code",
   "execution_count": 39,
   "metadata": {},
   "outputs": [
    {
     "data": {
      "text/html": [
       "<div>\n",
       "<style scoped>\n",
       "    .dataframe tbody tr th:only-of-type {\n",
       "        vertical-align: middle;\n",
       "    }\n",
       "\n",
       "    .dataframe tbody tr th {\n",
       "        vertical-align: top;\n",
       "    }\n",
       "\n",
       "    .dataframe thead th {\n",
       "        text-align: right;\n",
       "    }\n",
       "</style>\n",
       "<table border=\"1\" class=\"dataframe\">\n",
       "  <thead>\n",
       "    <tr style=\"text-align: right;\">\n",
       "      <th></th>\n",
       "      <th>x1</th>\n",
       "      <th>x2</th>\n",
       "      <th>x3</th>\n",
       "      <th>x4</th>\n",
       "      <th>x5</th>\n",
       "      <th>x6</th>\n",
       "      <th>x7</th>\n",
       "      <th>x8</th>\n",
       "      <th>y</th>\n",
       "    </tr>\n",
       "  </thead>\n",
       "  <tbody>\n",
       "    <tr>\n",
       "      <th>0</th>\n",
       "      <td>1.323358</td>\n",
       "      <td>-0.047478</td>\n",
       "      <td>-0.053516</td>\n",
       "      <td>2.193905</td>\n",
       "      <td>-0.515755</td>\n",
       "      <td>1.485268</td>\n",
       "      <td>-0.039335</td>\n",
       "      <td>-0.028479</td>\n",
       "      <td>0</td>\n",
       "    </tr>\n",
       "    <tr>\n",
       "      <th>1</th>\n",
       "      <td>-0.865998</td>\n",
       "      <td>-0.073170</td>\n",
       "      <td>-0.037365</td>\n",
       "      <td>-0.076004</td>\n",
       "      <td>-0.515755</td>\n",
       "      <td>1.442263</td>\n",
       "      <td>-0.039335</td>\n",
       "      <td>-0.065047</td>\n",
       "      <td>0</td>\n",
       "    </tr>\n",
       "    <tr>\n",
       "      <th>2</th>\n",
       "      <td>0.722517</td>\n",
       "      <td>-0.073170</td>\n",
       "      <td>-0.053516</td>\n",
       "      <td>-0.076004</td>\n",
       "      <td>-0.139414</td>\n",
       "      <td>-0.229738</td>\n",
       "      <td>-0.039335</td>\n",
       "      <td>-0.065047</td>\n",
       "      <td>0</td>\n",
       "    </tr>\n",
       "    <tr>\n",
       "      <th>3</th>\n",
       "      <td>-0.605942</td>\n",
       "      <td>-0.073170</td>\n",
       "      <td>-0.053516</td>\n",
       "      <td>-0.076004</td>\n",
       "      <td>-0.515755</td>\n",
       "      <td>1.512983</td>\n",
       "      <td>-0.039335</td>\n",
       "      <td>-0.065047</td>\n",
       "      <td>0</td>\n",
       "    </tr>\n",
       "    <tr>\n",
       "      <th>4</th>\n",
       "      <td>0.192770</td>\n",
       "      <td>-0.073170</td>\n",
       "      <td>-0.053516</td>\n",
       "      <td>-0.076004</td>\n",
       "      <td>0.048757</td>\n",
       "      <td>0.534543</td>\n",
       "      <td>-0.039335</td>\n",
       "      <td>-0.049375</td>\n",
       "      <td>0</td>\n",
       "    </tr>\n",
       "  </tbody>\n",
       "</table>\n",
       "</div>"
      ],
      "text/plain": [
       "         x1        x2        x3        x4        x5        x6        x7  \\\n",
       "0  1.323358 -0.047478 -0.053516  2.193905 -0.515755  1.485268 -0.039335   \n",
       "1 -0.865998 -0.073170 -0.037365 -0.076004 -0.515755  1.442263 -0.039335   \n",
       "2  0.722517 -0.073170 -0.053516 -0.076004 -0.139414 -0.229738 -0.039335   \n",
       "3 -0.605942 -0.073170 -0.053516 -0.076004 -0.515755  1.512983 -0.039335   \n",
       "4  0.192770 -0.073170 -0.053516 -0.076004  0.048757  0.534543 -0.039335   \n",
       "\n",
       "         x8  y  \n",
       "0 -0.028479  0  \n",
       "1 -0.065047  0  \n",
       "2 -0.065047  0  \n",
       "3 -0.065047  0  \n",
       "4 -0.049375  0  "
      ]
     },
     "execution_count": 39,
     "metadata": {},
     "output_type": "execute_result"
    }
   ],
   "source": [
    "df_num.head()"
   ]
  },
  {
   "cell_type": "code",
   "execution_count": 40,
   "metadata": {},
   "outputs": [],
   "source": [
    "X = df_num[std_cols].values\n",
    "Y = df_num.y"
   ]
  },
  {
   "cell_type": "code",
   "execution_count": 41,
   "metadata": {},
   "outputs": [],
   "source": [
    "poly = PolynomialFeatures(interaction_only=True)\n",
    "X_int = poly.fit_transform(X)"
   ]
  },
  {
   "cell_type": "code",
   "execution_count": 42,
   "metadata": {},
   "outputs": [
    {
     "data": {
      "text/plain": [
       "array([[-0.49533753,  0.18914722,  1.24371904, -5.52573988,  0.84532227,\n",
       "        -0.23263094,  0.28724526,  1.48718155, -1.41304512, -0.11276852,\n",
       "         1.85475531, -0.28057735,  0.17412718, -0.01439656,  0.44078069,\n",
       "         1.52082723, -0.29364314, -0.02108822,  0.97060255,  0.91767086,\n",
       "        -0.41926479,  1.03249105, -3.81830848, -6.05914619,  4.65637122,\n",
       "        -0.47385241, -0.50548736,  0.65569993, -0.77778383,  0.14528875,\n",
       "        -3.29678448,  0.39791156,  0.45544156, -1.15487165,  0.18035603,\n",
       "        -0.51614393, -0.13894346]])"
      ]
     },
     "execution_count": 42,
     "metadata": {},
     "output_type": "execute_result"
    }
   ],
   "source": [
    "selector = SelectFromModel(estimator=LogisticRegression(class_weight='balanced',\n",
    "                                                        max_iter=200,\n",
    "                                                        random_state=2020), \n",
    "                           threshold = 'median').fit(X_int, Y)\n",
    "selector.estimator_.coef_"
   ]
  },
  {
   "cell_type": "code",
   "execution_count": 43,
   "metadata": {},
   "outputs": [
    {
     "data": {
      "text/plain": [
       "array([False, False,  True,  True,  True, False, False,  True,  True,\n",
       "       False,  True, False, False, False, False,  True, False, False,\n",
       "        True,  True, False,  True,  True,  True,  True, False,  True,\n",
       "        True,  True, False,  True, False, False,  True, False,  True,\n",
       "       False])"
      ]
     },
     "execution_count": 43,
     "metadata": {},
     "output_type": "execute_result"
    }
   ],
   "source": [
    "selector.get_support()"
   ]
  },
  {
   "cell_type": "code",
   "execution_count": 44,
   "metadata": {},
   "outputs": [
    {
     "data": {
      "text/plain": [
       "0.5054873617015109"
      ]
     },
     "execution_count": 44,
     "metadata": {},
     "output_type": "execute_result"
    }
   ],
   "source": [
    "selector.threshold_"
   ]
  },
  {
   "cell_type": "markdown",
   "metadata": {},
   "source": [
    "We have a second conclusion: by feature selection with a logistic regression, we can drop the nearly uniformly distributed variable: attribute1 and others that show almost no correlation to the target. \n",
    "\n",
    "This is only a way to select a *strategy*: first we'll try with all the variables and only drop the ones we detect here to get better performance.\n",
    "\n",
    "A third conclusion is the need for *interactions*, these mean nonlinear relation between attributes to help predicting the target.  \n",
    "\n",
    "A good direction to take this nonlinear relations into account is the use of tree-based algorithms.\n",
    "\n",
    "So, now we can draw a strategy for modelling: we'll try tree-based algorithms as benchmarks and from there we can search for an optimal model. Since nonlinear relations seem to be in the play, we can also try neural network architecture to solve our classification task."
   ]
  },
  {
   "cell_type": "markdown",
   "metadata": {},
   "source": [
    "# Modelling: Benchmark"
   ]
  },
  {
   "cell_type": "code",
   "execution_count": 31,
   "metadata": {},
   "outputs": [],
   "source": [
    "###################\n",
    "# target variable\n",
    "y = devices.failure\n",
    "###################\n",
    "\n",
    "# We separate in train and test sets to measure the performance and to test generalization capacity of the models.\n",
    "\n",
    "X_train, X_test, y_train, y_test = train_test_split(devices[process_cols],y,\n",
    "                                                    test_size=0.3, \n",
    "                                                    stratify= y, \n",
    "                                                    random_state=2020)\n",
    "\n",
    "# For the a later case we use the standarization pipeline build before.\n",
    "# We apply it separately to avoid data leakage\n",
    "\n",
    "X_train_lg = pipeline.fit_transform(X_train)\n",
    "X_test_lg = pipeline.fit_transform(X_test)\n",
    "\n",
    "#################################################"
   ]
  },
  {
   "cell_type": "markdown",
   "metadata": {},
   "source": [
    " Because we are dealing with imbalanced classes, not too many failures, it is a good practice to use a library to help over samplig.\n",
    "\n",
    " SMOTE is a technique used to help in the situation we have.\n",
    "\n",
    " SMOTE was proposed in \n",
    "\n",
    " Bowyer, et al., 2002, SMOTE: Synthetic Minority Over-sampling Technique, \n",
    " Journal of Artificial Intelligence Research 16 (2002) 321–357 \n",
    " (https://arxiv.org/pdf/1106.1813.pdf, accessed on July 2020)."
   ]
  },
  {
   "cell_type": "code",
   "execution_count": 32,
   "metadata": {},
   "outputs": [],
   "source": [
    "sm = SMOTE(random_state = 2)\n",
    "\n",
    "# over sampling for stadandarized sets:\n",
    "\n",
    "X_train_rlg, y_train_rlg = sm.fit_sample(X_train_lg, y_train.ravel())\n",
    "\n",
    "# We'll try tree based algorithms so we have no need to stadandarize, but still have to balance the sets:\n",
    "\n",
    "X_train_res, y_train_res = sm.fit_sample(X_train, y_train.ravel())"
   ]
  },
  {
   "cell_type": "code",
   "execution_count": 55,
   "metadata": {},
   "outputs": [],
   "source": [
    "y_train_rlg = pd.DataFrame(y_train_rlg, columns=['y'])\n",
    "X_train_rlg = pd.DataFrame(X_train_rlg, columns=process_cols)\n",
    "X_test_lg = pd.DataFrame(X_test_lg, columns=process_cols, index=X_test.index)\n",
    "X_train_lg = pd.DataFrame(X_train_lg, columns=process_cols, index=X_train.index)\n",
    "X_train_res = pd.DataFrame(X_train_res, columns=process_cols)\n",
    "y_train_res = pd.DataFrame(y_train_rlg, columns=['y'])"
   ]
  },
  {
   "cell_type": "markdown",
   "metadata": {},
   "source": [
    "## PROTOTYPES"
   ]
  },
  {
   "cell_type": "markdown",
   "metadata": {},
   "source": [
    "The simplest prototypes we can try are decission trees. But we'll build also the popular ensembles: random forest and gradient boosting machines.\n"
   ]
  },
  {
   "cell_type": "code",
   "execution_count": 34,
   "metadata": {},
   "outputs": [],
   "source": [
    "# To test these benchmarks we'll copy the devices data frame:\n",
    "eval_devices = devices.copy()\n",
    "\n",
    "# And weork with this to save results."
   ]
  },
  {
   "cell_type": "code",
   "execution_count": 138,
   "metadata": {},
   "outputs": [],
   "source": [
    "# Decission Tree Classifier\n",
    "\n",
    "dtc = DecisionTreeClassifier(max_depth=8, criterion = 'entropy',\n",
    "                                  max_features=\"auto\", \n",
    "                                  class_weight=\"balanced\", \n",
    "                                  min_samples_split = 10,\n",
    "                                  #ccp_alpha= 0.0001,\n",
    "                                  random_state=2020)\n",
    "\n",
    "dtc = dtc.fit(X_train_res,y_train_res)"
   ]
  },
  {
   "cell_type": "code",
   "execution_count": 36,
   "metadata": {},
   "outputs": [],
   "source": [
    "# Random Forest Classifier\n",
    "\n",
    "rfc = RandomForestClassifier(n_estimators=260, \n",
    "        max_features='auto', max_depth= 8,\n",
    "        bootstrap=True, ccp_alpha = 0.0001,\n",
    "        oob_score=True, n_jobs=-1, random_state=2020, \n",
    "        class_weight='balanced')\n",
    "\n",
    "rfc = rfc.fit(X_train_res,y_train_res)"
   ]
  },
  {
   "cell_type": "code",
   "execution_count": 37,
   "metadata": {},
   "outputs": [],
   "source": [
    "# Gradient Boosting Classifier\n",
    "\n",
    "gbc = GradientBoostingClassifier(learning_rate=0.005, \n",
    "                           max_features=7, validation_fraction=0.1, \n",
    "                           n_estimators=250, n_iter_no_change=12,\n",
    "                           random_state=2020, subsample=0.95)\n",
    "\n",
    "# In the experiments dopne before constructing the report, it's a good remark that theres no need for too many estimators.\n",
    "\n",
    "gbc = gbc.fit(X_train_res, y_train_res)"
   ]
  },
  {
   "cell_type": "markdown",
   "metadata": {},
   "source": [
    "In this step, we go to the usual evaluation on train and test sets. And present the classification report:"
   ]
  },
  {
   "cell_type": "code",
   "execution_count": 139,
   "metadata": {},
   "outputs": [
    {
     "name": "stdout",
     "output_type": "stream",
     "text": [
      "Accuracy DTC on train 0.9460439497389408\n",
      "Accuracy DTC on test 0.9449516720661865\n",
      "Accuracy RFC on train 0.962568133570486\n",
      "Accuracy RFC on test 0.9612037805563737\n",
      "Accuracy GBC on train 0.9042056342876814\n",
      "Accuracy GBC on test 0.9049238266084768\n"
     ]
    }
   ],
   "source": [
    "print('Accuracy DTC on train',dtc.score(X_train, y_train))\n",
    "print('Accuracy DTC on test',dtc.score(X_test, y_test))\n",
    "\n",
    "print('Accuracy RFC on train',rfc.score(X_train, y_train))\n",
    "print('Accuracy RFC on test',rfc.score(X_test, y_test))\n",
    "\n",
    "\n",
    "print('Accuracy GBC on train',gbc.score(X_train, y_train))\n",
    "print('Accuracy GBC on test',gbc.score(X_test, y_test))"
   ]
  },
  {
   "cell_type": "code",
   "execution_count": 140,
   "metadata": {},
   "outputs": [
    {
     "name": "stdout",
     "output_type": "stream",
     "text": [
      "              precision    recall  f1-score   support\n",
      "\n",
      "           0       0.95      1.00      0.97     35291\n",
      "           1       0.53      0.01      0.02      2058\n",
      "\n",
      "    accuracy                           0.94     37349\n",
      "   macro avg       0.74      0.50      0.49     37349\n",
      "weighted avg       0.92      0.94      0.92     37349\n",
      "\n",
      "              precision    recall  f1-score   support\n",
      "\n",
      "           0       0.96      1.00      0.98     35892\n",
      "           1       0.62      0.01      0.03      1457\n",
      "\n",
      "    accuracy                           0.96     37349\n",
      "   macro avg       0.79      0.51      0.50     37349\n",
      "weighted avg       0.95      0.96      0.94     37349\n",
      "\n",
      "              precision    recall  f1-score   support\n",
      "\n",
      "           0       0.91      1.00      0.95     33778\n",
      "           1       0.81      0.01      0.01      3571\n",
      "\n",
      "    accuracy                           0.90     37349\n",
      "   macro avg       0.86      0.50      0.48     37349\n",
      "weighted avg       0.90      0.90      0.86     37349\n",
      "\n"
     ]
    }
   ],
   "source": [
    "# In the following reports, the cutoff at 0.5 is used by default:\n",
    "\n",
    "classes_dtc = dtc.predict(X_test)\n",
    "print(classification_report(classes_dtc, y_test))\n",
    "\n",
    "classes_rfc = rfc.predict(X_test)\n",
    "print(classification_report(classes_rfc, y_test))\n",
    "\n",
    "classes_gbc = gbc.predict(X_test)\n",
    "print(classification_report(classes_gbc, y_test))"
   ]
  },
  {
   "cell_type": "markdown",
   "metadata": {},
   "source": [
    "Now we can put the labels and report what happens in the failure detection case:"
   ]
  },
  {
   "cell_type": "code",
   "execution_count": 40,
   "metadata": {},
   "outputs": [],
   "source": [
    "eval_devices[\"predict_dtc\"] = dtc.predict_proba(eval_devices[process_cols])[:,1]\n",
    "eval_devices[\"predict_rfc\"] = rfc.predict_proba(eval_devices[process_cols])[:,1] \n",
    "eval_devices[\"predict_gbc\"] = gbc.predict_proba(eval_devices[process_cols])[:,1]"
   ]
  },
  {
   "cell_type": "code",
   "execution_count": 41,
   "metadata": {},
   "outputs": [],
   "source": [
    "eval_devices.loc[:, 'label_dtc'] = 1 * (eval_devices.loc[:, 'predict_dtc'] > .6) \n",
    "eval_devices.loc[:, 'label_rfc'] = 1 * (eval_devices.loc[:, 'predict_rfc'] > .6) \n",
    "eval_devices.loc[:, 'label_gbc'] = 1 * (eval_devices.loc[:, 'predict_gbc'] > .6) "
   ]
  },
  {
   "cell_type": "code",
   "execution_count": 42,
   "metadata": {},
   "outputs": [
    {
     "data": {
      "text/plain": [
       "1    0.688679\n",
       "0    0.311321\n",
       "Name: label_dtc, dtype: float64"
      ]
     },
     "execution_count": 42,
     "metadata": {},
     "output_type": "execute_result"
    }
   ],
   "source": [
    "eval_devices[eval_devices.failure==1].label_dtc.value_counts(normalize=True)"
   ]
  },
  {
   "cell_type": "code",
   "execution_count": 45,
   "metadata": {},
   "outputs": [
    {
     "data": {
      "text/plain": [
       "1    0.641509\n",
       "0    0.358491\n",
       "Name: label_rfc, dtype: float64"
      ]
     },
     "execution_count": 45,
     "metadata": {},
     "output_type": "execute_result"
    }
   ],
   "source": [
    "eval_devices[eval_devices.failure==1].label_rfc.value_counts(normalize=True)"
   ]
  },
  {
   "cell_type": "code",
   "execution_count": 46,
   "metadata": {},
   "outputs": [
    {
     "data": {
      "text/plain": [
       "1    0.688679\n",
       "0    0.311321\n",
       "Name: label_gbc, dtype: float64"
      ]
     },
     "execution_count": 46,
     "metadata": {},
     "output_type": "execute_result"
    }
   ],
   "source": [
    "eval_devices[eval_devices.failure==1].label_gbc.value_counts(normalize=True)"
   ]
  },
  {
   "cell_type": "markdown",
   "metadata": {},
   "source": [
    "We save the prototypes for later use and comparison."
   ]
  },
  {
   "cell_type": "code",
   "execution_count": 50,
   "metadata": {},
   "outputs": [],
   "source": [
    "pickle.dump(dtc, open('dtc.pkl', 'wb'))"
   ]
  },
  {
   "cell_type": "code",
   "execution_count": 51,
   "metadata": {},
   "outputs": [],
   "source": [
    "pickle.dump(rfc, open('rfc.pkl', 'wb'))"
   ]
  },
  {
   "cell_type": "code",
   "execution_count": 52,
   "metadata": {},
   "outputs": [],
   "source": [
    "pickle.dump(gbc, open('gbc.pkl', 'wb'))"
   ]
  },
  {
   "cell_type": "markdown",
   "metadata": {},
   "source": [
    "# TUNE THE PROTOTYPES"
   ]
  },
  {
   "cell_type": "markdown",
   "metadata": {},
   "source": [
    "The following step is to work with this prototypes to optimize an error function and with the help of the Precision-Recall curves do a better job at choosing the right model."
   ]
  },
  {
   "cell_type": "markdown",
   "metadata": {},
   "source": [
    "## DECISION TREE CLASSIFIER"
   ]
  },
  {
   "cell_type": "code",
   "execution_count": 167,
   "metadata": {},
   "outputs": [],
   "source": [
    "dtc_k = DecisionTreeClassifier(max_depth=8, criterion = 'gini',\n",
    "                                  max_features=\"auto\", \n",
    "                                  class_weight=\"balanced\", \n",
    "                                  min_samples_split = 15,\n",
    "                                  #ccp_alpha= 0.0001,\n",
    "                                  random_state=2020)"
   ]
  },
  {
   "cell_type": "code",
   "execution_count": 168,
   "metadata": {},
   "outputs": [],
   "source": [
    "trainingScores = []\n",
    "cvScores = []\n",
    "predictionsBasedOnKFolds = pd.DataFrame(data=[],\n",
    "                                        index=y_train_res.index,columns=[0,1])\n",
    "\n",
    "k_fold = StratifiedKFold(n_splits=6,shuffle=True,random_state=2020)"
   ]
  },
  {
   "cell_type": "code",
   "execution_count": 169,
   "metadata": {},
   "outputs": [
    {
     "name": "stdout",
     "output_type": "stream",
     "text": [
      "Training Log Loss:  0.23787592857649145\n",
      "CV Log Loss:  0.23971719172245518\n",
      "Training Log Loss:  0.17872504051280222\n",
      "CV Log Loss:  0.1878420541909115\n",
      "Training Log Loss:  0.19354159726384743\n",
      "CV Log Loss:  0.20285314647691888\n",
      "Training Log Loss:  0.19493407092917406\n",
      "CV Log Loss:  0.20045864459978605\n",
      "Training Log Loss:  0.23514214867463873\n",
      "CV Log Loss:  0.23241137108541127\n",
      "Training Log Loss:  0.223324974437936\n",
      "CV Log Loss:  0.22242730590308832\n",
      "Tree Log Loss:  0.21428480148291082\n"
     ]
    }
   ],
   "source": [
    "for train_index, cv_index in k_fold.split(np.zeros(len(X_train_res)),y_train_res.y.ravel()):\n",
    "    X_train_fold, X_cv_fold = X_train_res.iloc[train_index,:],X_train_res.iloc[cv_index,:]\n",
    "    y_train_fold, y_cv_fold = y_train_res.iloc[train_index],y_train_res.iloc[cv_index]\n",
    "    \n",
    "    dtc_k.fit(X_train_fold, y_train_fold)\n",
    "    loglossTraining = log_loss(y_train_fold, dtc_k.predict_proba(X_train_fold)[:,1])\n",
    "    trainingScores.append(loglossTraining)\n",
    "    \n",
    "    predictionsBasedOnKFolds.loc[X_cv_fold.index,:] = dtc_k.predict_proba(X_cv_fold)  \n",
    "    loglossCV = log_loss(y_cv_fold, predictionsBasedOnKFolds.loc[X_cv_fold.index,1])\n",
    "    cvScores.append(loglossCV)\n",
    "    \n",
    "    print('Training Log Loss: ', loglossTraining)\n",
    "    print('CV Log Loss: ', loglossCV)\n",
    "    \n",
    "loglossLogisticRegression = log_loss(y_train_res, predictionsBasedOnKFolds.loc[:,1])\n",
    "print('Tree Log Loss: ', loglossLogisticRegression)"
   ]
  },
  {
   "cell_type": "markdown",
   "metadata": {},
   "source": [
    "### Decision tree performance over resampled sets"
   ]
  },
  {
   "cell_type": "code",
   "execution_count": 170,
   "metadata": {},
   "outputs": [
    {
     "name": "stdout",
     "output_type": "stream",
     "text": [
      "Optimal Threshold=0.470588, F-Score=0.927\n"
     ]
    },
    {
     "data": {
      "text/plain": [
       "Text(0.5, 1.0, 'Precision-Recall curve: Average Precision = 0.97')"
      ]
     },
     "execution_count": 170,
     "metadata": {},
     "output_type": "execute_result"
    },
    {
     "data": {
      "image/png": "[encoded data removed]",
      "text/plain": [
       "<Figure size 1440x720 with 1 Axes>"
      ]
     },
     "metadata": {},
     "output_type": "display_data"
    }
   ],
   "source": [
    "preds = pd.concat([y_train_res,predictionsBasedOnKFolds.loc[:,1]], axis=1)\n",
    "preds.columns = ['trueLabel','prediction']\n",
    "\n",
    "precision, recall, thresholds = precision_recall_curve(preds['trueLabel'],\n",
    "                                                       preds['prediction'])\n",
    "average_precision = average_precision_score(preds['trueLabel'],\n",
    "                                            preds['prediction'])\n",
    "# convert to f score\n",
    "fscore = (2 * precision * recall) / (precision + recall)\n",
    "# locate the index of the largest f score\n",
    "corte = np.argmax(fscore)\n",
    "print('Optimal Threshold=%f, F-Score=%.3f' % (thresholds[corte], fscore[corte]))\n",
    "\n",
    "\n",
    "plt.step(recall, precision, color='k', alpha=0.7, where='post')\n",
    "plt.fill_between(recall, precision, step='post', alpha=0.3, color='k')\n",
    "plt.scatter(recall[corte], precision[corte], marker='o', color='blue', label='Best')\n",
    "plt.xlabel('Recall')\n",
    "plt.ylabel('Precision')\n",
    "plt.ylim([0.0, 1.05])\n",
    "plt.xlim([0.0, 1.0])\n",
    "\n",
    "plt.title('Precision-Recall curve: Average Precision = {0:0.2f}'.format(average_precision))"
   ]
  },
  {
   "cell_type": "code",
   "execution_count": 171,
   "metadata": {},
   "outputs": [
    {
     "name": "stdout",
     "output_type": "stream",
     "text": [
      "Optimal Threshold=0.516129\n"
     ]
    },
    {
     "data": {
      "image/png": "[encoded data removed]",
      "text/plain": [
       "<Figure size 1440x720 with 1 Axes>"
      ]
     },
     "metadata": {},
     "output_type": "display_data"
    }
   ],
   "source": [
    "fpr, tpr, thresholds = roc_curve(preds['trueLabel'],preds['prediction'])\n",
    "\n",
    "areaUnderROC = auc(fpr, tpr)\n",
    "\n",
    "# To find the best threshold we can use Youden's statistic \n",
    "# J = Sensitivity + Specificity – 1\n",
    "# https://en.wikipedia.org/wiki/Youden%27s_J_statistic\n",
    "\n",
    "# But we have that Sensitivity is the True Positive Rate\n",
    "# And then J = Sensitivity + (1 – FalsePositiveRate) – 1\n",
    "# Then\n",
    "\n",
    "J = tpr - fpr\n",
    "optim = np.argmax(J)\n",
    "best_thresh = thresholds[optim]\n",
    "print('Optimal Threshold=%f' % (best_thresh))\n",
    "\n",
    "\n",
    "plt.figure()\n",
    "plt.plot(fpr, tpr, color='r', lw=2, label='ROC curve')\n",
    "plt.plot([0, 1], [0, 1], color='k', lw=2, linestyle='--')\n",
    "plt.xlim([0.0, 1.0])\n",
    "plt.ylim([0.0, 1.05])\n",
    "# optimal point\n",
    "plt.scatter(fpr[optim], tpr[optim], marker='o', color='blue', label='Best')\n",
    "#\n",
    "plt.xlabel('False Positive Rate')\n",
    "plt.ylabel('True Positive Rate')\n",
    "plt.title('ROC AUC = {0:0.2f}'.format(areaUnderROC))\n",
    "plt.legend(loc=\"lower right\")\n",
    "plt.show()"
   ]
  },
  {
   "cell_type": "markdown",
   "metadata": {},
   "source": [
    "### Decision tree performance over train set and test"
   ]
  },
  {
   "cell_type": "code",
   "execution_count": 187,
   "metadata": {},
   "outputs": [
    {
     "data": {
      "text/html": [
       "<div>\n",
       "<style scoped>\n",
       "    .dataframe tbody tr th:only-of-type {\n",
       "        vertical-align: middle;\n",
       "    }\n",
       "\n",
       "    .dataframe tbody tr th {\n",
       "        vertical-align: top;\n",
       "    }\n",
       "\n",
       "    .dataframe thead th {\n",
       "        text-align: right;\n",
       "    }\n",
       "</style>\n",
       "<table border=\"1\" class=\"dataframe\">\n",
       "  <thead>\n",
       "    <tr style=\"text-align: right;\">\n",
       "      <th></th>\n",
       "      <th>dtc_proba</th>\n",
       "      <th>true_class</th>\n",
       "      <th>label_dtc</th>\n",
       "    </tr>\n",
       "  </thead>\n",
       "  <tbody>\n",
       "    <tr>\n",
       "      <th>count</th>\n",
       "      <td>87145.000000</td>\n",
       "      <td>87145.000000</td>\n",
       "      <td>87145.000000</td>\n",
       "    </tr>\n",
       "    <tr>\n",
       "      <th>mean</th>\n",
       "      <td>0.127729</td>\n",
       "      <td>0.000849</td>\n",
       "      <td>0.071020</td>\n",
       "    </tr>\n",
       "    <tr>\n",
       "      <th>std</th>\n",
       "      <td>0.184352</td>\n",
       "      <td>0.029128</td>\n",
       "      <td>0.256859</td>\n",
       "    </tr>\n",
       "    <tr>\n",
       "      <th>min</th>\n",
       "      <td>0.000000</td>\n",
       "      <td>0.000000</td>\n",
       "      <td>0.000000</td>\n",
       "    </tr>\n",
       "    <tr>\n",
       "      <th>25%</th>\n",
       "      <td>0.075272</td>\n",
       "      <td>0.000000</td>\n",
       "      <td>0.000000</td>\n",
       "    </tr>\n",
       "    <tr>\n",
       "      <th>50%</th>\n",
       "      <td>0.075272</td>\n",
       "      <td>0.000000</td>\n",
       "      <td>0.000000</td>\n",
       "    </tr>\n",
       "    <tr>\n",
       "      <th>75%</th>\n",
       "      <td>0.075272</td>\n",
       "      <td>0.000000</td>\n",
       "      <td>0.000000</td>\n",
       "    </tr>\n",
       "    <tr>\n",
       "      <th>max</th>\n",
       "      <td>1.000000</td>\n",
       "      <td>1.000000</td>\n",
       "      <td>1.000000</td>\n",
       "    </tr>\n",
       "  </tbody>\n",
       "</table>\n",
       "</div>"
      ],
      "text/plain": [
       "          dtc_proba    true_class     label_dtc\n",
       "count  87145.000000  87145.000000  87145.000000\n",
       "mean       0.127729      0.000849      0.071020\n",
       "std        0.184352      0.029128      0.256859\n",
       "min        0.000000      0.000000      0.000000\n",
       "25%        0.075272      0.000000      0.000000\n",
       "50%        0.075272      0.000000      0.000000\n",
       "75%        0.075272      0.000000      0.000000\n",
       "max        1.000000      1.000000      1.000000"
      ]
     },
     "execution_count": 187,
     "metadata": {},
     "output_type": "execute_result"
    }
   ],
   "source": [
    "df_dtc = pd.DataFrame({'dtc_proba': dtc_k.predict_proba(X_train[process_cols])[:,1],\n",
    "                        'true_class': y_train})\n",
    "df_dtc.loc[:, 'label_dtc'] = 1 * (df_dtc.loc[:, 'dtc_proba'] > .5) \n",
    "df_dtc.describe()"
   ]
  },
  {
   "cell_type": "code",
   "execution_count": 188,
   "metadata": {},
   "outputs": [
    {
     "data": {
      "text/plain": [
       "1    51\n",
       "0    23\n",
       "Name: label_dtc, dtype: int64"
      ]
     },
     "execution_count": 188,
     "metadata": {},
     "output_type": "execute_result"
    }
   ],
   "source": [
    "df_dtc[df_dtc.true_class == 1].label_dtc.value_counts()"
   ]
  },
  {
   "cell_type": "code",
   "execution_count": 189,
   "metadata": {},
   "outputs": [
    {
     "data": {
      "text/plain": [
       "0    80933\n",
       "1     6138\n",
       "Name: label_dtc, dtype: int64"
      ]
     },
     "execution_count": 189,
     "metadata": {},
     "output_type": "execute_result"
    }
   ],
   "source": [
    "df_dtc[df_dtc.true_class == 0].label_dtc.value_counts()"
   ]
  },
  {
   "cell_type": "code",
   "execution_count": 196,
   "metadata": {},
   "outputs": [],
   "source": [
    "# We can produce the important metrics:\n",
    "\n",
    "def Metrics(y, pred):\n",
    "    average_precision = average_precision_score(y, pred)\n",
    "    \n",
    "    print('Accuray:', accuracy_score(y, pred))\n",
    "    print('Recall score:',recall_score(y, pred))\n",
    "    print('Average_precision_score: ',average_precision_score(y, pred))\n",
    "    print('Precision Score:',precision_score(y, pred))\n",
    "    print('F1_score:',f1_score(y, pred))\n",
    "    print('\\n ConfusionMatrix: \\n',confusion_matrix(y, pred))"
   ]
  },
  {
   "cell_type": "code",
   "execution_count": 197,
   "metadata": {},
   "outputs": [
    {
     "name": "stdout",
     "output_type": "stream",
     "text": [
      "Accuray: 0.9285656911831642\n",
      "Recall score: 0.71875\n",
      "Average_precision_score:  0.006404747339168892\n",
      "Precision Score: 0.008575689783743476\n",
      "F1_score: 0.016949152542372885\n",
      "\n",
      " ConfusionMatrix: \n",
      " [[34658  2659]\n",
      " [    9    23]]\n"
     ]
    }
   ],
   "source": [
    "Metrics(y_test, dtc_k.predict(X_test[process_cols]))"
   ]
  },
  {
   "cell_type": "markdown",
   "metadata": {},
   "source": [
    "## RANDOM FOREST"
   ]
  },
  {
   "cell_type": "code",
   "execution_count": 198,
   "metadata": {},
   "outputs": [],
   "source": [
    "rfc_k = RandomForestClassifier(ccp_alpha=0.0001, class_weight='balanced', max_depth=8,\n",
    "                               min_samples_split = 15,\n",
    "                       n_estimators=260, n_jobs=-1, oob_score=True,\n",
    "                       random_state=2020)"
   ]
  },
  {
   "cell_type": "code",
   "execution_count": 199,
   "metadata": {},
   "outputs": [],
   "source": [
    "trainingScores = []\n",
    "cvScores = []\n",
    "predictionsBasedOnKFolds = pd.DataFrame(data=[],index=y_train_res.index,columns=[0,1])"
   ]
  },
  {
   "cell_type": "code",
   "execution_count": 200,
   "metadata": {},
   "outputs": [
    {
     "name": "stdout",
     "output_type": "stream",
     "text": [
      "Training Log Loss:  0.15912834909894122\n",
      "CV Log Loss:  0.1570223092941343\n",
      "Training Log Loss:  0.15665697638590567\n",
      "CV Log Loss:  0.15948960292824954\n",
      "Training Log Loss:  0.1571094908768956\n",
      "CV Log Loss:  0.1607531888717447\n",
      "Training Log Loss:  0.15652084615851977\n",
      "CV Log Loss:  0.15863826183079482\n",
      "Training Log Loss:  0.1572426639501342\n",
      "CV Log Loss:  0.15694194065701253\n",
      "Training Log Loss:  0.15702147660802984\n",
      "CV Log Loss:  0.15618503589359267\n",
      "RFC Log Loss:  0.15817174171630735\n"
     ]
    }
   ],
   "source": [
    "for train_index, cv_index in k_fold.split(np.zeros(len(X_train_res)),y_train_res.y.ravel()):\n",
    "    X_train_fold, X_cv_fold = X_train_res.iloc[train_index,:],X_train_res.iloc[cv_index,:]\n",
    "    y_train_fold, y_cv_fold = y_train_res.iloc[train_index],y_train_res.iloc[cv_index]\n",
    "    \n",
    "    rfc_k.fit(X_train_fold, y_train_fold)\n",
    "    loglossTraining = log_loss(y_train_fold, rfc_k.predict_proba(X_train_fold)[:,1])\n",
    "    trainingScores.append(loglossTraining)\n",
    "    \n",
    "    predictionsBasedOnKFolds.loc[X_cv_fold.index,:] = rfc_k.predict_proba(X_cv_fold)  \n",
    "    loglossCV = log_loss(y_cv_fold, predictionsBasedOnKFolds.loc[X_cv_fold.index,1])\n",
    "    cvScores.append(loglossCV)\n",
    "    \n",
    "    print('Training Log Loss: ', loglossTraining)\n",
    "    print('CV Log Loss: ', loglossCV)\n",
    "    \n",
    "loglossLogisticRegression = log_loss(y_train_res, predictionsBasedOnKFolds.loc[:,1]) \n",
    "#l1 y C=.4 Logistic Regression with interactions Log Loss:  0.47963111564766253\n",
    "print('RFC Log Loss: ', loglossLogisticRegression) \n",
    "#Logistic Regression Log Loss:  0.5289955008268935"
   ]
  },
  {
   "cell_type": "markdown",
   "metadata": {},
   "source": [
    "### Random forest performance over resampled sets"
   ]
  },
  {
   "cell_type": "code",
   "execution_count": 201,
   "metadata": {},
   "outputs": [],
   "source": [
    "def plotPerformance(y , preds, returnPreds = False):\n",
    "    \"\"\"\n",
    "    y is a series, in notebook is y_train or a derived series made of the true labels\n",
    "    preds are the prediction made by the classifier, in label form\n",
    "    it can be the corresponding y_preds from train\n",
    "    in notebook is predictionsBasedOnKFolds.loc[:,1] as taken from Chollet's book\n",
    "\n",
    "    \"\"\"\n",
    "    preds = pd.concat([y, preds], axis=1)\n",
    "    preds.columns = ['trueLabel', 'preds']\n",
    "    precision, recall, thresholds = precision_recall_curve(preds['trueLabel'],preds['preds'])\n",
    "    average_precision = average_precision_score(preds['trueLabel'],preds['preds'])\n",
    "    # convert to f score\n",
    "    fscore = (2 * precision * recall) / (precision + recall)\n",
    "    # locate the index of the largest f score\n",
    "    corte = np.argmax(fscore)\n",
    "    print('Optimal Threshold=%f, F-Score=%.3f' % (thresholds[corte], fscore[corte]))\n",
    "\n",
    "    plt.step(recall, precision, color='k', alpha=0.7, where='post')\n",
    "    plt.fill_between(recall, precision, step='post', alpha=0.3, color='k')\n",
    "    plt.scatter(recall[corte], precision[corte], marker='o', color='blue', label='Best')\n",
    "    plt.xlabel('Recall')\n",
    "    plt.ylabel('Precision')\n",
    "    plt.ylim([0.0, 1.05])\n",
    "    plt.xlim([0.0, 1.0])\n",
    "    \n",
    "    plt.title('Precision-Recall curve: Average Precision = {0:0.2f}'.format(average_precision))\n",
    "\n",
    "    fpr, tpr, thresholds = roc_curve(preds['trueLabel'], preds['preds'])\n",
    "    areaUnderROC = auc(fpr, tpr)\n",
    "    J = tpr - fpr\n",
    "    optim = np.argmax(J)\n",
    "    best_cut = thresholds[optim]\n",
    "    print('Optimal Threshold=%f' % (best_cut))\n",
    "\n",
    "    plt.figure()\n",
    "    plt.plot(fpr, tpr, color='r', lw=2, label='ROC curve')\n",
    "    plt.plot([0, 1], [0, 1], color='k', lw=2, linestyle='--')\n",
    "    plt.xlim([0.0, 1.0])\n",
    "    plt.ylim([0.0, 1.05])\n",
    "    # optimal cut\n",
    "    plt.scatter(fpr[optim], tpr[optim], marker='o', color='blue', label='Best')\n",
    "    #\n",
    "    plt.xlabel('False Positive Rate')\n",
    "    plt.ylabel('True Positive Rate')\n",
    "    plt.title('ROC AUC = {0:0.2f}'.format(areaUnderROC))\n",
    "    plt.legend(loc=\"lower right\")\n",
    "    plt.show()\n",
    "    \n",
    "    if returnPreds==True:\n",
    "        return preds"
   ]
  },
  {
   "cell_type": "code",
   "execution_count": 203,
   "metadata": {},
   "outputs": [
    {
     "name": "stdout",
     "output_type": "stream",
     "text": [
      "Optimal Threshold=0.587253, F-Score=0.951\n",
      "Optimal Threshold=0.633443\n"
     ]
    },
    {
     "data": {
      "image/png": "[encoded data removed]",
      "text/plain": [
       "<Figure size 1440x720 with 1 Axes>"
      ]
     },
     "metadata": {},
     "output_type": "display_data"
    },
    {
     "data": {
      "image/png": "[encoded data removed]",
      "text/plain": [
       "<Figure size 1440x720 with 1 Axes>"
      ]
     },
     "metadata": {},
     "output_type": "display_data"
    }
   ],
   "source": [
    "preds = plotPerformance(y_train_res,predictionsBasedOnKFolds.loc[:,1],returnPreds=True)"
   ]
  },
  {
   "cell_type": "markdown",
   "metadata": {},
   "source": [
    "### Random forest performance over train set and test"
   ]
  },
  {
   "cell_type": "code",
   "execution_count": 205,
   "metadata": {},
   "outputs": [
    {
     "data": {
      "text/html": [
       "<div>\n",
       "<style scoped>\n",
       "    .dataframe tbody tr th:only-of-type {\n",
       "        vertical-align: middle;\n",
       "    }\n",
       "\n",
       "    .dataframe tbody tr th {\n",
       "        vertical-align: top;\n",
       "    }\n",
       "\n",
       "    .dataframe thead th {\n",
       "        text-align: right;\n",
       "    }\n",
       "</style>\n",
       "<table border=\"1\" class=\"dataframe\">\n",
       "  <thead>\n",
       "    <tr style=\"text-align: right;\">\n",
       "      <th></th>\n",
       "      <th>rfc_proba</th>\n",
       "      <th>true_class</th>\n",
       "      <th>label_rfc</th>\n",
       "    </tr>\n",
       "  </thead>\n",
       "  <tbody>\n",
       "    <tr>\n",
       "      <th>count</th>\n",
       "      <td>87145.000000</td>\n",
       "      <td>87145.000000</td>\n",
       "      <td>87145.000000</td>\n",
       "    </tr>\n",
       "    <tr>\n",
       "      <th>mean</th>\n",
       "      <td>0.113851</td>\n",
       "      <td>0.000849</td>\n",
       "      <td>0.037604</td>\n",
       "    </tr>\n",
       "    <tr>\n",
       "      <th>std</th>\n",
       "      <td>0.140153</td>\n",
       "      <td>0.029128</td>\n",
       "      <td>0.190238</td>\n",
       "    </tr>\n",
       "    <tr>\n",
       "      <th>min</th>\n",
       "      <td>0.011631</td>\n",
       "      <td>0.000000</td>\n",
       "      <td>0.000000</td>\n",
       "    </tr>\n",
       "    <tr>\n",
       "      <th>25%</th>\n",
       "      <td>0.043464</td>\n",
       "      <td>0.000000</td>\n",
       "      <td>0.000000</td>\n",
       "    </tr>\n",
       "    <tr>\n",
       "      <th>50%</th>\n",
       "      <td>0.067592</td>\n",
       "      <td>0.000000</td>\n",
       "      <td>0.000000</td>\n",
       "    </tr>\n",
       "    <tr>\n",
       "      <th>75%</th>\n",
       "      <td>0.115437</td>\n",
       "      <td>0.000000</td>\n",
       "      <td>0.000000</td>\n",
       "    </tr>\n",
       "    <tr>\n",
       "      <th>max</th>\n",
       "      <td>0.989510</td>\n",
       "      <td>1.000000</td>\n",
       "      <td>1.000000</td>\n",
       "    </tr>\n",
       "  </tbody>\n",
       "</table>\n",
       "</div>"
      ],
      "text/plain": [
       "          rfc_proba    true_class     label_rfc\n",
       "count  87145.000000  87145.000000  87145.000000\n",
       "mean       0.113851      0.000849      0.037604\n",
       "std        0.140153      0.029128      0.190238\n",
       "min        0.011631      0.000000      0.000000\n",
       "25%        0.043464      0.000000      0.000000\n",
       "50%        0.067592      0.000000      0.000000\n",
       "75%        0.115437      0.000000      0.000000\n",
       "max        0.989510      1.000000      1.000000"
      ]
     },
     "execution_count": 205,
     "metadata": {},
     "output_type": "execute_result"
    }
   ],
   "source": [
    "df_rfc = pd.DataFrame({'rfc_proba': rfc_k.predict_proba(X_train[process_cols])[:,1],\n",
    "                        'true_class': y_train})\n",
    "df_rfc.loc[:, 'label_rfc'] = 1 * (df_rfc.loc[:, 'rfc_proba'] > .5) \n",
    "df_rfc.describe()"
   ]
  },
  {
   "cell_type": "code",
   "execution_count": 207,
   "metadata": {},
   "outputs": [
    {
     "data": {
      "text/plain": [
       "1    52\n",
       "0    22\n",
       "Name: label_rfc, dtype: int64"
      ]
     },
     "execution_count": 207,
     "metadata": {},
     "output_type": "execute_result"
    }
   ],
   "source": [
    "df_rfc[df_rfc.true_class == 1].label_rfc.value_counts()"
   ]
  },
  {
   "cell_type": "code",
   "execution_count": 208,
   "metadata": {},
   "outputs": [
    {
     "name": "stdout",
     "output_type": "stream",
     "text": [
      "Accuray: 0.9616321722134461\n",
      "Recall score: 0.625\n",
      "Average_precision_score:  0.008995825318099292\n",
      "Precision Score: 0.013879250520471894\n",
      "F1_score: 0.027155465037338764\n",
      "\n",
      " ConfusionMatrix: \n",
      " [[35896  1421]\n",
      " [   12    20]]\n"
     ]
    }
   ],
   "source": [
    "Metrics(y_test, rfc_k.predict(X_test[process_cols]))"
   ]
  },
  {
   "cell_type": "markdown",
   "metadata": {},
   "source": [
    "## Gradient boosting classifier"
   ]
  },
  {
   "cell_type": "code",
   "execution_count": 209,
   "metadata": {},
   "outputs": [],
   "source": [
    "gbc_k = GradientBoostingClassifier(learning_rate=0.005, \n",
    "                           max_features=7, validation_fraction=0.1, \n",
    "                           n_estimators=250, n_iter_no_change=12,\n",
    "                           random_state=2020, subsample=0.95)"
   ]
  },
  {
   "cell_type": "code",
   "execution_count": 210,
   "metadata": {},
   "outputs": [],
   "source": [
    "trainingScores = []\n",
    "cvScores = []\n",
    "predictionsBasedOnKFolds = pd.DataFrame(data=[],index=y_train_res.index,columns=[0,1])"
   ]
  },
  {
   "cell_type": "code",
   "execution_count": null,
   "metadata": {},
   "outputs": [
    {
     "name": "stdout",
     "output_type": "stream",
     "text": [
      "Training Log Loss:  0.32869738949580624\n",
      "CV Log Loss:  0.32573457573760056\n",
      "Training Log Loss:  0.3274257935334146\n",
      "CV Log Loss:  0.3302932451738174\n",
      "Training Log Loss:  0.327650344296417\n",
      "CV Log Loss:  0.33046056457458317\n",
      "Training Log Loss:  0.3277841869222503\n",
      "CV Log Loss:  0.32920400029629887\n"
     ]
    }
   ],
   "source": [
    "for train_index, cv_index in k_fold.split(np.zeros(len(X_train_res)),y_train_res.y.ravel()):\n",
    "    X_train_fold, X_cv_fold = X_train_res.iloc[train_index,:],X_train_res.iloc[cv_index,:]\n",
    "    y_train_fold, y_cv_fold = y_train_res.iloc[train_index],y_train_res.iloc[cv_index]\n",
    "    \n",
    "    gbc_k.fit(X_train_fold, y_train_fold)\n",
    "    loglossTraining = log_loss(y_train_fold, gbc_k.predict_proba(X_train_fold)[:,1])\n",
    "    trainingScores.append(loglossTraining)\n",
    "    \n",
    "    predictionsBasedOnKFolds.loc[X_cv_fold.index,:] = gbc_k.predict_proba(X_cv_fold)  \n",
    "    loglossCV = log_loss(y_cv_fold, predictionsBasedOnKFolds.loc[X_cv_fold.index,1])\n",
    "    cvScores.append(loglossCV)\n",
    "    \n",
    "    print('Training Log Loss: ', loglossTraining)\n",
    "    print('CV Log Loss: ', loglossCV)\n",
    "    \n",
    "loglossLogisticRegression = log_loss(y_train_res, predictionsBasedOnKFolds.loc[:,1]) \n",
    "#l1 y C=.4 Logistic Regression with interactions Log Loss:  0.47963111564766253\n",
    "print('RFC Log Loss: ', loglossLogisticRegression) \n",
    "#Logistic Regression Log Loss:  0.5289955008268935"
   ]
  },
  {
   "cell_type": "code",
   "execution_count": null,
   "metadata": {},
   "outputs": [],
   "source": [
    "### Gradient Boosting performance over resampled sets"
   ]
  },
  {
   "cell_type": "code",
   "execution_count": null,
   "metadata": {},
   "outputs": [],
   "source": [
    "preds = plotPerformance(y_train_res,predictionsBasedOnKFolds.loc[:,1],returnPreds=True)"
   ]
  },
  {
   "cell_type": "code",
   "execution_count": null,
   "metadata": {},
   "outputs": [],
   "source": [
    "### Random forest performance over train set and test"
   ]
  },
  {
   "cell_type": "code",
   "execution_count": null,
   "metadata": {},
   "outputs": [],
   "source": [
    "df_rfc = pd.DataFrame({'rfc_proba': rfc_k.predict_proba(X_train[process_cols])[:,1],\n",
    "                        'true_class': y_train})\n",
    "df_rfc.loc[:, 'label_rfc'] = 1 * (df_rfc.loc[:, 'rfc_proba'] > .5) \n",
    "df_rfc.describe()"
   ]
  },
  {
   "cell_type": "code",
   "execution_count": null,
   "metadata": {},
   "outputs": [],
   "source": [
    "df_rfc[df_rfc.true_class == 1].label_rfc.value_counts()"
   ]
  },
  {
   "cell_type": "code",
   "execution_count": null,
   "metadata": {},
   "outputs": [],
   "source": [
    "Metrics(y_test, rfc_k.predict(X_test[process_cols]))"
   ]
  },
  {
   "cell_type": "code",
   "execution_count": null,
   "metadata": {},
   "outputs": [],
   "source": []
  },
  {
   "cell_type": "markdown",
   "metadata": {},
   "source": [
    "# MODEL 3: RANDOM FOREST"
   ]
  },
  {
   "cell_type": "markdown",
   "metadata": {},
   "source": [
    "We'll try a tree based classifier.\n",
    "\n",
    "In this case we do not need the standirized variables.\n",
    "\n",
    "The following steps represent one way to search for hyperparameters in a given range."
   ]
  },
  {
   "cell_type": "code",
   "execution_count": 92,
   "metadata": {},
   "outputs": [],
   "source": [
    "pipe_rf = Pipeline([('classifier' , RandomForestClassifier(random_state=2020))])\n",
    "\n",
    "param_grid_rf = [\n",
    "    {'classifier' : [RandomForestClassifier(random_state=2020,\n",
    "                                            criterion=\"gini\", \n",
    "                                            max_features=\"auto\", n_jobs=-1,\n",
    "                                            oob_score= True\n",
    "                                            #class_weight=\"balanced\",\n",
    "                                            )],\n",
    "    'classifier__n_estimators' : list(range(200,381,20)),\n",
    "    'classifier__max_depth' : list(range(7,9,1))\n",
    "    } \n",
    "]"
   ]
  },
  {
   "cell_type": "code",
   "execution_count": 93,
   "metadata": {},
   "outputs": [],
   "source": [
    "clf_rf = GridSearchCV(pipe_rf, param_grid = param_grid_rf, cv = 5, verbose=True, n_jobs=-1) #cambiar a 5"
   ]
  },
  {
   "cell_type": "code",
   "execution_count": 94,
   "metadata": {},
   "outputs": [
    {
     "name": "stdout",
     "output_type": "stream",
     "text": [
      "Fitting 5 folds for each of 20 candidates, totalling 100 fits\n"
     ]
    },
    {
     "name": "stderr",
     "output_type": "stream",
     "text": [
      "[Parallel(n_jobs=-1)]: Using backend LokyBackend with 8 concurrent workers.\n",
      "[Parallel(n_jobs=-1)]: Done  34 tasks      | elapsed:  4.1min\n",
      "[Parallel(n_jobs=-1)]: Done 100 out of 100 | elapsed: 12.0min finished\n"
     ]
    }
   ],
   "source": [
    "best_rf = clf_rf.fit(X_train_res, y_train_res)"
   ]
  },
  {
   "cell_type": "code",
   "execution_count": 95,
   "metadata": {},
   "outputs": [
    {
     "name": "stdout",
     "output_type": "stream",
     "text": [
      "RandomForestClassifier(max_depth=8, n_estimators=260, n_jobs=-1, oob_score=True,\n",
      "                       random_state=2020)\n"
     ]
    }
   ],
   "source": [
    "print(best_rf.best_estimator_.get_params()['classifier'])"
   ]
  },
  {
   "cell_type": "code",
   "execution_count": 124,
   "metadata": {},
   "outputs": [
    {
     "name": "stdout",
     "output_type": "stream",
     "text": [
      "Accuracy en entrenamiento rf 0.9505461060513833\n",
      "Accuracy en prueba rf 0.9622747596990548\n"
     ]
    }
   ],
   "source": [
    "print('Accuracy en entrenamiento rf',rfc.score(X_train_res, y_train_res))\n",
    "print('Accuracy en prueba rf',rfc.score(X_test, y_test))"
   ]
  },
  {
   "cell_type": "code",
   "execution_count": 125,
   "metadata": {},
   "outputs": [
    {
     "name": "stdout",
     "output_type": "stream",
     "text": [
      "              precision    recall  f1-score   support\n",
      "\n",
      "           0       0.96      1.00      0.98     35936\n",
      "           1       0.56      0.01      0.02      1413\n",
      "\n",
      "    accuracy                           0.96     37349\n",
      "   macro avg       0.76      0.51      0.50     37349\n",
      "weighted avg       0.95      0.96      0.94     37349\n",
      "\n"
     ]
    }
   ],
   "source": [
    "classes_rf = rfc.predict(X_test)\n",
    "print(classification_report(classes_rf, y_test))"
   ]
  },
  {
   "cell_type": "markdown",
   "metadata": {},
   "source": [
    "We just found the best hyperparameters in a test range. Now we retrain the best model using k-fold cross validation."
   ]
  },
  {
   "cell_type": "code",
   "execution_count": 142,
   "metadata": {},
   "outputs": [],
   "source": [
    "n_estimators = 260\n",
    "max_features = 'auto'\n",
    "max_depth = 8\n",
    "bootstrap = True\n",
    "oob_score = True\n",
    "n_jobs = -1\n",
    "random_state = 2020\n",
    "class_weight = 'balanced'\n",
    "\n",
    "rfc = RandomForestClassifier(n_estimators=n_estimators, \n",
    "        max_features=max_features, max_depth=max_depth,\n",
    "        bootstrap=bootstrap, ccp_alpha = 0.0001,\n",
    "        oob_score=oob_score, n_jobs=n_jobs, random_state=random_state, \n",
    "        class_weight=class_weight)"
   ]
  },
  {
   "cell_type": "code",
   "execution_count": 38,
   "metadata": {},
   "outputs": [],
   "source": [
    "y_train_res = pd.DataFrame(y_train_res, columns=['y'])\n",
    "X_train_res = pd.DataFrame(X_train_res)"
   ]
  },
  {
   "cell_type": "code",
   "execution_count": 143,
   "metadata": {},
   "outputs": [
    {
     "name": "stdout",
     "output_type": "stream",
     "text": [
      "Training Log Loss:  0.15717281367956293\n",
      "CV Log Loss:  0.15655048498837412\n",
      "Training Log Loss:  0.155784178761904\n",
      "CV Log Loss:  0.1602635284550046\n",
      "Training Log Loss:  0.156060126959651\n",
      "CV Log Loss:  0.1575966282402845\n",
      "Training Log Loss:  0.1578571830954104\n",
      "CV Log Loss:  0.15744552413151316\n",
      "Training Log Loss:  0.15744512406583275\n",
      "CV Log Loss:  0.1567249452521942\n",
      "Random Forest Log Loss:  0.15771623014705138\n"
     ]
    }
   ],
   "source": [
    "trainingScores = []\n",
    "cvScores = []\n",
    "predictionsBasedOnKFolds = pd.DataFrame(data=[],\n",
    "                                        index=y_train_res.index,columns=[0,1])\n",
    "\n",
    "\n",
    "for train_index, cv_index in k_fold.split(np.zeros(len(X_train_res)),\n",
    "                                          y_train_res.y.ravel()):\n",
    "    X_train_fold, X_cv_fold = X_train_res.iloc[train_index,:], X_train_res.iloc[cv_index,:]\n",
    "    y_train_fold, y_cv_fold = y_train_res.iloc[train_index], y_train_res.iloc[cv_index]\n",
    "    \n",
    "    rfc.fit(X_train_fold, y_train_fold)\n",
    "    loglossTraining = log_loss(y_train_fold,rfc.predict_proba(X_train_fold)[:,1])\n",
    "    trainingScores.append(loglossTraining)\n",
    "    \n",
    "    predictionsBasedOnKFolds.loc[X_cv_fold.index,:] = rfc.predict_proba(X_cv_fold)  \n",
    "    loglossCV = log_loss(y_cv_fold, predictionsBasedOnKFolds.loc[X_cv_fold.index,1])\n",
    "    cvScores.append(loglossCV)\n",
    "    \n",
    "    print('Training Log Loss: ', loglossTraining)\n",
    "    print('CV Log Loss: ', loglossCV)\n",
    "    \n",
    "loglossRandomForestsClassifier = log_loss(y_train_res,predictionsBasedOnKFolds.loc[:,1])\n",
    "print('Random Forest Log Loss: ', loglossRandomForestsClassifier) # before Random Forest Log Loss:  0.15557334239967888"
   ]
  },
  {
   "cell_type": "code",
   "execution_count": 85,
   "metadata": {},
   "outputs": [
    {
     "name": "stdout",
     "output_type": "stream",
     "text": [
      "Optimal Threshold=0.599189, F-Score=0.952\n",
      "Optimal Threshold=0.619244\n"
     ]
    },
    {
     "data": {
      "image/png": "[encoded data removed]",
      "text/plain": [
       "<Figure size 1440x720 with 1 Axes>"
      ]
     },
     "metadata": {},
     "output_type": "display_data"
    },
    {
     "data": {
      "image/png": "[encoded data removed]",
      "text/plain": [
       "<Figure size 1440x720 with 1 Axes>"
      ]
     },
     "metadata": {},
     "output_type": "display_data"
    }
   ],
   "source": [
    "preds_rfc = plotPerformance(y_train_res,predictionsBasedOnKFolds.loc[:,1], returnPreds=True)"
   ]
  },
  {
   "cell_type": "markdown",
   "metadata": {},
   "source": [
    "__CONCLUSIONS FOR MODEL 3__"
   ]
  },
  {
   "cell_type": "markdown",
   "metadata": {},
   "source": [
    "We have now a model that performs better than the logistic regression. The random forest has better metrics about precision and recall over the train set. However, we still need to see results on the validation set, were we can see if the models actually predict well device failure."
   ]
  },
  {
   "cell_type": "markdown",
   "metadata": {},
   "source": [
    "# BENCHMARK AUTOENCODER"
   ]
  },
  {
   "cell_type": "markdown",
   "metadata": {},
   "source": [
    "It's important to try a model with an architecture comming from neural networks, especially beacause we have found that nonlinear relations between attributes are present.\n",
    "\n",
    "The simplest solution is a binary classifier, but we'll try a different also common approach: __an Autoencoder__.\n",
    "\n",
    "I followed the example given here: https://blog.keras.io/building-autoencoders-in-keras.html\n",
    "\n",
    "It was easier since we have no images!"
   ]
  },
  {
   "cell_type": "code",
   "execution_count": 43,
   "metadata": {},
   "outputs": [],
   "source": [
    "# The first is just a benchmark for an autoencoder, to see what comes out with the failures dataset.\n",
    "# Call API\n",
    "model = Sequential()\n",
    "\n",
    "# Componets:\n",
    "# Linear activation function to input layer\n",
    "# Hidden layer with 16 nodes, the same as the input layer\n",
    "# Linear activation function to hidden layer\n",
    "# Output layer with 8 nodes\n",
    "\n",
    "model.add(Dense(units=32, activation='relu',input_dim=8))\n",
    "\n",
    "model.add(Dense(units=8, activation='linear'))"
   ]
  },
  {
   "cell_type": "code",
   "execution_count": 44,
   "metadata": {},
   "outputs": [],
   "source": [
    "# Compile the model, later we'll move these parameters\n",
    "\n",
    "model.compile(optimizer='adam',\n",
    "              loss='mean_squared_error',\n",
    "              metrics=['accuracy'])"
   ]
  },
  {
   "cell_type": "code",
   "execution_count": 45,
   "metadata": {},
   "outputs": [
    {
     "name": "stdout",
     "output_type": "stream",
     "text": [
      "Epoch 1/5\n",
      "3483/3483 [==============================] - 5s 1ms/step - loss: 0.5555 - accuracy: 0.8328 - val_loss: 0.0073 - val_accuracy: 0.9234\n",
      "Epoch 2/5\n",
      "3483/3483 [==============================] - 5s 1ms/step - loss: 0.0033 - accuracy: 0.9302 - val_loss: 0.0012 - val_accuracy: 0.9247\n",
      "Epoch 3/5\n",
      "3483/3483 [==============================] - 5s 1ms/step - loss: 0.0019 - accuracy: 0.9609 - val_loss: 0.0015 - val_accuracy: 0.9743\n",
      "Epoch 4/5\n",
      "3483/3483 [==============================] - 5s 1ms/step - loss: 0.0029 - accuracy: 0.9783 - val_loss: 3.2916e-04 - val_accuracy: 0.9909\n",
      "Epoch 5/5\n",
      "3483/3483 [==============================] - 5s 1ms/step - loss: 0.0012 - accuracy: 0.9825 - val_loss: 0.0066 - val_accuracy: 0.9849\n"
     ]
    }
   ],
   "source": [
    "# Train on the oversampled sets with standarization.\n",
    "\n",
    "num_epochs = 5\n",
    "batch_size = 50\n",
    "\n",
    "\n",
    "# Here is the autoencoder part of the model. Inside the fit method, we'll pass the train set as input x\n",
    "# but also as target and calculate the reconstruction error.\n",
    "\n",
    "history = model.fit(x=X_train_rlg, y=X_train_rlg,\n",
    "                    epochs=num_epochs,\n",
    "                    batch_size=batch_size,\n",
    "                    shuffle=True,\n",
    "                    validation_data=(X_train_rlg, X_train_rlg),\n",
    "                    verbose=1).history"
   ]
  },
  {
   "cell_type": "code",
   "execution_count": null,
   "metadata": {},
   "outputs": [],
   "source": []
  },
  {
   "cell_type": "code",
   "execution_count": 46,
   "metadata": {},
   "outputs": [
    {
     "data": {
      "image/png": "[encoded data removed]",
      "text/plain": [
       "<Figure size 1440x720 with 1 Axes>"
      ]
     },
     "metadata": {},
     "output_type": "display_data"
    }
   ],
   "source": [
    "plt.plot(history['loss'], linewidth=2, label='Train')\n",
    "plt.plot(history['val_loss'], linewidth=2, label='Test')\n",
    "plt.legend(loc='upper right')\n",
    "plt.title('Model loss')\n",
    "plt.ylabel('Loss')\n",
    "plt.xlabel('Epoch')\n",
    "#plt.ylim(ymin=0.70,ymax=1)\n",
    "plt.show()"
   ]
  },
  {
   "cell_type": "code",
   "execution_count": 48,
   "metadata": {},
   "outputs": [],
   "source": [
    "def is_failure_result(original_label, recons_label):\n",
    "    recons_error = np.sum((np.array(original_label) - \n",
    "                   np.array(recons_label))**2, axis=1)\n",
    "    recons_error = pd.Series(data=recons_error,index=original_label.index)\n",
    "    recons_error = (recons_error-np.min(recons_error))/(np.max(recons_error)-np.min(recons_error))\n",
    "    return recons_error"
   ]
  },
  {
   "cell_type": "code",
   "execution_count": 52,
   "metadata": {},
   "outputs": [
    {
     "name": "stdout",
     "output_type": "stream",
     "text": [
      "1168/1168 [==============================] - 1s 584us/step\n"
     ]
    }
   ],
   "source": [
    "predictions = model.predict(X_test_lg, verbose=1)\n",
    "failureScore = is_failure_result(X_test_lg, predictions)"
   ]
  },
  {
   "cell_type": "code",
   "execution_count": 54,
   "metadata": {},
   "outputs": [
    {
     "data": {
      "text/html": [
       "<div>\n",
       "<style scoped>\n",
       "    .dataframe tbody tr th:only-of-type {\n",
       "        vertical-align: middle;\n",
       "    }\n",
       "\n",
       "    .dataframe tbody tr th {\n",
       "        vertical-align: top;\n",
       "    }\n",
       "\n",
       "    .dataframe thead th {\n",
       "        text-align: right;\n",
       "    }\n",
       "</style>\n",
       "<table border=\"1\" class=\"dataframe\">\n",
       "  <thead>\n",
       "    <tr style=\"text-align: right;\">\n",
       "      <th></th>\n",
       "      <th>Reconstruction_error</th>\n",
       "      <th>True_class</th>\n",
       "    </tr>\n",
       "  </thead>\n",
       "  <tbody>\n",
       "    <tr>\n",
       "      <th>count</th>\n",
       "      <td>37349.000000</td>\n",
       "      <td>37349.000000</td>\n",
       "    </tr>\n",
       "    <tr>\n",
       "      <th>mean</th>\n",
       "      <td>0.010452</td>\n",
       "      <td>0.000857</td>\n",
       "    </tr>\n",
       "    <tr>\n",
       "      <th>std</th>\n",
       "      <td>1.017878</td>\n",
       "      <td>0.029259</td>\n",
       "    </tr>\n",
       "    <tr>\n",
       "      <th>min</th>\n",
       "      <td>0.000004</td>\n",
       "      <td>0.000000</td>\n",
       "    </tr>\n",
       "    <tr>\n",
       "      <th>25%</th>\n",
       "      <td>0.000097</td>\n",
       "      <td>0.000000</td>\n",
       "    </tr>\n",
       "    <tr>\n",
       "      <th>50%</th>\n",
       "      <td>0.000219</td>\n",
       "      <td>0.000000</td>\n",
       "    </tr>\n",
       "    <tr>\n",
       "      <th>75%</th>\n",
       "      <td>0.000420</td>\n",
       "      <td>0.000000</td>\n",
       "    </tr>\n",
       "    <tr>\n",
       "      <th>max</th>\n",
       "      <td>195.915951</td>\n",
       "      <td>1.000000</td>\n",
       "    </tr>\n",
       "  </tbody>\n",
       "</table>\n",
       "</div>"
      ],
      "text/plain": [
       "       Reconstruction_error    True_class\n",
       "count          37349.000000  37349.000000\n",
       "mean               0.010452      0.000857\n",
       "std                1.017878      0.029259\n",
       "min                0.000004      0.000000\n",
       "25%                0.000097      0.000000\n",
       "50%                0.000219      0.000000\n",
       "75%                0.000420      0.000000\n",
       "max              195.915951      1.000000"
      ]
     },
     "execution_count": 54,
     "metadata": {},
     "output_type": "execute_result"
    }
   ],
   "source": [
    "#predictions = autoencoder.predict(test_x)\n",
    "mse = np.mean(np.power(X_test_lg - predictions, 2), axis=1)\n",
    "error_df = pd.DataFrame({'Reconstruction_error': mse,\n",
    "                        'True_class': y_test})\n",
    "error_df.describe()"
   ]
  },
  {
   "cell_type": "code",
   "execution_count": null,
   "metadata": {},
   "outputs": [],
   "source": [
    "# A tipical number "
   ]
  },
  {
   "cell_type": "code",
   "execution_count": 72,
   "metadata": {},
   "outputs": [],
   "source": [
    "# error_df.loc[error_df[\"Reconstruction_error\"] == 1, \"pred_label\"] = 1"
   ]
  },
  {
   "cell_type": "code",
   "execution_count": 71,
   "metadata": {},
   "outputs": [],
   "source": [
    "#preds = plotPerformance(y_test, failureScore, True)\n",
    "#model.reset_states()"
   ]
  },
  {
   "cell_type": "markdown",
   "metadata": {},
   "source": [
    "# SECOND AUTOENCODER, NOT FOR DETECTION..."
   ]
  },
  {
   "cell_type": "markdown",
   "metadata": {},
   "source": [
    "We can see from the PR curve that it has no average precision at all. So, instead of going trough hyperparameter optimization and regularization and architecture selection, it seems to be a better choice to use internal the internal representation of the autoencoder and give it to te supervised random forest. \n",
    "\n",
    "This is an example of a semi-supervised learning approach."
   ]
  },
  {
   "cell_type": "code",
   "execution_count": 59,
   "metadata": {},
   "outputs": [],
   "source": [
    "model = Sequential()\n",
    "model.add(Dense(units=24, activation='relu', \n",
    "                activity_regularizer=regularizers.l1(1e-5),\n",
    "                input_dim=8, name='hidden_layer'))\n",
    "model.add(Dropout(0.01))\n",
    "model.add(Dense(units=8, activation='relu'))"
   ]
  },
  {
   "cell_type": "code",
   "execution_count": 60,
   "metadata": {},
   "outputs": [],
   "source": [
    "model.compile(optimizer='adam', loss='mean_squared_error', metrics=['accuracy'])"
   ]
  },
  {
   "cell_type": "code",
   "execution_count": 61,
   "metadata": {},
   "outputs": [
    {
     "name": "stdout",
     "output_type": "stream",
     "text": [
      "Epoch 1/5\n",
      "1394/1394 [==============================] - 1s 1ms/step - loss: 0.8893 - accuracy: 0.7411 - val_loss: 0.1835 - val_accuracy: 0.8906\n",
      "Epoch 2/5\n",
      "1394/1394 [==============================] - 1s 1ms/step - loss: 0.2762 - accuracy: 0.8131 - val_loss: 0.1779 - val_accuracy: 0.9062\n",
      "Epoch 3/5\n",
      "1394/1394 [==============================] - 1s 1ms/step - loss: 0.2561 - accuracy: 0.8168 - val_loss: 0.1749 - val_accuracy: 0.9141\n",
      "Epoch 4/5\n",
      "1394/1394 [==============================] - 1s 1ms/step - loss: 0.2491 - accuracy: 0.8216 - val_loss: 0.1761 - val_accuracy: 0.9217\n",
      "Epoch 5/5\n",
      "1394/1394 [==============================] - 1s 1ms/step - loss: 0.2480 - accuracy: 0.8245 - val_loss: 0.1733 - val_accuracy: 0.9243\n"
     ]
    }
   ],
   "source": [
    "num_epochs =  5\n",
    "batch_size = 100\n",
    "\n",
    "history = model.fit(x=X_train_rlg, y=X_train_rlg, epochs=num_epochs, batch_size=batch_size, shuffle=True,\n",
    "                    validation_split=0.20, verbose=1)"
   ]
  },
  {
   "cell_type": "code",
   "execution_count": null,
   "metadata": {},
   "outputs": [],
   "source": [
    "predictions = model.predict(X_test_lg, verbose=1)\n",
    "failures_p = is_failure_result(X_test_lg, predictions)\n",
    "#preds, average_precision = plotPerformance(y_test, failures_p, True)"
   ]
  },
  {
   "cell_type": "code",
   "execution_count": 63,
   "metadata": {},
   "outputs": [],
   "source": [
    "model.reset_states()"
   ]
  },
  {
   "cell_type": "markdown",
   "metadata": {},
   "source": [
    "# SEMI-SUPERVISED LEARNING: AUTOENCODER-RANDOMFOREST"
   ]
  },
  {
   "cell_type": "code",
   "execution_count": 64,
   "metadata": {},
   "outputs": [],
   "source": [
    "layer_name = 'hidden_layer'\n",
    "\n",
    "intermediate_layer_model  = Model(inputs=model.input, outputs=model.get_layer(layer_name).output)\n",
    "intermediate_output_train = intermediate_layer_model.predict(X_train_rlg)\n",
    "intermediate_output_test  = intermediate_layer_model.predict(X_test_lg)"
   ]
  },
  {
   "cell_type": "code",
   "execution_count": 65,
   "metadata": {},
   "outputs": [],
   "source": [
    "intermediate_output_trainDF = pd.DataFrame(data=intermediate_output_train,index=X_train_rlg.index)\n",
    "intermediate_output_testDF  = pd.DataFrame(data=intermediate_output_test,index=X_test_lg.index)"
   ]
  },
  {
   "cell_type": "code",
   "execution_count": 66,
   "metadata": {},
   "outputs": [],
   "source": [
    "X_train_aut = X_train_rlg.merge(intermediate_output_trainDF, left_index=True,right_index=True)\n",
    "X_test_aut  = X_test_lg.merge(intermediate_output_testDF, left_index=True,right_index=True)\n",
    "y_train_aut = y_train_rlg.copy()"
   ]
  },
  {
   "cell_type": "code",
   "execution_count": 73,
   "metadata": {},
   "outputs": [],
   "source": [
    "n_estimators = 260\n",
    "max_features = 'auto'\n",
    "max_depth = 8\n",
    "bootstrap = True\n",
    "oob_score = True\n",
    "n_jobs = -1\n",
    "random_state = 2020\n",
    "class_weight = 'balanced'\n",
    "\n",
    "aut_rfc = RandomForestClassifier(n_estimators=n_estimators, \n",
    "        max_features=max_features, max_depth=max_depth,\n",
    "        bootstrap=bootstrap, \n",
    "        oob_score=oob_score, n_jobs=n_jobs, random_state=random_state, \n",
    "        class_weight=class_weight)"
   ]
  },
  {
   "cell_type": "code",
   "execution_count": 87,
   "metadata": {},
   "outputs": [
    {
     "name": "stdout",
     "output_type": "stream",
     "text": [
      "Training Log Loss:  0.14231394210736178\n",
      "CV Log Loss:  0.1437879471910191\n",
      "Training Log Loss:  0.14322519963793817\n",
      "CV Log Loss:  0.1446658575110189\n",
      "Training Log Loss:  0.14124278347740102\n",
      "CV Log Loss:  0.14271223944196018\n",
      "Training Log Loss:  0.14231496434257082\n",
      "CV Log Loss:  0.14311459944743057\n",
      "Training Log Loss:  0.14056819765875564\n",
      "CV Log Loss:  0.1427093857425278\n",
      "Autoencoder-Random Forest Log Loss:  0.1433980153865681\n"
     ]
    }
   ],
   "source": [
    "trainingScores = []\n",
    "cvScores = []\n",
    "predictionsBasedOnKFolds = pd.DataFrame(data=[],\n",
    "                                        index=y_train_aut.index,columns=[0,1])\n",
    "\n",
    "\n",
    "for train_index, cv_index in k_fold.split(np.zeros(len(X_train_aut)),\n",
    "                                          y_train_aut.y.ravel()):\n",
    "    X_train_fold, X_cv_fold = X_train_aut.iloc[train_index,:], X_train_aut.iloc[cv_index,:]\n",
    "    y_train_fold, y_cv_fold = y_train_aut.iloc[train_index], y_train_aut.iloc[cv_index]\n",
    "    \n",
    "    aut_rfc.fit(X_train_fold, y_train_fold)\n",
    "    loglossTraining = log_loss(y_train_fold,aut_rfc.predict_proba(X_train_fold)[:,1])\n",
    "    trainingScores.append(loglossTraining)\n",
    "    \n",
    "    predictionsBasedOnKFolds.loc[X_cv_fold.index,:] = aut_rfc.predict_proba(X_cv_fold)  \n",
    "    loglossCV = log_loss(y_cv_fold, predictionsBasedOnKFolds.loc[X_cv_fold.index,1])\n",
    "    cvScores.append(loglossCV)\n",
    "    \n",
    "    print('Training Log Loss: ', loglossTraining)\n",
    "    print('CV Log Loss: ', loglossCV)\n",
    "    \n",
    "loglossRandomForestsClassifier = log_loss(y_train_res,predictionsBasedOnKFolds.loc[:,1])\n",
    "print('Autoencoder-Random Forest Log Loss: ', loglossRandomForestsClassifier) # before Random Forest Log Loss:  0.15557334239967888"
   ]
  },
  {
   "cell_type": "code",
   "execution_count": 88,
   "metadata": {},
   "outputs": [
    {
     "name": "stdout",
     "output_type": "stream",
     "text": [
      "Optimal Threshold=0.647943, F-Score=0.973\n",
      "Optimal Threshold=0.650139\n"
     ]
    },
    {
     "data": {
      "image/png": "[encoded data removed]",
      "text/plain": [
       "<Figure size 1440x720 with 1 Axes>"
      ]
     },
     "metadata": {},
     "output_type": "display_data"
    },
    {
     "data": {
      "image/png": "[encoded data removed]",
      "text/plain": [
       "<Figure size 1440x720 with 1 Axes>"
      ]
     },
     "metadata": {},
     "output_type": "display_data"
    }
   ],
   "source": [
    "preds_aut = plotPerformance(y_train_aut, predictionsBasedOnKFolds.loc[:,1], True)\n",
    "#Optimal Threshold=0.599890, F-Score=0.952\n",
    "#Optimal Threshold=0.599890\n"
   ]
  },
  {
   "cell_type": "code",
   "execution_count": null,
   "metadata": {},
   "outputs": [],
   "source": []
  },
  {
   "cell_type": "code",
   "execution_count": 77,
   "metadata": {},
   "outputs": [],
   "source": [
    "def precisionAnalysis(df, column, threshold):\n",
    "    df.sort_values(by=column, ascending=False, inplace=True)\n",
    "    threshold_value = threshold*df.trueLabel.sum()\n",
    "    i = 0\n",
    "    j = 0\n",
    "    while i < threshold_value+1:\n",
    "        if df.iloc[j][\"trueLabel\"]==1:\n",
    "            i += 1\n",
    "        j += 1\n",
    "    return df, i/j"
   ]
  },
  {
   "cell_type": "code",
   "execution_count": 89,
   "metadata": {},
   "outputs": [
    {
     "data": {
      "text/plain": [
       "(174142, 2)"
      ]
     },
     "execution_count": 89,
     "metadata": {},
     "output_type": "execute_result"
    }
   ],
   "source": [
    "preds_aut.shape"
   ]
  },
  {
   "cell_type": "code",
   "execution_count": 90,
   "metadata": {},
   "outputs": [
    {
     "name": "stdout",
     "output_type": "stream",
     "text": [
      "0.9989\n"
     ]
    }
   ],
   "source": [
    "preds, precision = precisionAnalysis(preds_aut, \"anomalyScore\", 0.6)\n",
    "print(f'{round(precision,4)}')"
   ]
  },
  {
   "cell_type": "markdown",
   "metadata": {},
   "source": [
    "# RESULTS ON TEST SET"
   ]
  },
  {
   "cell_type": "code",
   "execution_count": null,
   "metadata": {},
   "outputs": [],
   "source": []
  },
  {
   "cell_type": "code",
   "execution_count": 117,
   "metadata": {},
   "outputs": [],
   "source": [
    "predictionsTestSetLogisticRegression = pd.DataFrame(data=[],index=y_test.index,columns=['prediction'])\n",
    "predictionsTestSetLogisticRegression.loc[:,'prediction'] = logReg.predict_proba(X_test_lg)[:,1]\n",
    "logLossTestSetLogisticRegression = log_loss(y_test, predictionsTestSetLogisticRegression)"
   ]
  },
  {
   "cell_type": "code",
   "execution_count": 118,
   "metadata": {},
   "outputs": [
    {
     "data": {
      "text/plain": [
       "0.5326994087488605"
      ]
     },
     "execution_count": 118,
     "metadata": {},
     "output_type": "execute_result"
    }
   ],
   "source": [
    "logLossTestSetLogisticRegression"
   ]
  },
  {
   "cell_type": "code",
   "execution_count": 120,
   "metadata": {},
   "outputs": [],
   "source": [
    "# X_test_lg2\n",
    "preds_Test_lg_int = pd.DataFrame(data=[],index=y_test.index,columns=['prediction'])\n",
    "preds_Test_lg_int.loc[:,'prediction'] = logReg_int.predict_proba(X_test_lg2)[:,1]\n",
    "logLoss_lg_int = log_loss(y_test, preds_Test_lg_int)"
   ]
  },
  {
   "cell_type": "code",
   "execution_count": 121,
   "metadata": {},
   "outputs": [
    {
     "data": {
      "text/plain": [
       "0.5090951233391061"
      ]
     },
     "execution_count": 121,
     "metadata": {},
     "output_type": "execute_result"
    }
   ],
   "source": [
    "logLoss_lg_int"
   ]
  },
  {
   "cell_type": "code",
   "execution_count": 144,
   "metadata": {},
   "outputs": [],
   "source": [
    "predictionsTestSetRandomForests = pd.DataFrame(data=[],index=y_test.index,columns=['prediction'])\n",
    "predictionsTestSetRandomForests.loc[:,'prediction'] = rfc.predict_proba(X_test)[:,1]\n",
    "logLossTestSetRandomForests = log_loss(y_test, predictionsTestSetRandomForests)"
   ]
  },
  {
   "cell_type": "code",
   "execution_count": 145,
   "metadata": {},
   "outputs": [
    {
     "data": {
      "text/plain": [
       "0.14599863080563444"
      ]
     },
     "execution_count": 145,
     "metadata": {},
     "output_type": "execute_result"
    }
   ],
   "source": [
    "logLossTestSetRandomForests"
   ]
  },
  {
   "cell_type": "code",
   "execution_count": 94,
   "metadata": {},
   "outputs": [
    {
     "data": {
      "text/html": [
       "<div>\n",
       "<style scoped>\n",
       "    .dataframe tbody tr th:only-of-type {\n",
       "        vertical-align: middle;\n",
       "    }\n",
       "\n",
       "    .dataframe tbody tr th {\n",
       "        vertical-align: top;\n",
       "    }\n",
       "\n",
       "    .dataframe thead th {\n",
       "        text-align: right;\n",
       "    }\n",
       "</style>\n",
       "<table border=\"1\" class=\"dataframe\">\n",
       "  <thead>\n",
       "    <tr style=\"text-align: right;\">\n",
       "      <th></th>\n",
       "      <th>prediction</th>\n",
       "    </tr>\n",
       "  </thead>\n",
       "  <tbody>\n",
       "    <tr>\n",
       "      <th>76947</th>\n",
       "      <td>0.105050</td>\n",
       "    </tr>\n",
       "    <tr>\n",
       "      <th>57161</th>\n",
       "      <td>0.103227</td>\n",
       "    </tr>\n",
       "    <tr>\n",
       "      <th>98767</th>\n",
       "      <td>0.474624</td>\n",
       "    </tr>\n",
       "    <tr>\n",
       "      <th>105826</th>\n",
       "      <td>0.066657</td>\n",
       "    </tr>\n",
       "    <tr>\n",
       "      <th>99344</th>\n",
       "      <td>0.383917</td>\n",
       "    </tr>\n",
       "    <tr>\n",
       "      <th>...</th>\n",
       "      <td>...</td>\n",
       "    </tr>\n",
       "    <tr>\n",
       "      <th>21024</th>\n",
       "      <td>0.029976</td>\n",
       "    </tr>\n",
       "    <tr>\n",
       "      <th>45220</th>\n",
       "      <td>0.049899</td>\n",
       "    </tr>\n",
       "    <tr>\n",
       "      <th>30140</th>\n",
       "      <td>0.058212</td>\n",
       "    </tr>\n",
       "    <tr>\n",
       "      <th>65250</th>\n",
       "      <td>0.085379</td>\n",
       "    </tr>\n",
       "    <tr>\n",
       "      <th>95495</th>\n",
       "      <td>0.048532</td>\n",
       "    </tr>\n",
       "  </tbody>\n",
       "</table>\n",
       "<p>37349 rows × 1 columns</p>\n",
       "</div>"
      ],
      "text/plain": [
       "        prediction\n",
       "76947     0.105050\n",
       "57161     0.103227\n",
       "98767     0.474624\n",
       "105826    0.066657\n",
       "99344     0.383917\n",
       "...            ...\n",
       "21024     0.029976\n",
       "45220     0.049899\n",
       "30140     0.058212\n",
       "65250     0.085379\n",
       "95495     0.048532\n",
       "\n",
       "[37349 rows x 1 columns]"
      ]
     },
     "execution_count": 94,
     "metadata": {},
     "output_type": "execute_result"
    }
   ],
   "source": [
    "predictionsTestSetRandomForests"
   ]
  },
  {
   "cell_type": "code",
   "execution_count": 97,
   "metadata": {},
   "outputs": [],
   "source": [
    "eval_devices = devices.copy()"
   ]
  },
  {
   "cell_type": "code",
   "execution_count": 146,
   "metadata": {},
   "outputs": [],
   "source": [
    "eval_devices[\"predict_rfc\"] = rfc.predict_proba(eval_devices[process_cols])[:,1] # y = gb.predict(X[X_cols])[0]\n"
   ]
  },
  {
   "cell_type": "code",
   "execution_count": 147,
   "metadata": {},
   "outputs": [],
   "source": [
    "eval_devices.loc[:, 'label_rfc'] = 1 * (eval_devices.loc[:, 'predict_rfc'] > .55) #0.599189, 619244"
   ]
  },
  {
   "cell_type": "code",
   "execution_count": 172,
   "metadata": {},
   "outputs": [
    {
     "data": {
      "text/html": [
       "<div>\n",
       "<style scoped>\n",
       "    .dataframe tbody tr th:only-of-type {\n",
       "        vertical-align: middle;\n",
       "    }\n",
       "\n",
       "    .dataframe tbody tr th {\n",
       "        vertical-align: top;\n",
       "    }\n",
       "\n",
       "    .dataframe thead th {\n",
       "        text-align: right;\n",
       "    }\n",
       "</style>\n",
       "<table border=\"1\" class=\"dataframe\">\n",
       "  <thead>\n",
       "    <tr style=\"text-align: right;\">\n",
       "      <th></th>\n",
       "      <th>date</th>\n",
       "      <th>device</th>\n",
       "      <th>failure</th>\n",
       "      <th>attribute1</th>\n",
       "      <th>attribute2</th>\n",
       "      <th>attribute3</th>\n",
       "      <th>attribute4</th>\n",
       "      <th>attribute5</th>\n",
       "      <th>attribute6</th>\n",
       "      <th>attribute8</th>\n",
       "      <th>attribute9</th>\n",
       "      <th>predict_rfc</th>\n",
       "      <th>label_rfc</th>\n",
       "      <th>predict_dtc</th>\n",
       "      <th>label_dtc</th>\n",
       "      <th>predict_gb</th>\n",
       "      <th>label_gb</th>\n",
       "    </tr>\n",
       "  </thead>\n",
       "  <tbody>\n",
       "    <tr>\n",
       "      <th>0</th>\n",
       "      <td>2015-01-01</td>\n",
       "      <td>S1F01085</td>\n",
       "      <td>0</td>\n",
       "      <td>215630672</td>\n",
       "      <td>56</td>\n",
       "      <td>0</td>\n",
       "      <td>52</td>\n",
       "      <td>6</td>\n",
       "      <td>407438</td>\n",
       "      <td>0</td>\n",
       "      <td>7</td>\n",
       "      <td>0.485808</td>\n",
       "      <td>0</td>\n",
       "      <td>0.103516</td>\n",
       "      <td>0</td>\n",
       "      <td>0.055438</td>\n",
       "      <td>0</td>\n",
       "    </tr>\n",
       "    <tr>\n",
       "      <th>1</th>\n",
       "      <td>2015-01-01</td>\n",
       "      <td>S1F0166B</td>\n",
       "      <td>0</td>\n",
       "      <td>61370680</td>\n",
       "      <td>0</td>\n",
       "      <td>3</td>\n",
       "      <td>0</td>\n",
       "      <td>6</td>\n",
       "      <td>403174</td>\n",
       "      <td>0</td>\n",
       "      <td>0</td>\n",
       "      <td>0.069422</td>\n",
       "      <td>0</td>\n",
       "      <td>0.009302</td>\n",
       "      <td>0</td>\n",
       "      <td>0.005157</td>\n",
       "      <td>0</td>\n",
       "    </tr>\n",
       "    <tr>\n",
       "      <th>2</th>\n",
       "      <td>2015-01-01</td>\n",
       "      <td>S1F01E6Y</td>\n",
       "      <td>0</td>\n",
       "      <td>173295968</td>\n",
       "      <td>0</td>\n",
       "      <td>0</td>\n",
       "      <td>0</td>\n",
       "      <td>12</td>\n",
       "      <td>237394</td>\n",
       "      <td>0</td>\n",
       "      <td>0</td>\n",
       "      <td>0.076044</td>\n",
       "      <td>0</td>\n",
       "      <td>0.080413</td>\n",
       "      <td>0</td>\n",
       "      <td>0.029416</td>\n",
       "      <td>0</td>\n",
       "    </tr>\n",
       "    <tr>\n",
       "      <th>3</th>\n",
       "      <td>2015-01-01</td>\n",
       "      <td>S1F01JE0</td>\n",
       "      <td>0</td>\n",
       "      <td>79694024</td>\n",
       "      <td>0</td>\n",
       "      <td>0</td>\n",
       "      <td>0</td>\n",
       "      <td>6</td>\n",
       "      <td>410186</td>\n",
       "      <td>0</td>\n",
       "      <td>0</td>\n",
       "      <td>0.040560</td>\n",
       "      <td>0</td>\n",
       "      <td>0.258679</td>\n",
       "      <td>0</td>\n",
       "      <td>0.014856</td>\n",
       "      <td>0</td>\n",
       "    </tr>\n",
       "    <tr>\n",
       "      <th>4</th>\n",
       "      <td>2015-01-01</td>\n",
       "      <td>S1F01R2B</td>\n",
       "      <td>0</td>\n",
       "      <td>135970480</td>\n",
       "      <td>0</td>\n",
       "      <td>0</td>\n",
       "      <td>0</td>\n",
       "      <td>15</td>\n",
       "      <td>313173</td>\n",
       "      <td>0</td>\n",
       "      <td>3</td>\n",
       "      <td>0.121423</td>\n",
       "      <td>0</td>\n",
       "      <td>0.080413</td>\n",
       "      <td>0</td>\n",
       "      <td>0.071569</td>\n",
       "      <td>0</td>\n",
       "    </tr>\n",
       "  </tbody>\n",
       "</table>\n",
       "</div>"
      ],
      "text/plain": [
       "         date    device  failure  attribute1  attribute2  attribute3  \\\n",
       "0  2015-01-01  S1F01085        0   215630672          56           0   \n",
       "1  2015-01-01  S1F0166B        0    61370680           0           3   \n",
       "2  2015-01-01  S1F01E6Y        0   173295968           0           0   \n",
       "3  2015-01-01  S1F01JE0        0    79694024           0           0   \n",
       "4  2015-01-01  S1F01R2B        0   135970480           0           0   \n",
       "\n",
       "   attribute4  attribute5  attribute6  attribute8  attribute9  predict_rfc  \\\n",
       "0          52           6      407438           0           7     0.485808   \n",
       "1           0           6      403174           0           0     0.069422   \n",
       "2           0          12      237394           0           0     0.076044   \n",
       "3           0           6      410186           0           0     0.040560   \n",
       "4           0          15      313173           0           3     0.121423   \n",
       "\n",
       "   label_rfc  predict_dtc  label_dtc  predict_gb  label_gb  \n",
       "0          0     0.103516          0    0.055438         0  \n",
       "1          0     0.009302          0    0.005157         0  \n",
       "2          0     0.080413          0    0.029416         0  \n",
       "3          0     0.258679          0    0.014856         0  \n",
       "4          0     0.080413          0    0.071569         0  "
      ]
     },
     "execution_count": 172,
     "metadata": {},
     "output_type": "execute_result"
    }
   ],
   "source": [
    "eval_devices.head()"
   ]
  },
  {
   "cell_type": "code",
   "execution_count": 149,
   "metadata": {},
   "outputs": [
    {
     "data": {
      "text/plain": [
       "1    0.669811\n",
       "0    0.330189\n",
       "Name: label_rfc, dtype: float64"
      ]
     },
     "execution_count": 149,
     "metadata": {},
     "output_type": "execute_result"
    }
   ],
   "source": [
    "eval_devices[eval_devices.failure==1].label_rfc.value_counts(normalize=True)"
   ]
  },
  {
   "cell_type": "code",
   "execution_count": 161,
   "metadata": {},
   "outputs": [],
   "source": [
    "from sklearn.tree import DecisionTreeClassifier\n",
    "dt2_model = DecisionTreeClassifier(max_depth=8,\n",
    "                                  max_features=\"auto\", \n",
    "                                  class_weight=\"balanced\", \n",
    "                                  min_samples_leaf = 3,\n",
    "                                  ccp_alpha= 0.0001,\n",
    "                                  random_state=2020)\n",
    "#click.echo(\"Modelo extremo podado\")\n",
    "\n",
    "dtm_ex = dt2_model.fit(X_train_res,y_train_res)"
   ]
  },
  {
   "cell_type": "code",
   "execution_count": 162,
   "metadata": {},
   "outputs": [],
   "source": [
    "eval_devices[\"predict_dtc\"] = dtm_ex.predict_proba(eval_devices[process_cols])[:,1] # y = gb.predict(X[X_cols])[0]"
   ]
  },
  {
   "cell_type": "code",
   "execution_count": 163,
   "metadata": {},
   "outputs": [],
   "source": [
    "eval_devices.loc[:, 'label_dtc'] = 1 * (eval_devices.loc[:, 'predict_dtc'] > .6) #0.599189, 619244"
   ]
  },
  {
   "cell_type": "code",
   "execution_count": 186,
   "metadata": {},
   "outputs": [
    {
     "data": {
      "text/plain": [
       "1    0.688679\n",
       "0    0.311321\n",
       "Name: label_dtc, dtype: float64"
      ]
     },
     "execution_count": 186,
     "metadata": {},
     "output_type": "execute_result"
    }
   ],
   "source": [
    "eval_devices[eval_devices.failure==1].label_dtc.value_counts(normalize=True)"
   ]
  },
  {
   "cell_type": "code",
   "execution_count": 196,
   "metadata": {},
   "outputs": [],
   "source": [
    "from sklearn.ensemble import GradientBoostingClassifier\n",
    "\n",
    "final_gbc = GradientBoostingClassifier(learning_rate=0.005, max_features=7, validation_fraction=0.1, \n",
    "                           n_estimators=320, n_iter_no_change=12,\n",
    "                           random_state=2020, subsample=0.97)"
   ]
  },
  {
   "cell_type": "code",
   "execution_count": 197,
   "metadata": {},
   "outputs": [],
   "source": [
    "final_gb = final_gbc.fit(X_train_res, y_train_res)"
   ]
  },
  {
   "cell_type": "code",
   "execution_count": 198,
   "metadata": {},
   "outputs": [],
   "source": [
    "eval_devices[\"predict_gb\"] = final_gb.predict_proba(eval_devices[process_cols])[:,1] # y = gb.predict(X[X_cols])[0]"
   ]
  },
  {
   "cell_type": "code",
   "execution_count": 201,
   "metadata": {},
   "outputs": [],
   "source": [
    "eval_devices.loc[:, 'label_gb'] = 1 * (eval_devices.loc[:, 'predict_gb'] > .6) #0.599189, 619244"
   ]
  },
  {
   "cell_type": "code",
   "execution_count": 202,
   "metadata": {},
   "outputs": [
    {
     "data": {
      "text/plain": [
       "1    0.688679\n",
       "0    0.311321\n",
       "Name: label_gb, dtype: float64"
      ]
     },
     "execution_count": 202,
     "metadata": {},
     "output_type": "execute_result"
    }
   ],
   "source": [
    "eval_devices[eval_devices.failure==1].label_gb.value_counts(normalize=True)"
   ]
  },
  {
   "cell_type": "code",
   "execution_count": null,
   "metadata": {},
   "outputs": [],
   "source": []
  },
  {
   "cell_type": "code",
   "execution_count": null,
   "metadata": {},
   "outputs": [],
   "source": []
  },
  {
   "cell_type": "markdown",
   "metadata": {},
   "source": [
    "# Pendientes\n",
    "\n",
    "\n",
    "### 4. Paso 3: Aprendizaje semi-supervisado\n",
    "### 6. Evaluaciones: tabla comparativa de performance\n",
    "### 7. Limpieza del reporte"
   ]
  },
  {
   "cell_type": "code",
   "execution_count": null,
   "metadata": {},
   "outputs": [],
   "source": []
  }
 ],
 "metadata": {
  "kernelspec": {
   "display_name": "Python 3",
   "language": "python",
   "name": "python3"
  },
  "language_info": {
   "codemirror_mode": {
    "name": "ipython",
    "version": 3
   },
   "file_extension": ".py",
   "mimetype": "text/x-python",
   "name": "python",
   "nbconvert_exporter": "python",
   "pygments_lexer": "ipython3",
   "version": "3.6.10"
  }
 },
 "nbformat": 4,
 "nbformat_minor": 4
}
