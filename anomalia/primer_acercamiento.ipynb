{
 "cells": [
  {
   "cell_type": "code",
   "execution_count": 1,
   "metadata": {},
   "outputs": [],
   "source": [
    "import numpy as np\n",
    "import pandas as pd\n",
    "import matplotlib.pyplot as plt\n",
    "import seaborn as sns\n",
    "sns.set()\n",
    "\n",
    "plt.rcParams['figure.figsize'] = (20, 10)\n",
    "pd.set_option('display.max_columns', None)"
   ]
  },
  {
   "cell_type": "code",
   "execution_count": 2,
   "metadata": {},
   "outputs": [],
   "source": [
    "np.random.seed(0)"
   ]
  },
  {
   "cell_type": "code",
   "execution_count": 9,
   "metadata": {},
   "outputs": [],
   "source": [
    "# Problema inicial, no sabemos si es un csv...\n",
    "# cat device_failure.csv | head no muestra problemas\n",
    "# no sabemos el encoding, usamos latin-1 como primer intento"
   ]
  },
  {
   "cell_type": "code",
   "execution_count": 7,
   "metadata": {},
   "outputs": [],
   "source": [
    "devices = pd.read_csv(\"device_failure.csv\", encoding='Latin-1')"
   ]
  },
  {
   "cell_type": "code",
   "execution_count": 8,
   "metadata": {},
   "outputs": [
    {
     "data": {
      "text/html": [
       "<div>\n",
       "<style scoped>\n",
       "    .dataframe tbody tr th:only-of-type {\n",
       "        vertical-align: middle;\n",
       "    }\n",
       "\n",
       "    .dataframe tbody tr th {\n",
       "        vertical-align: top;\n",
       "    }\n",
       "\n",
       "    .dataframe thead th {\n",
       "        text-align: right;\n",
       "    }\n",
       "</style>\n",
       "<table border=\"1\" class=\"dataframe\">\n",
       "  <thead>\n",
       "    <tr style=\"text-align: right;\">\n",
       "      <th></th>\n",
       "      <th>date</th>\n",
       "      <th>device</th>\n",
       "      <th>failure</th>\n",
       "      <th>attribute1</th>\n",
       "      <th>attribute2</th>\n",
       "      <th>attribute3</th>\n",
       "      <th>attribute4</th>\n",
       "      <th>attribute5</th>\n",
       "      <th>attribute6</th>\n",
       "      <th>attribute7</th>\n",
       "      <th>attribute8</th>\n",
       "      <th>attribute9</th>\n",
       "    </tr>\n",
       "  </thead>\n",
       "  <tbody>\n",
       "    <tr>\n",
       "      <th>0</th>\n",
       "      <td>2015-01-01</td>\n",
       "      <td>S1F01085</td>\n",
       "      <td>0</td>\n",
       "      <td>215630672</td>\n",
       "      <td>56</td>\n",
       "      <td>0</td>\n",
       "      <td>52</td>\n",
       "      <td>6</td>\n",
       "      <td>407438</td>\n",
       "      <td>0</td>\n",
       "      <td>0</td>\n",
       "      <td>7</td>\n",
       "    </tr>\n",
       "    <tr>\n",
       "      <th>1</th>\n",
       "      <td>2015-01-01</td>\n",
       "      <td>S1F0166B</td>\n",
       "      <td>0</td>\n",
       "      <td>61370680</td>\n",
       "      <td>0</td>\n",
       "      <td>3</td>\n",
       "      <td>0</td>\n",
       "      <td>6</td>\n",
       "      <td>403174</td>\n",
       "      <td>0</td>\n",
       "      <td>0</td>\n",
       "      <td>0</td>\n",
       "    </tr>\n",
       "    <tr>\n",
       "      <th>2</th>\n",
       "      <td>2015-01-01</td>\n",
       "      <td>S1F01E6Y</td>\n",
       "      <td>0</td>\n",
       "      <td>173295968</td>\n",
       "      <td>0</td>\n",
       "      <td>0</td>\n",
       "      <td>0</td>\n",
       "      <td>12</td>\n",
       "      <td>237394</td>\n",
       "      <td>0</td>\n",
       "      <td>0</td>\n",
       "      <td>0</td>\n",
       "    </tr>\n",
       "    <tr>\n",
       "      <th>3</th>\n",
       "      <td>2015-01-01</td>\n",
       "      <td>S1F01JE0</td>\n",
       "      <td>0</td>\n",
       "      <td>79694024</td>\n",
       "      <td>0</td>\n",
       "      <td>0</td>\n",
       "      <td>0</td>\n",
       "      <td>6</td>\n",
       "      <td>410186</td>\n",
       "      <td>0</td>\n",
       "      <td>0</td>\n",
       "      <td>0</td>\n",
       "    </tr>\n",
       "    <tr>\n",
       "      <th>4</th>\n",
       "      <td>2015-01-01</td>\n",
       "      <td>S1F01R2B</td>\n",
       "      <td>0</td>\n",
       "      <td>135970480</td>\n",
       "      <td>0</td>\n",
       "      <td>0</td>\n",
       "      <td>0</td>\n",
       "      <td>15</td>\n",
       "      <td>313173</td>\n",
       "      <td>0</td>\n",
       "      <td>0</td>\n",
       "      <td>3</td>\n",
       "    </tr>\n",
       "  </tbody>\n",
       "</table>\n",
       "</div>"
      ],
      "text/plain": [
       "         date    device  failure  attribute1  attribute2  attribute3  \\\n",
       "0  2015-01-01  S1F01085        0   215630672          56           0   \n",
       "1  2015-01-01  S1F0166B        0    61370680           0           3   \n",
       "2  2015-01-01  S1F01E6Y        0   173295968           0           0   \n",
       "3  2015-01-01  S1F01JE0        0    79694024           0           0   \n",
       "4  2015-01-01  S1F01R2B        0   135970480           0           0   \n",
       "\n",
       "   attribute4  attribute5  attribute6  attribute7  attribute8  attribute9  \n",
       "0          52           6      407438           0           0           7  \n",
       "1           0           6      403174           0           0           0  \n",
       "2           0          12      237394           0           0           0  \n",
       "3           0           6      410186           0           0           0  \n",
       "4           0          15      313173           0           0           3  "
      ]
     },
     "execution_count": 8,
     "metadata": {},
     "output_type": "execute_result"
    }
   ],
   "source": [
    "devices.head()"
   ]
  },
  {
   "cell_type": "code",
   "execution_count": 56,
   "metadata": {},
   "outputs": [
    {
     "data": {
      "text/plain": [
       "1169"
      ]
     },
     "execution_count": 56,
     "metadata": {},
     "output_type": "execute_result"
    }
   ],
   "source": [
    "devices.device.nunique()"
   ]
  },
  {
   "cell_type": "code",
   "execution_count": 65,
   "metadata": {},
   "outputs": [
    {
     "data": {
      "text/plain": [
       "2015-01-04    1\n",
       "2015-01-03    1\n",
       "2015-01-06    1\n",
       "2015-01-02    1\n",
       "2015-01-05    1\n",
       "2015-01-01    1\n",
       "Name: date, dtype: int64"
      ]
     },
     "execution_count": 65,
     "metadata": {},
     "output_type": "execute_result"
    }
   ],
   "source": [
    "devices[devices.device == \"S1F01085\"][\"date\"].value_counts()\n"
   ]
  },
  {
   "cell_type": "code",
   "execution_count": 10,
   "metadata": {},
   "outputs": [
    {
     "name": "stdout",
     "output_type": "stream",
     "text": [
      "<class 'pandas.core.frame.DataFrame'>\n",
      "RangeIndex: 124494 entries, 0 to 124493\n",
      "Data columns (total 12 columns):\n",
      " #   Column      Non-Null Count   Dtype \n",
      "---  ------      --------------   ----- \n",
      " 0   date        124494 non-null  object\n",
      " 1   device      124494 non-null  object\n",
      " 2   failure     124494 non-null  int64 \n",
      " 3   attribute1  124494 non-null  int64 \n",
      " 4   attribute2  124494 non-null  int64 \n",
      " 5   attribute3  124494 non-null  int64 \n",
      " 6   attribute4  124494 non-null  int64 \n",
      " 7   attribute5  124494 non-null  int64 \n",
      " 8   attribute6  124494 non-null  int64 \n",
      " 9   attribute7  124494 non-null  int64 \n",
      " 10  attribute8  124494 non-null  int64 \n",
      " 11  attribute9  124494 non-null  int64 \n",
      "dtypes: int64(10), object(2)\n",
      "memory usage: 11.4+ MB\n"
     ]
    }
   ],
   "source": [
    "devices.info()"
   ]
  },
  {
   "cell_type": "code",
   "execution_count": 14,
   "metadata": {},
   "outputs": [
    {
     "data": {
      "text/plain": [
       "0    0.999149\n",
       "1    0.000851\n",
       "Name: failure, dtype: float64"
      ]
     },
     "execution_count": 14,
     "metadata": {},
     "output_type": "execute_result"
    }
   ],
   "source": [
    "devices.failure.value_counts(normalize=True)"
   ]
  },
  {
   "cell_type": "code",
   "execution_count": 15,
   "metadata": {},
   "outputs": [],
   "source": [
    "devices[\"date\"]=pd.to_datetime(devices[\"date\"])"
   ]
  },
  {
   "cell_type": "code",
   "execution_count": 25,
   "metadata": {},
   "outputs": [
    {
     "data": {
      "text/plain": [
       "<matplotlib.axes._subplots.AxesSubplot at 0x7fac7cefba20>"
      ]
     },
     "execution_count": 25,
     "metadata": {},
     "output_type": "execute_result"
    },
    {
     "data": {
      "image/png": "[encoded data removed]",
      "text/plain": [
       "<Figure size 1440x720 with 1 Axes>"
      ]
     },
     "metadata": {},
     "output_type": "display_data"
    }
   ],
   "source": [
    "devices.groupby([\"date\"])[\"device\"].nunique().plot()"
   ]
  },
  {
   "cell_type": "code",
   "execution_count": 35,
   "metadata": {},
   "outputs": [
    {
     "data": {
      "text/plain": [
       "<matplotlib.axes._subplots.AxesSubplot at 0x7fac78693c88>"
      ]
     },
     "execution_count": 35,
     "metadata": {},
     "output_type": "execute_result"
    },
    {
     "data": {
      "image/png": "[encoded data removed]",
      "text/plain": [
       "<Figure size 1440x720 with 1 Axes>"
      ]
     },
     "metadata": {},
     "output_type": "display_data"
    }
   ],
   "source": [
    "devices.query(\"(failure == 1)\").date.hist(bins = 110, alpha = 0.45)"
   ]
  },
  {
   "cell_type": "code",
   "execution_count": 23,
   "metadata": {},
   "outputs": [
    {
     "data": {
      "text/plain": [
       "count    1169.000000\n",
       "mean      106.496151\n",
       "std       102.651601\n",
       "min         1.000000\n",
       "25%         6.000000\n",
       "50%        84.000000\n",
       "75%       224.000000\n",
       "max       304.000000\n",
       "Name: date, dtype: float64"
      ]
     },
     "execution_count": 23,
     "metadata": {},
     "output_type": "execute_result"
    }
   ],
   "source": [
    "devices.groupby([\"device\"])[\"date\"].count().describe()"
   ]
  },
  {
   "cell_type": "code",
   "execution_count": 38,
   "metadata": {},
   "outputs": [
    {
     "data": {
      "image/png": "[encoded data removed]",
      "text/plain": [
       "<Figure size 1440x1440 with 2 Axes>"
      ]
     },
     "metadata": {},
     "output_type": "display_data"
    }
   ],
   "source": [
    "plt.figure(figsize=(20, 20))\n",
    "corr = devices.corr() \n",
    "mask = np.tri(*corr.shape).T \n",
    "sns.heatmap(corr.abs(), mask=mask, annot=False, cmap='viridis');"
   ]
  },
  {
   "cell_type": "code",
   "execution_count": null,
   "metadata": {},
   "outputs": [],
   "source": [
    "## Al aprecer hay correlación 1 entre 2 variables, posiblemente repetidas attribute7 con attribute8"
   ]
  },
  {
   "cell_type": "code",
   "execution_count": 55,
   "metadata": {},
   "outputs": [
    {
     "data": {
      "text/html": [
       "<div>\n",
       "<style scoped>\n",
       "    .dataframe tbody tr th:only-of-type {\n",
       "        vertical-align: middle;\n",
       "    }\n",
       "\n",
       "    .dataframe tbody tr th {\n",
       "        vertical-align: top;\n",
       "    }\n",
       "\n",
       "    .dataframe thead th {\n",
       "        text-align: right;\n",
       "    }\n",
       "</style>\n",
       "<table border=\"1\" class=\"dataframe\">\n",
       "  <thead>\n",
       "    <tr style=\"text-align: right;\">\n",
       "      <th></th>\n",
       "      <th>failure</th>\n",
       "      <th>attribute1</th>\n",
       "      <th>attribute2</th>\n",
       "      <th>attribute3</th>\n",
       "      <th>attribute4</th>\n",
       "      <th>attribute5</th>\n",
       "      <th>attribute6</th>\n",
       "      <th>attribute7</th>\n",
       "      <th>attribute8</th>\n",
       "      <th>attribute9</th>\n",
       "    </tr>\n",
       "  </thead>\n",
       "  <tbody>\n",
       "    <tr>\n",
       "      <th>count</th>\n",
       "      <td>124494.000000</td>\n",
       "      <td>1.244940e+05</td>\n",
       "      <td>124494.000000</td>\n",
       "      <td>124494.000000</td>\n",
       "      <td>124494.000000</td>\n",
       "      <td>124494.000000</td>\n",
       "      <td>124494.000000</td>\n",
       "      <td>124494.000000</td>\n",
       "      <td>124494.000000</td>\n",
       "      <td>124494.000000</td>\n",
       "    </tr>\n",
       "    <tr>\n",
       "      <th>mean</th>\n",
       "      <td>0.000851</td>\n",
       "      <td>1.223881e+08</td>\n",
       "      <td>159.484762</td>\n",
       "      <td>9.940455</td>\n",
       "      <td>1.741120</td>\n",
       "      <td>14.222669</td>\n",
       "      <td>260172.657726</td>\n",
       "      <td>0.292528</td>\n",
       "      <td>0.292528</td>\n",
       "      <td>12.451524</td>\n",
       "    </tr>\n",
       "    <tr>\n",
       "      <th>std</th>\n",
       "      <td>0.029167</td>\n",
       "      <td>7.045933e+07</td>\n",
       "      <td>2179.657730</td>\n",
       "      <td>185.747321</td>\n",
       "      <td>22.908507</td>\n",
       "      <td>15.943028</td>\n",
       "      <td>99151.078547</td>\n",
       "      <td>7.436924</td>\n",
       "      <td>7.436924</td>\n",
       "      <td>191.425623</td>\n",
       "    </tr>\n",
       "    <tr>\n",
       "      <th>min</th>\n",
       "      <td>0.000000</td>\n",
       "      <td>0.000000e+00</td>\n",
       "      <td>0.000000</td>\n",
       "      <td>0.000000</td>\n",
       "      <td>0.000000</td>\n",
       "      <td>1.000000</td>\n",
       "      <td>8.000000</td>\n",
       "      <td>0.000000</td>\n",
       "      <td>0.000000</td>\n",
       "      <td>0.000000</td>\n",
       "    </tr>\n",
       "    <tr>\n",
       "      <th>25%</th>\n",
       "      <td>0.000000</td>\n",
       "      <td>6.128476e+07</td>\n",
       "      <td>0.000000</td>\n",
       "      <td>0.000000</td>\n",
       "      <td>0.000000</td>\n",
       "      <td>8.000000</td>\n",
       "      <td>221452.000000</td>\n",
       "      <td>0.000000</td>\n",
       "      <td>0.000000</td>\n",
       "      <td>0.000000</td>\n",
       "    </tr>\n",
       "    <tr>\n",
       "      <th>50%</th>\n",
       "      <td>0.000000</td>\n",
       "      <td>1.227974e+08</td>\n",
       "      <td>0.000000</td>\n",
       "      <td>0.000000</td>\n",
       "      <td>0.000000</td>\n",
       "      <td>10.000000</td>\n",
       "      <td>249799.500000</td>\n",
       "      <td>0.000000</td>\n",
       "      <td>0.000000</td>\n",
       "      <td>0.000000</td>\n",
       "    </tr>\n",
       "    <tr>\n",
       "      <th>75%</th>\n",
       "      <td>0.000000</td>\n",
       "      <td>1.833096e+08</td>\n",
       "      <td>0.000000</td>\n",
       "      <td>0.000000</td>\n",
       "      <td>0.000000</td>\n",
       "      <td>12.000000</td>\n",
       "      <td>310266.000000</td>\n",
       "      <td>0.000000</td>\n",
       "      <td>0.000000</td>\n",
       "      <td>0.000000</td>\n",
       "    </tr>\n",
       "    <tr>\n",
       "      <th>max</th>\n",
       "      <td>1.000000</td>\n",
       "      <td>2.441405e+08</td>\n",
       "      <td>64968.000000</td>\n",
       "      <td>24929.000000</td>\n",
       "      <td>1666.000000</td>\n",
       "      <td>98.000000</td>\n",
       "      <td>689161.000000</td>\n",
       "      <td>832.000000</td>\n",
       "      <td>832.000000</td>\n",
       "      <td>18701.000000</td>\n",
       "    </tr>\n",
       "  </tbody>\n",
       "</table>\n",
       "</div>"
      ],
      "text/plain": [
       "             failure    attribute1     attribute2     attribute3  \\\n",
       "count  124494.000000  1.244940e+05  124494.000000  124494.000000   \n",
       "mean        0.000851  1.223881e+08     159.484762       9.940455   \n",
       "std         0.029167  7.045933e+07    2179.657730     185.747321   \n",
       "min         0.000000  0.000000e+00       0.000000       0.000000   \n",
       "25%         0.000000  6.128476e+07       0.000000       0.000000   \n",
       "50%         0.000000  1.227974e+08       0.000000       0.000000   \n",
       "75%         0.000000  1.833096e+08       0.000000       0.000000   \n",
       "max         1.000000  2.441405e+08   64968.000000   24929.000000   \n",
       "\n",
       "          attribute4     attribute5     attribute6     attribute7  \\\n",
       "count  124494.000000  124494.000000  124494.000000  124494.000000   \n",
       "mean        1.741120      14.222669  260172.657726       0.292528   \n",
       "std        22.908507      15.943028   99151.078547       7.436924   \n",
       "min         0.000000       1.000000       8.000000       0.000000   \n",
       "25%         0.000000       8.000000  221452.000000       0.000000   \n",
       "50%         0.000000      10.000000  249799.500000       0.000000   \n",
       "75%         0.000000      12.000000  310266.000000       0.000000   \n",
       "max      1666.000000      98.000000  689161.000000     832.000000   \n",
       "\n",
       "          attribute8     attribute9  \n",
       "count  124494.000000  124494.000000  \n",
       "mean        0.292528      12.451524  \n",
       "std         7.436924     191.425623  \n",
       "min         0.000000       0.000000  \n",
       "25%         0.000000       0.000000  \n",
       "50%         0.000000       0.000000  \n",
       "75%         0.000000       0.000000  \n",
       "max       832.000000   18701.000000  "
      ]
     },
     "execution_count": 55,
     "metadata": {},
     "output_type": "execute_result"
    }
   ],
   "source": [
    "devices.describe()"
   ]
  },
  {
   "cell_type": "code",
   "execution_count": 42,
   "metadata": {},
   "outputs": [
    {
     "data": {
      "image/png": "[encoded data removed]",
      "text/plain": [
       "<Figure size 1440x720 with 1 Axes>"
      ]
     },
     "metadata": {},
     "output_type": "display_data"
    }
   ],
   "source": [
    "sns.stripplot(x=\"failure\", y=\"attribute8\", data=devices, jitter=True)\n",
    "plt.show();"
   ]
  },
  {
   "cell_type": "code",
   "execution_count": 40,
   "metadata": {},
   "outputs": [
    {
     "data": {
      "text/plain": [
       "failure       1.000000\n",
       "attribute8    0.119055\n",
       "attribute7    0.119055\n",
       "attribute4    0.067398\n",
       "attribute2    0.052902\n",
       "attribute5    0.002270\n",
       "attribute1    0.001983\n",
       "attribute9    0.001622\n",
       "attribute6   -0.000550\n",
       "attribute3   -0.000948\n",
       "Name: failure, dtype: float64"
      ]
     },
     "execution_count": 40,
     "metadata": {},
     "output_type": "execute_result"
    }
   ],
   "source": [
    "devices.corr()['failure'].sort_values(ascending=False)"
   ]
  },
  {
   "cell_type": "code",
   "execution_count": 46,
   "metadata": {},
   "outputs": [
    {
     "data": {
      "text/html": [
       "<style  type=\"text/css\" >\n",
       "    #T_246fcd66_bc26_11ea_b467_9cb6d0e02a1frow0_col0 {\n",
       "            background-color:  #b40426;\n",
       "            color:  #f1f1f1;\n",
       "        }    #T_246fcd66_bc26_11ea_b467_9cb6d0e02a1frow0_col1 {\n",
       "            background-color:  #3c4ec2;\n",
       "            color:  #f1f1f1;\n",
       "        }    #T_246fcd66_bc26_11ea_b467_9cb6d0e02a1frow0_col2 {\n",
       "            background-color:  #516ddb;\n",
       "            color:  #000000;\n",
       "        }    #T_246fcd66_bc26_11ea_b467_9cb6d0e02a1frow0_col3 {\n",
       "            background-color:  #3c4ec2;\n",
       "            color:  #f1f1f1;\n",
       "        }    #T_246fcd66_bc26_11ea_b467_9cb6d0e02a1frow0_col4 {\n",
       "            background-color:  #516ddb;\n",
       "            color:  #000000;\n",
       "        }    #T_246fcd66_bc26_11ea_b467_9cb6d0e02a1frow0_col5 {\n",
       "            background-color:  #3f53c6;\n",
       "            color:  #f1f1f1;\n",
       "        }    #T_246fcd66_bc26_11ea_b467_9cb6d0e02a1frow0_col6 {\n",
       "            background-color:  #4257c9;\n",
       "            color:  #f1f1f1;\n",
       "        }    #T_246fcd66_bc26_11ea_b467_9cb6d0e02a1frow0_col7 {\n",
       "            background-color:  #6384eb;\n",
       "            color:  #000000;\n",
       "        }    #T_246fcd66_bc26_11ea_b467_9cb6d0e02a1frow0_col8 {\n",
       "            background-color:  #6384eb;\n",
       "            color:  #000000;\n",
       "        }    #T_246fcd66_bc26_11ea_b467_9cb6d0e02a1frow0_col9 {\n",
       "            background-color:  #3c4ec2;\n",
       "            color:  #f1f1f1;\n",
       "        }    #T_246fcd66_bc26_11ea_b467_9cb6d0e02a1frow1_col0 {\n",
       "            background-color:  #3b4cc0;\n",
       "            color:  #f1f1f1;\n",
       "        }    #T_246fcd66_bc26_11ea_b467_9cb6d0e02a1frow1_col1 {\n",
       "            background-color:  #b40426;\n",
       "            color:  #f1f1f1;\n",
       "        }    #T_246fcd66_bc26_11ea_b467_9cb6d0e02a1frow1_col2 {\n",
       "            background-color:  #4055c8;\n",
       "            color:  #f1f1f1;\n",
       "        }    #T_246fcd66_bc26_11ea_b467_9cb6d0e02a1frow1_col3 {\n",
       "            background-color:  #3d50c3;\n",
       "            color:  #f1f1f1;\n",
       "        }    #T_246fcd66_bc26_11ea_b467_9cb6d0e02a1frow1_col4 {\n",
       "            background-color:  #3d50c3;\n",
       "            color:  #f1f1f1;\n",
       "        }    #T_246fcd66_bc26_11ea_b467_9cb6d0e02a1frow1_col5 {\n",
       "            background-color:  #3e51c5;\n",
       "            color:  #f1f1f1;\n",
       "        }    #T_246fcd66_bc26_11ea_b467_9cb6d0e02a1frow1_col6 {\n",
       "            background-color:  #4257c9;\n",
       "            color:  #f1f1f1;\n",
       "        }    #T_246fcd66_bc26_11ea_b467_9cb6d0e02a1frow1_col7 {\n",
       "            background-color:  #3e51c5;\n",
       "            color:  #f1f1f1;\n",
       "        }    #T_246fcd66_bc26_11ea_b467_9cb6d0e02a1frow1_col8 {\n",
       "            background-color:  #3e51c5;\n",
       "            color:  #f1f1f1;\n",
       "        }    #T_246fcd66_bc26_11ea_b467_9cb6d0e02a1frow1_col9 {\n",
       "            background-color:  #3b4cc0;\n",
       "            color:  #f1f1f1;\n",
       "        }    #T_246fcd66_bc26_11ea_b467_9cb6d0e02a1frow2_col0 {\n",
       "            background-color:  #4a63d3;\n",
       "            color:  #f1f1f1;\n",
       "        }    #T_246fcd66_bc26_11ea_b467_9cb6d0e02a1frow2_col1 {\n",
       "            background-color:  #3b4cc0;\n",
       "            color:  #f1f1f1;\n",
       "        }    #T_246fcd66_bc26_11ea_b467_9cb6d0e02a1frow2_col2 {\n",
       "            background-color:  #b40426;\n",
       "            color:  #f1f1f1;\n",
       "        }    #T_246fcd66_bc26_11ea_b467_9cb6d0e02a1frow2_col3 {\n",
       "            background-color:  #3c4ec2;\n",
       "            color:  #f1f1f1;\n",
       "        }    #T_246fcd66_bc26_11ea_b467_9cb6d0e02a1frow2_col4 {\n",
       "            background-color:  #6b8df0;\n",
       "            color:  #000000;\n",
       "        }    #T_246fcd66_bc26_11ea_b467_9cb6d0e02a1frow2_col5 {\n",
       "            background-color:  #3b4cc0;\n",
       "            color:  #f1f1f1;\n",
       "        }    #T_246fcd66_bc26_11ea_b467_9cb6d0e02a1frow2_col6 {\n",
       "            background-color:  #3b4cc0;\n",
       "            color:  #f1f1f1;\n",
       "        }    #T_246fcd66_bc26_11ea_b467_9cb6d0e02a1frow2_col7 {\n",
       "            background-color:  #6a8bef;\n",
       "            color:  #000000;\n",
       "        }    #T_246fcd66_bc26_11ea_b467_9cb6d0e02a1frow2_col8 {\n",
       "            background-color:  #6a8bef;\n",
       "            color:  #000000;\n",
       "        }    #T_246fcd66_bc26_11ea_b467_9cb6d0e02a1frow2_col9 {\n",
       "            background-color:  #3b4cc0;\n",
       "            color:  #f1f1f1;\n",
       "        }    #T_246fcd66_bc26_11ea_b467_9cb6d0e02a1frow3_col0 {\n",
       "            background-color:  #3b4cc0;\n",
       "            color:  #f1f1f1;\n",
       "        }    #T_246fcd66_bc26_11ea_b467_9cb6d0e02a1frow3_col1 {\n",
       "            background-color:  #3d50c3;\n",
       "            color:  #f1f1f1;\n",
       "        }    #T_246fcd66_bc26_11ea_b467_9cb6d0e02a1frow3_col2 {\n",
       "            background-color:  #4055c8;\n",
       "            color:  #f1f1f1;\n",
       "        }    #T_246fcd66_bc26_11ea_b467_9cb6d0e02a1frow3_col3 {\n",
       "            background-color:  #b40426;\n",
       "            color:  #f1f1f1;\n",
       "        }    #T_246fcd66_bc26_11ea_b467_9cb6d0e02a1frow3_col4 {\n",
       "            background-color:  #5b7ae5;\n",
       "            color:  #000000;\n",
       "        }    #T_246fcd66_bc26_11ea_b467_9cb6d0e02a1frow3_col5 {\n",
       "            background-color:  #3d50c3;\n",
       "            color:  #f1f1f1;\n",
       "        }    #T_246fcd66_bc26_11ea_b467_9cb6d0e02a1frow3_col6 {\n",
       "            background-color:  #445acc;\n",
       "            color:  #f1f1f1;\n",
       "        }    #T_246fcd66_bc26_11ea_b467_9cb6d0e02a1frow3_col7 {\n",
       "            background-color:  #3d50c3;\n",
       "            color:  #f1f1f1;\n",
       "        }    #T_246fcd66_bc26_11ea_b467_9cb6d0e02a1frow3_col8 {\n",
       "            background-color:  #3d50c3;\n",
       "            color:  #f1f1f1;\n",
       "        }    #T_246fcd66_bc26_11ea_b467_9cb6d0e02a1frow3_col9 {\n",
       "            background-color:  #e5d8d1;\n",
       "            color:  #000000;\n",
       "        }    #T_246fcd66_bc26_11ea_b467_9cb6d0e02a1frow4_col0 {\n",
       "            background-color:  #4f69d9;\n",
       "            color:  #000000;\n",
       "        }    #T_246fcd66_bc26_11ea_b467_9cb6d0e02a1frow4_col1 {\n",
       "            background-color:  #3c4ec2;\n",
       "            color:  #f1f1f1;\n",
       "        }    #T_246fcd66_bc26_11ea_b467_9cb6d0e02a1frow4_col2 {\n",
       "            background-color:  #7093f3;\n",
       "            color:  #000000;\n",
       "        }    #T_246fcd66_bc26_11ea_b467_9cb6d0e02a1frow4_col3 {\n",
       "            background-color:  #5a78e4;\n",
       "            color:  #000000;\n",
       "        }    #T_246fcd66_bc26_11ea_b467_9cb6d0e02a1frow4_col4 {\n",
       "            background-color:  #b40426;\n",
       "            color:  #f1f1f1;\n",
       "        }    #T_246fcd66_bc26_11ea_b467_9cb6d0e02a1frow4_col5 {\n",
       "            background-color:  #3c4ec2;\n",
       "            color:  #f1f1f1;\n",
       "        }    #T_246fcd66_bc26_11ea_b467_9cb6d0e02a1frow4_col6 {\n",
       "            background-color:  #4961d2;\n",
       "            color:  #f1f1f1;\n",
       "        }    #T_246fcd66_bc26_11ea_b467_9cb6d0e02a1frow4_col7 {\n",
       "            background-color:  #4b64d5;\n",
       "            color:  #f1f1f1;\n",
       "        }    #T_246fcd66_bc26_11ea_b467_9cb6d0e02a1frow4_col8 {\n",
       "            background-color:  #4b64d5;\n",
       "            color:  #f1f1f1;\n",
       "        }    #T_246fcd66_bc26_11ea_b467_9cb6d0e02a1frow4_col9 {\n",
       "            background-color:  #455cce;\n",
       "            color:  #f1f1f1;\n",
       "        }    #T_246fcd66_bc26_11ea_b467_9cb6d0e02a1frow5_col0 {\n",
       "            background-color:  #3b4cc0;\n",
       "            color:  #f1f1f1;\n",
       "        }    #T_246fcd66_bc26_11ea_b467_9cb6d0e02a1frow5_col1 {\n",
       "            background-color:  #3b4cc0;\n",
       "            color:  #f1f1f1;\n",
       "        }    #T_246fcd66_bc26_11ea_b467_9cb6d0e02a1frow5_col2 {\n",
       "            background-color:  #3e51c5;\n",
       "            color:  #f1f1f1;\n",
       "        }    #T_246fcd66_bc26_11ea_b467_9cb6d0e02a1frow5_col3 {\n",
       "            background-color:  #3b4cc0;\n",
       "            color:  #f1f1f1;\n",
       "        }    #T_246fcd66_bc26_11ea_b467_9cb6d0e02a1frow5_col4 {\n",
       "            background-color:  #3b4cc0;\n",
       "            color:  #f1f1f1;\n",
       "        }    #T_246fcd66_bc26_11ea_b467_9cb6d0e02a1frow5_col5 {\n",
       "            background-color:  #b40426;\n",
       "            color:  #f1f1f1;\n",
       "        }    #T_246fcd66_bc26_11ea_b467_9cb6d0e02a1frow5_col6 {\n",
       "            background-color:  #3d50c3;\n",
       "            color:  #f1f1f1;\n",
       "        }    #T_246fcd66_bc26_11ea_b467_9cb6d0e02a1frow5_col7 {\n",
       "            background-color:  #3b4cc0;\n",
       "            color:  #f1f1f1;\n",
       "        }    #T_246fcd66_bc26_11ea_b467_9cb6d0e02a1frow5_col8 {\n",
       "            background-color:  #3b4cc0;\n",
       "            color:  #f1f1f1;\n",
       "        }    #T_246fcd66_bc26_11ea_b467_9cb6d0e02a1frow5_col9 {\n",
       "            background-color:  #3d50c3;\n",
       "            color:  #f1f1f1;\n",
       "        }    #T_246fcd66_bc26_11ea_b467_9cb6d0e02a1frow6_col0 {\n",
       "            background-color:  #3b4cc0;\n",
       "            color:  #f1f1f1;\n",
       "        }    #T_246fcd66_bc26_11ea_b467_9cb6d0e02a1frow6_col1 {\n",
       "            background-color:  #3b4cc0;\n",
       "            color:  #f1f1f1;\n",
       "        }    #T_246fcd66_bc26_11ea_b467_9cb6d0e02a1frow6_col2 {\n",
       "            background-color:  #3b4cc0;\n",
       "            color:  #f1f1f1;\n",
       "        }    #T_246fcd66_bc26_11ea_b467_9cb6d0e02a1frow6_col3 {\n",
       "            background-color:  #3e51c5;\n",
       "            color:  #f1f1f1;\n",
       "        }    #T_246fcd66_bc26_11ea_b467_9cb6d0e02a1frow6_col4 {\n",
       "            background-color:  #445acc;\n",
       "            color:  #f1f1f1;\n",
       "        }    #T_246fcd66_bc26_11ea_b467_9cb6d0e02a1frow6_col5 {\n",
       "            background-color:  #3b4cc0;\n",
       "            color:  #f1f1f1;\n",
       "        }    #T_246fcd66_bc26_11ea_b467_9cb6d0e02a1frow6_col6 {\n",
       "            background-color:  #b40426;\n",
       "            color:  #f1f1f1;\n",
       "        }    #T_246fcd66_bc26_11ea_b467_9cb6d0e02a1frow6_col7 {\n",
       "            background-color:  #3b4cc0;\n",
       "            color:  #f1f1f1;\n",
       "        }    #T_246fcd66_bc26_11ea_b467_9cb6d0e02a1frow6_col8 {\n",
       "            background-color:  #3b4cc0;\n",
       "            color:  #f1f1f1;\n",
       "        }    #T_246fcd66_bc26_11ea_b467_9cb6d0e02a1frow6_col9 {\n",
       "            background-color:  #4257c9;\n",
       "            color:  #f1f1f1;\n",
       "        }    #T_246fcd66_bc26_11ea_b467_9cb6d0e02a1frow7_col0 {\n",
       "            background-color:  #5f7fe8;\n",
       "            color:  #000000;\n",
       "        }    #T_246fcd66_bc26_11ea_b467_9cb6d0e02a1frow7_col1 {\n",
       "            background-color:  #3c4ec2;\n",
       "            color:  #f1f1f1;\n",
       "        }    #T_246fcd66_bc26_11ea_b467_9cb6d0e02a1frow7_col2 {\n",
       "            background-color:  #6e90f2;\n",
       "            color:  #000000;\n",
       "        }    #T_246fcd66_bc26_11ea_b467_9cb6d0e02a1frow7_col3 {\n",
       "            background-color:  #3c4ec2;\n",
       "            color:  #f1f1f1;\n",
       "        }    #T_246fcd66_bc26_11ea_b467_9cb6d0e02a1frow7_col4 {\n",
       "            background-color:  #4b64d5;\n",
       "            color:  #f1f1f1;\n",
       "        }    #T_246fcd66_bc26_11ea_b467_9cb6d0e02a1frow7_col5 {\n",
       "            background-color:  #3c4ec2;\n",
       "            color:  #f1f1f1;\n",
       "        }    #T_246fcd66_bc26_11ea_b467_9cb6d0e02a1frow7_col6 {\n",
       "            background-color:  #3e51c5;\n",
       "            color:  #f1f1f1;\n",
       "        }    #T_246fcd66_bc26_11ea_b467_9cb6d0e02a1frow7_col7 {\n",
       "            background-color:  #b40426;\n",
       "            color:  #f1f1f1;\n",
       "        }    #T_246fcd66_bc26_11ea_b467_9cb6d0e02a1frow7_col8 {\n",
       "            background-color:  #b40426;\n",
       "            color:  #f1f1f1;\n",
       "        }    #T_246fcd66_bc26_11ea_b467_9cb6d0e02a1frow7_col9 {\n",
       "            background-color:  #3d50c3;\n",
       "            color:  #f1f1f1;\n",
       "        }    #T_246fcd66_bc26_11ea_b467_9cb6d0e02a1frow8_col0 {\n",
       "            background-color:  #5f7fe8;\n",
       "            color:  #000000;\n",
       "        }    #T_246fcd66_bc26_11ea_b467_9cb6d0e02a1frow8_col1 {\n",
       "            background-color:  #3c4ec2;\n",
       "            color:  #f1f1f1;\n",
       "        }    #T_246fcd66_bc26_11ea_b467_9cb6d0e02a1frow8_col2 {\n",
       "            background-color:  #6e90f2;\n",
       "            color:  #000000;\n",
       "        }    #T_246fcd66_bc26_11ea_b467_9cb6d0e02a1frow8_col3 {\n",
       "            background-color:  #3c4ec2;\n",
       "            color:  #f1f1f1;\n",
       "        }    #T_246fcd66_bc26_11ea_b467_9cb6d0e02a1frow8_col4 {\n",
       "            background-color:  #4b64d5;\n",
       "            color:  #f1f1f1;\n",
       "        }    #T_246fcd66_bc26_11ea_b467_9cb6d0e02a1frow8_col5 {\n",
       "            background-color:  #3c4ec2;\n",
       "            color:  #f1f1f1;\n",
       "        }    #T_246fcd66_bc26_11ea_b467_9cb6d0e02a1frow8_col6 {\n",
       "            background-color:  #3e51c5;\n",
       "            color:  #f1f1f1;\n",
       "        }    #T_246fcd66_bc26_11ea_b467_9cb6d0e02a1frow8_col7 {\n",
       "            background-color:  #b40426;\n",
       "            color:  #f1f1f1;\n",
       "        }    #T_246fcd66_bc26_11ea_b467_9cb6d0e02a1frow8_col8 {\n",
       "            background-color:  #b40426;\n",
       "            color:  #f1f1f1;\n",
       "        }    #T_246fcd66_bc26_11ea_b467_9cb6d0e02a1frow8_col9 {\n",
       "            background-color:  #3d50c3;\n",
       "            color:  #f1f1f1;\n",
       "        }    #T_246fcd66_bc26_11ea_b467_9cb6d0e02a1frow9_col0 {\n",
       "            background-color:  #3b4cc0;\n",
       "            color:  #f1f1f1;\n",
       "        }    #T_246fcd66_bc26_11ea_b467_9cb6d0e02a1frow9_col1 {\n",
       "            background-color:  #3c4ec2;\n",
       "            color:  #f1f1f1;\n",
       "        }    #T_246fcd66_bc26_11ea_b467_9cb6d0e02a1frow9_col2 {\n",
       "            background-color:  #4055c8;\n",
       "            color:  #f1f1f1;\n",
       "        }    #T_246fcd66_bc26_11ea_b467_9cb6d0e02a1frow9_col3 {\n",
       "            background-color:  #e6d7cf;\n",
       "            color:  #000000;\n",
       "        }    #T_246fcd66_bc26_11ea_b467_9cb6d0e02a1frow9_col4 {\n",
       "            background-color:  #485fd1;\n",
       "            color:  #f1f1f1;\n",
       "        }    #T_246fcd66_bc26_11ea_b467_9cb6d0e02a1frow9_col5 {\n",
       "            background-color:  #4055c8;\n",
       "            color:  #f1f1f1;\n",
       "        }    #T_246fcd66_bc26_11ea_b467_9cb6d0e02a1frow9_col6 {\n",
       "            background-color:  #485fd1;\n",
       "            color:  #f1f1f1;\n",
       "        }    #T_246fcd66_bc26_11ea_b467_9cb6d0e02a1frow9_col7 {\n",
       "            background-color:  #3f53c6;\n",
       "            color:  #f1f1f1;\n",
       "        }    #T_246fcd66_bc26_11ea_b467_9cb6d0e02a1frow9_col8 {\n",
       "            background-color:  #3f53c6;\n",
       "            color:  #f1f1f1;\n",
       "        }    #T_246fcd66_bc26_11ea_b467_9cb6d0e02a1frow9_col9 {\n",
       "            background-color:  #b40426;\n",
       "            color:  #f1f1f1;\n",
       "        }</style><table id=\"T_246fcd66_bc26_11ea_b467_9cb6d0e02a1f\" ><thead>    <tr>        <th class=\"blank level0\" ></th>        <th class=\"col_heading level0 col0\" >failure</th>        <th class=\"col_heading level0 col1\" >attribute1</th>        <th class=\"col_heading level0 col2\" >attribute2</th>        <th class=\"col_heading level0 col3\" >attribute3</th>        <th class=\"col_heading level0 col4\" >attribute4</th>        <th class=\"col_heading level0 col5\" >attribute5</th>        <th class=\"col_heading level0 col6\" >attribute6</th>        <th class=\"col_heading level0 col7\" >attribute7</th>        <th class=\"col_heading level0 col8\" >attribute8</th>        <th class=\"col_heading level0 col9\" >attribute9</th>    </tr></thead><tbody>\n",
       "                <tr>\n",
       "                        <th id=\"T_246fcd66_bc26_11ea_b467_9cb6d0e02a1flevel0_row0\" class=\"row_heading level0 row0\" >failure</th>\n",
       "                        <td id=\"T_246fcd66_bc26_11ea_b467_9cb6d0e02a1frow0_col0\" class=\"data row0 col0\" >1.00</td>\n",
       "                        <td id=\"T_246fcd66_bc26_11ea_b467_9cb6d0e02a1frow0_col1\" class=\"data row0 col1\" >0.00</td>\n",
       "                        <td id=\"T_246fcd66_bc26_11ea_b467_9cb6d0e02a1frow0_col2\" class=\"data row0 col2\" >0.05</td>\n",
       "                        <td id=\"T_246fcd66_bc26_11ea_b467_9cb6d0e02a1frow0_col3\" class=\"data row0 col3\" >-0.00</td>\n",
       "                        <td id=\"T_246fcd66_bc26_11ea_b467_9cb6d0e02a1frow0_col4\" class=\"data row0 col4\" >0.07</td>\n",
       "                        <td id=\"T_246fcd66_bc26_11ea_b467_9cb6d0e02a1frow0_col5\" class=\"data row0 col5\" >0.00</td>\n",
       "                        <td id=\"T_246fcd66_bc26_11ea_b467_9cb6d0e02a1frow0_col6\" class=\"data row0 col6\" >-0.00</td>\n",
       "                        <td id=\"T_246fcd66_bc26_11ea_b467_9cb6d0e02a1frow0_col7\" class=\"data row0 col7\" >0.12</td>\n",
       "                        <td id=\"T_246fcd66_bc26_11ea_b467_9cb6d0e02a1frow0_col8\" class=\"data row0 col8\" >0.12</td>\n",
       "                        <td id=\"T_246fcd66_bc26_11ea_b467_9cb6d0e02a1frow0_col9\" class=\"data row0 col9\" >0.00</td>\n",
       "            </tr>\n",
       "            <tr>\n",
       "                        <th id=\"T_246fcd66_bc26_11ea_b467_9cb6d0e02a1flevel0_row1\" class=\"row_heading level0 row1\" >attribute1</th>\n",
       "                        <td id=\"T_246fcd66_bc26_11ea_b467_9cb6d0e02a1frow1_col0\" class=\"data row1 col0\" >0.00</td>\n",
       "                        <td id=\"T_246fcd66_bc26_11ea_b467_9cb6d0e02a1frow1_col1\" class=\"data row1 col1\" >1.00</td>\n",
       "                        <td id=\"T_246fcd66_bc26_11ea_b467_9cb6d0e02a1frow1_col2\" class=\"data row1 col2\" >-0.00</td>\n",
       "                        <td id=\"T_246fcd66_bc26_11ea_b467_9cb6d0e02a1frow1_col3\" class=\"data row1 col3\" >0.00</td>\n",
       "                        <td id=\"T_246fcd66_bc26_11ea_b467_9cb6d0e02a1frow1_col4\" class=\"data row1 col4\" >0.00</td>\n",
       "                        <td id=\"T_246fcd66_bc26_11ea_b467_9cb6d0e02a1frow1_col5\" class=\"data row1 col5\" >-0.00</td>\n",
       "                        <td id=\"T_246fcd66_bc26_11ea_b467_9cb6d0e02a1frow1_col6\" class=\"data row1 col6\" >-0.00</td>\n",
       "                        <td id=\"T_246fcd66_bc26_11ea_b467_9cb6d0e02a1frow1_col7\" class=\"data row1 col7\" >0.00</td>\n",
       "                        <td id=\"T_246fcd66_bc26_11ea_b467_9cb6d0e02a1frow1_col8\" class=\"data row1 col8\" >0.00</td>\n",
       "                        <td id=\"T_246fcd66_bc26_11ea_b467_9cb6d0e02a1frow1_col9\" class=\"data row1 col9\" >0.00</td>\n",
       "            </tr>\n",
       "            <tr>\n",
       "                        <th id=\"T_246fcd66_bc26_11ea_b467_9cb6d0e02a1flevel0_row2\" class=\"row_heading level0 row2\" >attribute2</th>\n",
       "                        <td id=\"T_246fcd66_bc26_11ea_b467_9cb6d0e02a1frow2_col0\" class=\"data row2 col0\" >0.05</td>\n",
       "                        <td id=\"T_246fcd66_bc26_11ea_b467_9cb6d0e02a1frow2_col1\" class=\"data row2 col1\" >-0.00</td>\n",
       "                        <td id=\"T_246fcd66_bc26_11ea_b467_9cb6d0e02a1frow2_col2\" class=\"data row2 col2\" >1.00</td>\n",
       "                        <td id=\"T_246fcd66_bc26_11ea_b467_9cb6d0e02a1frow2_col3\" class=\"data row2 col3\" >-0.00</td>\n",
       "                        <td id=\"T_246fcd66_bc26_11ea_b467_9cb6d0e02a1frow2_col4\" class=\"data row2 col4\" >0.15</td>\n",
       "                        <td id=\"T_246fcd66_bc26_11ea_b467_9cb6d0e02a1frow2_col5\" class=\"data row2 col5\" >-0.01</td>\n",
       "                        <td id=\"T_246fcd66_bc26_11ea_b467_9cb6d0e02a1frow2_col6\" class=\"data row2 col6\" >-0.03</td>\n",
       "                        <td id=\"T_246fcd66_bc26_11ea_b467_9cb6d0e02a1frow2_col7\" class=\"data row2 col7\" >0.14</td>\n",
       "                        <td id=\"T_246fcd66_bc26_11ea_b467_9cb6d0e02a1frow2_col8\" class=\"data row2 col8\" >0.14</td>\n",
       "                        <td id=\"T_246fcd66_bc26_11ea_b467_9cb6d0e02a1frow2_col9\" class=\"data row2 col9\" >-0.00</td>\n",
       "            </tr>\n",
       "            <tr>\n",
       "                        <th id=\"T_246fcd66_bc26_11ea_b467_9cb6d0e02a1flevel0_row3\" class=\"row_heading level0 row3\" >attribute3</th>\n",
       "                        <td id=\"T_246fcd66_bc26_11ea_b467_9cb6d0e02a1frow3_col0\" class=\"data row3 col0\" >-0.00</td>\n",
       "                        <td id=\"T_246fcd66_bc26_11ea_b467_9cb6d0e02a1frow3_col1\" class=\"data row3 col1\" >0.00</td>\n",
       "                        <td id=\"T_246fcd66_bc26_11ea_b467_9cb6d0e02a1frow3_col2\" class=\"data row3 col2\" >-0.00</td>\n",
       "                        <td id=\"T_246fcd66_bc26_11ea_b467_9cb6d0e02a1frow3_col3\" class=\"data row3 col3\" >1.00</td>\n",
       "                        <td id=\"T_246fcd66_bc26_11ea_b467_9cb6d0e02a1frow3_col4\" class=\"data row3 col4\" >0.10</td>\n",
       "                        <td id=\"T_246fcd66_bc26_11ea_b467_9cb6d0e02a1frow3_col5\" class=\"data row3 col5\" >-0.01</td>\n",
       "                        <td id=\"T_246fcd66_bc26_11ea_b467_9cb6d0e02a1frow3_col6\" class=\"data row3 col6\" >0.01</td>\n",
       "                        <td id=\"T_246fcd66_bc26_11ea_b467_9cb6d0e02a1frow3_col7\" class=\"data row3 col7\" >-0.00</td>\n",
       "                        <td id=\"T_246fcd66_bc26_11ea_b467_9cb6d0e02a1frow3_col8\" class=\"data row3 col8\" >-0.00</td>\n",
       "                        <td id=\"T_246fcd66_bc26_11ea_b467_9cb6d0e02a1frow3_col9\" class=\"data row3 col9\" >0.53</td>\n",
       "            </tr>\n",
       "            <tr>\n",
       "                        <th id=\"T_246fcd66_bc26_11ea_b467_9cb6d0e02a1flevel0_row4\" class=\"row_heading level0 row4\" >attribute4</th>\n",
       "                        <td id=\"T_246fcd66_bc26_11ea_b467_9cb6d0e02a1frow4_col0\" class=\"data row4 col0\" >0.07</td>\n",
       "                        <td id=\"T_246fcd66_bc26_11ea_b467_9cb6d0e02a1frow4_col1\" class=\"data row4 col1\" >0.00</td>\n",
       "                        <td id=\"T_246fcd66_bc26_11ea_b467_9cb6d0e02a1frow4_col2\" class=\"data row4 col2\" >0.15</td>\n",
       "                        <td id=\"T_246fcd66_bc26_11ea_b467_9cb6d0e02a1frow4_col3\" class=\"data row4 col3\" >0.10</td>\n",
       "                        <td id=\"T_246fcd66_bc26_11ea_b467_9cb6d0e02a1frow4_col4\" class=\"data row4 col4\" >1.00</td>\n",
       "                        <td id=\"T_246fcd66_bc26_11ea_b467_9cb6d0e02a1frow4_col5\" class=\"data row4 col5\" >-0.01</td>\n",
       "                        <td id=\"T_246fcd66_bc26_11ea_b467_9cb6d0e02a1frow4_col6\" class=\"data row4 col6\" >0.02</td>\n",
       "                        <td id=\"T_246fcd66_bc26_11ea_b467_9cb6d0e02a1frow4_col7\" class=\"data row4 col7\" >0.05</td>\n",
       "                        <td id=\"T_246fcd66_bc26_11ea_b467_9cb6d0e02a1frow4_col8\" class=\"data row4 col8\" >0.05</td>\n",
       "                        <td id=\"T_246fcd66_bc26_11ea_b467_9cb6d0e02a1frow4_col9\" class=\"data row4 col9\" >0.04</td>\n",
       "            </tr>\n",
       "            <tr>\n",
       "                        <th id=\"T_246fcd66_bc26_11ea_b467_9cb6d0e02a1flevel0_row5\" class=\"row_heading level0 row5\" >attribute5</th>\n",
       "                        <td id=\"T_246fcd66_bc26_11ea_b467_9cb6d0e02a1frow5_col0\" class=\"data row5 col0\" >0.00</td>\n",
       "                        <td id=\"T_246fcd66_bc26_11ea_b467_9cb6d0e02a1frow5_col1\" class=\"data row5 col1\" >-0.00</td>\n",
       "                        <td id=\"T_246fcd66_bc26_11ea_b467_9cb6d0e02a1frow5_col2\" class=\"data row5 col2\" >-0.01</td>\n",
       "                        <td id=\"T_246fcd66_bc26_11ea_b467_9cb6d0e02a1frow5_col3\" class=\"data row5 col3\" >-0.01</td>\n",
       "                        <td id=\"T_246fcd66_bc26_11ea_b467_9cb6d0e02a1frow5_col4\" class=\"data row5 col4\" >-0.01</td>\n",
       "                        <td id=\"T_246fcd66_bc26_11ea_b467_9cb6d0e02a1frow5_col5\" class=\"data row5 col5\" >1.00</td>\n",
       "                        <td id=\"T_246fcd66_bc26_11ea_b467_9cb6d0e02a1frow5_col6\" class=\"data row5 col6\" >-0.02</td>\n",
       "                        <td id=\"T_246fcd66_bc26_11ea_b467_9cb6d0e02a1frow5_col7\" class=\"data row5 col7\" >-0.01</td>\n",
       "                        <td id=\"T_246fcd66_bc26_11ea_b467_9cb6d0e02a1frow5_col8\" class=\"data row5 col8\" >-0.01</td>\n",
       "                        <td id=\"T_246fcd66_bc26_11ea_b467_9cb6d0e02a1frow5_col9\" class=\"data row5 col9\" >0.01</td>\n",
       "            </tr>\n",
       "            <tr>\n",
       "                        <th id=\"T_246fcd66_bc26_11ea_b467_9cb6d0e02a1flevel0_row6\" class=\"row_heading level0 row6\" >attribute6</th>\n",
       "                        <td id=\"T_246fcd66_bc26_11ea_b467_9cb6d0e02a1frow6_col0\" class=\"data row6 col0\" >-0.00</td>\n",
       "                        <td id=\"T_246fcd66_bc26_11ea_b467_9cb6d0e02a1frow6_col1\" class=\"data row6 col1\" >-0.00</td>\n",
       "                        <td id=\"T_246fcd66_bc26_11ea_b467_9cb6d0e02a1frow6_col2\" class=\"data row6 col2\" >-0.03</td>\n",
       "                        <td id=\"T_246fcd66_bc26_11ea_b467_9cb6d0e02a1frow6_col3\" class=\"data row6 col3\" >0.01</td>\n",
       "                        <td id=\"T_246fcd66_bc26_11ea_b467_9cb6d0e02a1frow6_col4\" class=\"data row6 col4\" >0.02</td>\n",
       "                        <td id=\"T_246fcd66_bc26_11ea_b467_9cb6d0e02a1frow6_col5\" class=\"data row6 col5\" >-0.02</td>\n",
       "                        <td id=\"T_246fcd66_bc26_11ea_b467_9cb6d0e02a1frow6_col6\" class=\"data row6 col6\" >1.00</td>\n",
       "                        <td id=\"T_246fcd66_bc26_11ea_b467_9cb6d0e02a1frow6_col7\" class=\"data row6 col7\" >-0.01</td>\n",
       "                        <td id=\"T_246fcd66_bc26_11ea_b467_9cb6d0e02a1frow6_col8\" class=\"data row6 col8\" >-0.01</td>\n",
       "                        <td id=\"T_246fcd66_bc26_11ea_b467_9cb6d0e02a1frow6_col9\" class=\"data row6 col9\" >0.02</td>\n",
       "            </tr>\n",
       "            <tr>\n",
       "                        <th id=\"T_246fcd66_bc26_11ea_b467_9cb6d0e02a1flevel0_row7\" class=\"row_heading level0 row7\" >attribute7</th>\n",
       "                        <td id=\"T_246fcd66_bc26_11ea_b467_9cb6d0e02a1frow7_col0\" class=\"data row7 col0\" >0.12</td>\n",
       "                        <td id=\"T_246fcd66_bc26_11ea_b467_9cb6d0e02a1frow7_col1\" class=\"data row7 col1\" >0.00</td>\n",
       "                        <td id=\"T_246fcd66_bc26_11ea_b467_9cb6d0e02a1frow7_col2\" class=\"data row7 col2\" >0.14</td>\n",
       "                        <td id=\"T_246fcd66_bc26_11ea_b467_9cb6d0e02a1frow7_col3\" class=\"data row7 col3\" >-0.00</td>\n",
       "                        <td id=\"T_246fcd66_bc26_11ea_b467_9cb6d0e02a1frow7_col4\" class=\"data row7 col4\" >0.05</td>\n",
       "                        <td id=\"T_246fcd66_bc26_11ea_b467_9cb6d0e02a1frow7_col5\" class=\"data row7 col5\" >-0.01</td>\n",
       "                        <td id=\"T_246fcd66_bc26_11ea_b467_9cb6d0e02a1frow7_col6\" class=\"data row7 col6\" >-0.01</td>\n",
       "                        <td id=\"T_246fcd66_bc26_11ea_b467_9cb6d0e02a1frow7_col7\" class=\"data row7 col7\" >1.00</td>\n",
       "                        <td id=\"T_246fcd66_bc26_11ea_b467_9cb6d0e02a1frow7_col8\" class=\"data row7 col8\" >1.00</td>\n",
       "                        <td id=\"T_246fcd66_bc26_11ea_b467_9cb6d0e02a1frow7_col9\" class=\"data row7 col9\" >0.01</td>\n",
       "            </tr>\n",
       "            <tr>\n",
       "                        <th id=\"T_246fcd66_bc26_11ea_b467_9cb6d0e02a1flevel0_row8\" class=\"row_heading level0 row8\" >attribute8</th>\n",
       "                        <td id=\"T_246fcd66_bc26_11ea_b467_9cb6d0e02a1frow8_col0\" class=\"data row8 col0\" >0.12</td>\n",
       "                        <td id=\"T_246fcd66_bc26_11ea_b467_9cb6d0e02a1frow8_col1\" class=\"data row8 col1\" >0.00</td>\n",
       "                        <td id=\"T_246fcd66_bc26_11ea_b467_9cb6d0e02a1frow8_col2\" class=\"data row8 col2\" >0.14</td>\n",
       "                        <td id=\"T_246fcd66_bc26_11ea_b467_9cb6d0e02a1frow8_col3\" class=\"data row8 col3\" >-0.00</td>\n",
       "                        <td id=\"T_246fcd66_bc26_11ea_b467_9cb6d0e02a1frow8_col4\" class=\"data row8 col4\" >0.05</td>\n",
       "                        <td id=\"T_246fcd66_bc26_11ea_b467_9cb6d0e02a1frow8_col5\" class=\"data row8 col5\" >-0.01</td>\n",
       "                        <td id=\"T_246fcd66_bc26_11ea_b467_9cb6d0e02a1frow8_col6\" class=\"data row8 col6\" >-0.01</td>\n",
       "                        <td id=\"T_246fcd66_bc26_11ea_b467_9cb6d0e02a1frow8_col7\" class=\"data row8 col7\" >1.00</td>\n",
       "                        <td id=\"T_246fcd66_bc26_11ea_b467_9cb6d0e02a1frow8_col8\" class=\"data row8 col8\" >1.00</td>\n",
       "                        <td id=\"T_246fcd66_bc26_11ea_b467_9cb6d0e02a1frow8_col9\" class=\"data row8 col9\" >0.01</td>\n",
       "            </tr>\n",
       "            <tr>\n",
       "                        <th id=\"T_246fcd66_bc26_11ea_b467_9cb6d0e02a1flevel0_row9\" class=\"row_heading level0 row9\" >attribute9</th>\n",
       "                        <td id=\"T_246fcd66_bc26_11ea_b467_9cb6d0e02a1frow9_col0\" class=\"data row9 col0\" >0.00</td>\n",
       "                        <td id=\"T_246fcd66_bc26_11ea_b467_9cb6d0e02a1frow9_col1\" class=\"data row9 col1\" >0.00</td>\n",
       "                        <td id=\"T_246fcd66_bc26_11ea_b467_9cb6d0e02a1frow9_col2\" class=\"data row9 col2\" >-0.00</td>\n",
       "                        <td id=\"T_246fcd66_bc26_11ea_b467_9cb6d0e02a1frow9_col3\" class=\"data row9 col3\" >0.53</td>\n",
       "                        <td id=\"T_246fcd66_bc26_11ea_b467_9cb6d0e02a1frow9_col4\" class=\"data row9 col4\" >0.04</td>\n",
       "                        <td id=\"T_246fcd66_bc26_11ea_b467_9cb6d0e02a1frow9_col5\" class=\"data row9 col5\" >0.01</td>\n",
       "                        <td id=\"T_246fcd66_bc26_11ea_b467_9cb6d0e02a1frow9_col6\" class=\"data row9 col6\" >0.02</td>\n",
       "                        <td id=\"T_246fcd66_bc26_11ea_b467_9cb6d0e02a1frow9_col7\" class=\"data row9 col7\" >0.01</td>\n",
       "                        <td id=\"T_246fcd66_bc26_11ea_b467_9cb6d0e02a1frow9_col8\" class=\"data row9 col8\" >0.01</td>\n",
       "                        <td id=\"T_246fcd66_bc26_11ea_b467_9cb6d0e02a1frow9_col9\" class=\"data row9 col9\" >1.00</td>\n",
       "            </tr>\n",
       "    </tbody></table>"
      ],
      "text/plain": [
       "<pandas.io.formats.style.Styler at 0x7fac7775d128>"
      ]
     },
     "execution_count": 46,
     "metadata": {},
     "output_type": "execute_result"
    }
   ],
   "source": [
    "corr.style.background_gradient(cmap='coolwarm').set_precision(2)"
   ]
  },
  {
   "cell_type": "code",
   "execution_count": 54,
   "metadata": {},
   "outputs": [
    {
     "data": {
      "text/plain": [
       "<matplotlib.axes._subplots.AxesSubplot at 0x7fac77012e48>"
      ]
     },
     "execution_count": 54,
     "metadata": {},
     "output_type": "execute_result"
    },
    {
     "data": {
      "image/png": "[encoded data removed]",
      "text/plain": [
       "<Figure size 1440x720 with 1 Axes>"
      ]
     },
     "metadata": {},
     "output_type": "display_data"
    }
   ],
   "source": [
    "devices[[\"attribute1\"]].plot(bins=50, kind=\"hist\")"
   ]
  },
  {
   "cell_type": "code",
   "execution_count": 51,
   "metadata": {},
   "outputs": [
    {
     "data": {
      "text/plain": [
       "<matplotlib.axes._subplots.AxesSubplot at 0x7fac774ec390>"
      ]
     },
     "execution_count": 51,
     "metadata": {},
     "output_type": "execute_result"
    },
    {
     "data": {
      "image/png": "[encoded data removed]",
      "text/plain": [
       "<Figure size 1440x720 with 1 Axes>"
      ]
     },
     "metadata": {},
     "output_type": "display_data"
    }
   ],
   "source": [
    "devices[['attribute3','attribute2','attribute4']].plot.box()"
   ]
  },
  {
   "cell_type": "code",
   "execution_count": 48,
   "metadata": {},
   "outputs": [
    {
     "name": "stderr",
     "output_type": "stream",
     "text": [
      "/home/sergio/miniconda3/envs/py3.6/lib/python3.6/site-packages/seaborn/axisgrid.py:2264: UserWarning: The `size` parameter has been renamed to `height`; please update your code.\n",
      "  warnings.warn(msg, UserWarning)\n"
     ]
    },
    {
     "data": {
      "image/png": "[encoded data removed]",
      "text/plain": [
       "<Figure size 720x720 with 3 Axes>"
      ]
     },
     "metadata": {},
     "output_type": "display_data"
    }
   ],
   "source": [
    "# A seaborn jointplot shows bivariate scatterplots and univariate histograms in the same figure\n",
    "ax = sns.jointplot(x=\"attribute2\", y=\"attribute3\", data=devices, size=10)"
   ]
  },
  {
   "cell_type": "markdown",
   "metadata": {},
   "source": [
    "# Pendientes\n",
    "\n",
    "### 1. tiempo transcurrido hasta el fallo\n",
    "### 2. establecer si hay un intervalo común, por ejemplo el 80% tiene 30 días de una serie de tiempo, igual los fallos\n",
    "### 3. grafica tipo gant\n",
    "### 4. si es posible concluir que no se hará un estudo de series sino de clasificación, mejor\n",
    "### 5. Terminando lo anterior, iniciar feature selection\n",
    "### 6. hacer el pipeline de transformación: estandarización, pca si es opción\n",
    "### 7. prototipo sencillo con un árbol"
   ]
  },
  {
   "cell_type": "code",
   "execution_count": null,
   "metadata": {},
   "outputs": [],
   "source": []
  }
 ],
 "metadata": {
  "kernelspec": {
   "display_name": "Python 3",
   "language": "python",
   "name": "python3"
  },
  "language_info": {
   "codemirror_mode": {
    "name": "ipython",
    "version": 3
   },
   "file_extension": ".py",
   "mimetype": "text/x-python",
   "name": "python",
   "nbconvert_exporter": "python",
   "pygments_lexer": "ipython3",
   "version": "3.6.10"
  }
 },
 "nbformat": 4,
 "nbformat_minor": 4
}
