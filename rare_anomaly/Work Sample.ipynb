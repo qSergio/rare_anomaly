{
 "cells": [
  {
   "cell_type": "markdown",
   "metadata": {},
   "source": [
    "# __3D TECHNOLOGIES__"
   ]
  },
  {
   "cell_type": "markdown",
   "metadata": {},
   "source": [
    "__REPORT: On Reducing Maintenance Cost__\n",
    "\n",
    "\n",
    "__Elaborated by: Sergio Nieto__\n",
    "\n",
    "__Objective__\n",
    "\n",
    "This document is a report on the work done by *The Data Science Team* building a predictive model using machine learning to predict the probability of a device failure. \n",
    "\n",
    "__Context__\n",
    "\n",
    "The data is about a fleet of devices transmitting daily aggregated telemetry\n",
    "attributes.\n",
    "Predictive maintenance techniques are designed to help determine the condition of in-service equipment in order to predict when maintenance should be performed. This approach promises cost savings over routine or time-based preventive maintenance, because tasks are performed only when warranted."
   ]
  },
  {
   "cell_type": "code",
   "execution_count": 2,
   "metadata": {},
   "outputs": [],
   "source": [
    "# The libraries we'll use in this report are:\n",
    "\n",
    "import numpy as np\n",
    "import pandas as pd\n",
    "import matplotlib.pyplot as plt\n",
    "import seaborn as sns\n",
    "from datetime import datetime\n",
    "import matplotlib.dates as dt\n",
    "import matplotlib.lines as mlines\n",
    "from IPython.core.pylabtools import figsize\n",
    "import warnings\n",
    "warnings.filterwarnings('ignore')\n",
    "sns.set()\n",
    "\n",
    "# Processing\n",
    "from sklearn.preprocessing import FunctionTransformer,StandardScaler,PolynomialFeatures\n",
    "from sklearn.pipeline import make_pipeline, Pipeline\n",
    "from sklearn.model_selection import train_test_split,KFold,GridSearchCV,RandomizedSearchCV, StratifiedKFold,cross_val_predict,cross_val_score,ShuffleSplit\n",
    "from sklearn.feature_selection import SelectKBest, SelectFromModel\n",
    "from imblearn.over_sampling import SMOTE\n",
    "from sklearn.compose import ColumnTransformer\n",
    "from sklearn.base import clone\n",
    "from sklearn.decomposition import PCA\n",
    "\n",
    "# Modelling\n",
    "from sklearn.tree import DecisionTreeClassifier\n",
    "from sklearn.ensemble import RandomForestClassifier\n",
    "from sklearn.linear_model import LogisticRegression\n",
    "import lightgbm as lgb\n",
    "\n",
    "# Bayesian Modelling\n",
    "import pymc3 as pm\n",
    "import arviz as az\n",
    "from collections import OrderedDict\n",
    "import theano\n",
    "import theano.tensor as tt\n",
    "import itertools\n",
    "\n",
    "# Deep Learning\n",
    "\n",
    "# Evaluation\n",
    "from sklearn.metrics import roc_curve,auc, roc_auc_score,accuracy_score, recall_score, f1_score, confusion_matrix, log_loss\n",
    "from sklearn.metrics import classification_report, balanced_accuracy_score,precision_score,average_precision_score, precision_recall_curve\n",
    "\n",
    "plt.rcParams['figure.figsize'] = (20, 10)\n",
    "pd.set_option('display.max_columns', None)"
   ]
  },
  {
   "cell_type": "code",
   "execution_count": 7,
   "metadata": {},
   "outputs": [],
   "source": [
    "from business import utils"
   ]
  },
  {
   "cell_type": "code",
   "execution_count": 3,
   "metadata": {},
   "outputs": [],
   "source": [
    "np.random.seed(0)"
   ]
  },
  {
   "cell_type": "code",
   "execution_count": 3,
   "metadata": {},
   "outputs": [],
   "source": [
    "# We check that it is a csv file\n",
    "# cat device_failure.csv | head \n",
    "# shows no problem\n",
    "# since we know nothing about the file encoding, latin-1 will be used."
   ]
  },
  {
   "cell_type": "markdown",
   "metadata": {},
   "source": [
    "# Exploratory Data Analysis "
   ]
  },
  {
   "cell_type": "code",
   "execution_count": 4,
   "metadata": {},
   "outputs": [],
   "source": [
    "devices = pd.read_csv(\"device_failure.csv\", encoding='Latin-1')"
   ]
  },
  {
   "cell_type": "code",
   "execution_count": 8,
   "metadata": {},
   "outputs": [
    {
     "data": {
      "text/html": [
       "<div>\n",
       "<style scoped>\n",
       "    .dataframe tbody tr th:only-of-type {\n",
       "        vertical-align: middle;\n",
       "    }\n",
       "\n",
       "    .dataframe tbody tr th {\n",
       "        vertical-align: top;\n",
       "    }\n",
       "\n",
       "    .dataframe thead th {\n",
       "        text-align: right;\n",
       "    }\n",
       "</style>\n",
       "<table border=\"1\" class=\"dataframe\">\n",
       "  <thead>\n",
       "    <tr style=\"text-align: right;\">\n",
       "      <th></th>\n",
       "      <th>date</th>\n",
       "      <th>device</th>\n",
       "      <th>failure</th>\n",
       "      <th>attribute1</th>\n",
       "      <th>attribute2</th>\n",
       "      <th>attribute3</th>\n",
       "      <th>attribute4</th>\n",
       "      <th>attribute5</th>\n",
       "      <th>attribute6</th>\n",
       "      <th>attribute7</th>\n",
       "      <th>attribute8</th>\n",
       "      <th>attribute9</th>\n",
       "    </tr>\n",
       "  </thead>\n",
       "  <tbody>\n",
       "    <tr>\n",
       "      <th>0</th>\n",
       "      <td>2015-01-01</td>\n",
       "      <td>S1F01085</td>\n",
       "      <td>0</td>\n",
       "      <td>215630672</td>\n",
       "      <td>56</td>\n",
       "      <td>0</td>\n",
       "      <td>52</td>\n",
       "      <td>6</td>\n",
       "      <td>407438</td>\n",
       "      <td>0</td>\n",
       "      <td>0</td>\n",
       "      <td>7</td>\n",
       "    </tr>\n",
       "    <tr>\n",
       "      <th>1</th>\n",
       "      <td>2015-01-01</td>\n",
       "      <td>S1F0166B</td>\n",
       "      <td>0</td>\n",
       "      <td>61370680</td>\n",
       "      <td>0</td>\n",
       "      <td>3</td>\n",
       "      <td>0</td>\n",
       "      <td>6</td>\n",
       "      <td>403174</td>\n",
       "      <td>0</td>\n",
       "      <td>0</td>\n",
       "      <td>0</td>\n",
       "    </tr>\n",
       "    <tr>\n",
       "      <th>2</th>\n",
       "      <td>2015-01-01</td>\n",
       "      <td>S1F01E6Y</td>\n",
       "      <td>0</td>\n",
       "      <td>173295968</td>\n",
       "      <td>0</td>\n",
       "      <td>0</td>\n",
       "      <td>0</td>\n",
       "      <td>12</td>\n",
       "      <td>237394</td>\n",
       "      <td>0</td>\n",
       "      <td>0</td>\n",
       "      <td>0</td>\n",
       "    </tr>\n",
       "    <tr>\n",
       "      <th>3</th>\n",
       "      <td>2015-01-01</td>\n",
       "      <td>S1F01JE0</td>\n",
       "      <td>0</td>\n",
       "      <td>79694024</td>\n",
       "      <td>0</td>\n",
       "      <td>0</td>\n",
       "      <td>0</td>\n",
       "      <td>6</td>\n",
       "      <td>410186</td>\n",
       "      <td>0</td>\n",
       "      <td>0</td>\n",
       "      <td>0</td>\n",
       "    </tr>\n",
       "    <tr>\n",
       "      <th>4</th>\n",
       "      <td>2015-01-01</td>\n",
       "      <td>S1F01R2B</td>\n",
       "      <td>0</td>\n",
       "      <td>135970480</td>\n",
       "      <td>0</td>\n",
       "      <td>0</td>\n",
       "      <td>0</td>\n",
       "      <td>15</td>\n",
       "      <td>313173</td>\n",
       "      <td>0</td>\n",
       "      <td>0</td>\n",
       "      <td>3</td>\n",
       "    </tr>\n",
       "  </tbody>\n",
       "</table>\n",
       "</div>"
      ],
      "text/plain": [
       "         date    device  failure  attribute1  attribute2  attribute3  \\\n",
       "0  2015-01-01  S1F01085        0   215630672          56           0   \n",
       "1  2015-01-01  S1F0166B        0    61370680           0           3   \n",
       "2  2015-01-01  S1F01E6Y        0   173295968           0           0   \n",
       "3  2015-01-01  S1F01JE0        0    79694024           0           0   \n",
       "4  2015-01-01  S1F01R2B        0   135970480           0           0   \n",
       "\n",
       "   attribute4  attribute5  attribute6  attribute7  attribute8  attribute9  \n",
       "0          52           6      407438           0           0           7  \n",
       "1           0           6      403174           0           0           0  \n",
       "2           0          12      237394           0           0           0  \n",
       "3           0           6      410186           0           0           0  \n",
       "4           0          15      313173           0           0           3  "
      ]
     },
     "execution_count": 8,
     "metadata": {},
     "output_type": "execute_result"
    }
   ],
   "source": [
    "devices.head()"
   ]
  },
  {
   "cell_type": "code",
   "execution_count": 6,
   "metadata": {},
   "outputs": [
    {
     "data": {
      "text/plain": [
       "1169"
      ]
     },
     "execution_count": 6,
     "metadata": {},
     "output_type": "execute_result"
    }
   ],
   "source": [
    "# Number of different devices\n",
    "\n",
    "devices.device.nunique()"
   ]
  },
  {
   "cell_type": "code",
   "execution_count": 7,
   "metadata": {},
   "outputs": [
    {
     "data": {
      "text/plain": [
       "304"
      ]
     },
     "execution_count": 7,
     "metadata": {},
     "output_type": "execute_result"
    }
   ],
   "source": [
    "# How many different dates?\n",
    "\n",
    "devices.date.nunique()"
   ]
  },
  {
   "cell_type": "code",
   "execution_count": 8,
   "metadata": {},
   "outputs": [
    {
     "data": {
      "text/plain": [
       "6"
      ]
     },
     "execution_count": 8,
     "metadata": {},
     "output_type": "execute_result"
    }
   ],
   "source": [
    "# Not all devices have the same number of records\n",
    "# This may be a disadvantage for a time series approach to detecting failure\n",
    "\n",
    "# we take to examples from the previous head:\n",
    "\n",
    "devices[devices.device == \"S1F01085\"][\"date\"].nunique()"
   ]
  },
  {
   "cell_type": "code",
   "execution_count": 9,
   "metadata": {},
   "outputs": [
    {
     "data": {
      "text/plain": [
       "48"
      ]
     },
     "execution_count": 9,
     "metadata": {},
     "output_type": "execute_result"
    }
   ],
   "source": [
    "devices[devices.device == \"S1F01E6Y\"][\"date\"].nunique()"
   ]
  },
  {
   "cell_type": "code",
   "execution_count": 10,
   "metadata": {},
   "outputs": [
    {
     "name": "stdout",
     "output_type": "stream",
     "text": [
      "<class 'pandas.core.frame.DataFrame'>\n",
      "RangeIndex: 124494 entries, 0 to 124493\n",
      "Data columns (total 12 columns):\n",
      " #   Column      Non-Null Count   Dtype \n",
      "---  ------      --------------   ----- \n",
      " 0   date        124494 non-null  object\n",
      " 1   device      124494 non-null  object\n",
      " 2   failure     124494 non-null  int64 \n",
      " 3   attribute1  124494 non-null  int64 \n",
      " 4   attribute2  124494 non-null  int64 \n",
      " 5   attribute3  124494 non-null  int64 \n",
      " 6   attribute4  124494 non-null  int64 \n",
      " 7   attribute5  124494 non-null  int64 \n",
      " 8   attribute6  124494 non-null  int64 \n",
      " 9   attribute7  124494 non-null  int64 \n",
      " 10  attribute8  124494 non-null  int64 \n",
      " 11  attribute9  124494 non-null  int64 \n",
      "dtypes: int64(10), object(2)\n",
      "memory usage: 11.4+ MB\n"
     ]
    }
   ],
   "source": [
    "# Before proceeding, we look at the info in the data frame:\n",
    "\n",
    "devices.info()"
   ]
  },
  {
   "cell_type": "code",
   "execution_count": 9,
   "metadata": {},
   "outputs": [
    {
     "data": {
      "text/plain": [
       "0    124388\n",
       "1       106\n",
       "Name: failure, dtype: int64"
      ]
     },
     "execution_count": 9,
     "metadata": {},
     "output_type": "execute_result"
    }
   ],
   "source": [
    "# We have more than 100 thounsand records, but haw many are failures?\n",
    "\n",
    "devices.failure.value_counts(normalize=False)"
   ]
  },
  {
   "cell_type": "code",
   "execution_count": 10,
   "metadata": {},
   "outputs": [],
   "source": [
    "# Date are converted to datetime from pandas in case we need to use later on these functionality\n",
    "\n",
    "devices[\"date\"]=pd.to_datetime(devices[\"date\"])"
   ]
  },
  {
   "cell_type": "code",
   "execution_count": 11,
   "metadata": {},
   "outputs": [
    {
     "data": {
      "text/plain": [
       "<matplotlib.axes._subplots.AxesSubplot at 0x7f4804e69400>"
      ]
     },
     "execution_count": 11,
     "metadata": {},
     "output_type": "execute_result"
    },
    {
     "data": {
      "image/png": "[encoded data removed]",
      "text/plain": [
       "<Figure size 1440x720 with 1 Axes>"
      ]
     },
     "metadata": {},
     "output_type": "display_data"
    }
   ],
   "source": [
    "# Since we know\n",
    "\n",
    "devices.groupby([\"date\"])[\"device\"].nunique().plot()"
   ]
  },
  {
   "cell_type": "code",
   "execution_count": 14,
   "metadata": {},
   "outputs": [
    {
     "data": {
      "text/plain": [
       "<matplotlib.axes._subplots.AxesSubplot at 0x7f252b257ba8>"
      ]
     },
     "execution_count": 14,
     "metadata": {},
     "output_type": "execute_result"
    },
    {
     "data": {
      "image/png": "[encoded data removed]",
      "text/plain": [
       "<Figure size 1440x720 with 1 Axes>"
      ]
     },
     "metadata": {},
     "output_type": "display_data"
    }
   ],
   "source": [
    "devices.query(\"(failure == 1)\").date.hist(bins = 110, alpha = 0.5)"
   ]
  },
  {
   "cell_type": "code",
   "execution_count": 15,
   "metadata": {},
   "outputs": [
    {
     "data": {
      "text/plain": [
       "count    1169.000000\n",
       "mean      106.496151\n",
       "std       102.651601\n",
       "min         1.000000\n",
       "25%         6.000000\n",
       "50%        84.000000\n",
       "75%       224.000000\n",
       "max       304.000000\n",
       "Name: date, dtype: float64"
      ]
     },
     "execution_count": 15,
     "metadata": {},
     "output_type": "execute_result"
    }
   ],
   "source": [
    "devices.groupby([\"device\"])[\"date\"].count().describe()"
   ]
  },
  {
   "cell_type": "markdown",
   "metadata": {},
   "source": [
    "__Create a data frame based only on failures to understand better the structure of the time series__"
   ]
  },
  {
   "cell_type": "code",
   "execution_count": 26,
   "metadata": {},
   "outputs": [],
   "source": [
    "list_failures=list(set(devices[devices.failure == 1]['device']))\n",
    "devices.loc[devices.device.isin(list_failures),\"tag\"] = 1\n",
    "devices.loc[~devices.device.isin(list_failures),\"tag\"] = 2"
   ]
  },
  {
   "cell_type": "code",
   "execution_count": 43,
   "metadata": {},
   "outputs": [],
   "source": [
    "failures = devices[devices.tag == 1]\n",
    "non_failures = devices[devices.tag == 2]"
   ]
  },
  {
   "cell_type": "code",
   "execution_count": 44,
   "metadata": {},
   "outputs": [
    {
     "data": {
      "text/html": [
       "<div>\n",
       "<style scoped>\n",
       "    .dataframe tbody tr th:only-of-type {\n",
       "        vertical-align: middle;\n",
       "    }\n",
       "\n",
       "    .dataframe tbody tr th {\n",
       "        vertical-align: top;\n",
       "    }\n",
       "\n",
       "    .dataframe thead th {\n",
       "        text-align: right;\n",
       "    }\n",
       "</style>\n",
       "<table border=\"1\" class=\"dataframe\">\n",
       "  <thead>\n",
       "    <tr style=\"text-align: right;\">\n",
       "      <th></th>\n",
       "      <th>date</th>\n",
       "      <th>device</th>\n",
       "      <th>failure</th>\n",
       "      <th>attribute1</th>\n",
       "      <th>attribute2</th>\n",
       "      <th>attribute3</th>\n",
       "      <th>attribute4</th>\n",
       "      <th>attribute5</th>\n",
       "      <th>attribute6</th>\n",
       "      <th>attribute7</th>\n",
       "      <th>attribute8</th>\n",
       "      <th>attribute9</th>\n",
       "      <th>tag</th>\n",
       "    </tr>\n",
       "  </thead>\n",
       "  <tbody>\n",
       "    <tr>\n",
       "      <th>0</th>\n",
       "      <td>2015-01-01</td>\n",
       "      <td>S1F01085</td>\n",
       "      <td>0</td>\n",
       "      <td>215630672</td>\n",
       "      <td>56</td>\n",
       "      <td>0</td>\n",
       "      <td>52</td>\n",
       "      <td>6</td>\n",
       "      <td>407438</td>\n",
       "      <td>0</td>\n",
       "      <td>0</td>\n",
       "      <td>7</td>\n",
       "      <td>2.0</td>\n",
       "    </tr>\n",
       "    <tr>\n",
       "      <th>1</th>\n",
       "      <td>2015-01-01</td>\n",
       "      <td>S1F0166B</td>\n",
       "      <td>0</td>\n",
       "      <td>61370680</td>\n",
       "      <td>0</td>\n",
       "      <td>3</td>\n",
       "      <td>0</td>\n",
       "      <td>6</td>\n",
       "      <td>403174</td>\n",
       "      <td>0</td>\n",
       "      <td>0</td>\n",
       "      <td>0</td>\n",
       "      <td>2.0</td>\n",
       "    </tr>\n",
       "    <tr>\n",
       "      <th>2</th>\n",
       "      <td>2015-01-01</td>\n",
       "      <td>S1F01E6Y</td>\n",
       "      <td>0</td>\n",
       "      <td>173295968</td>\n",
       "      <td>0</td>\n",
       "      <td>0</td>\n",
       "      <td>0</td>\n",
       "      <td>12</td>\n",
       "      <td>237394</td>\n",
       "      <td>0</td>\n",
       "      <td>0</td>\n",
       "      <td>0</td>\n",
       "      <td>2.0</td>\n",
       "    </tr>\n",
       "    <tr>\n",
       "      <th>3</th>\n",
       "      <td>2015-01-01</td>\n",
       "      <td>S1F01JE0</td>\n",
       "      <td>0</td>\n",
       "      <td>79694024</td>\n",
       "      <td>0</td>\n",
       "      <td>0</td>\n",
       "      <td>0</td>\n",
       "      <td>6</td>\n",
       "      <td>410186</td>\n",
       "      <td>0</td>\n",
       "      <td>0</td>\n",
       "      <td>0</td>\n",
       "      <td>2.0</td>\n",
       "    </tr>\n",
       "    <tr>\n",
       "      <th>4</th>\n",
       "      <td>2015-01-01</td>\n",
       "      <td>S1F01R2B</td>\n",
       "      <td>0</td>\n",
       "      <td>135970480</td>\n",
       "      <td>0</td>\n",
       "      <td>0</td>\n",
       "      <td>0</td>\n",
       "      <td>15</td>\n",
       "      <td>313173</td>\n",
       "      <td>0</td>\n",
       "      <td>0</td>\n",
       "      <td>3</td>\n",
       "      <td>2.0</td>\n",
       "    </tr>\n",
       "  </tbody>\n",
       "</table>\n",
       "</div>"
      ],
      "text/plain": [
       "        date    device  failure  attribute1  attribute2  attribute3  \\\n",
       "0 2015-01-01  S1F01085        0   215630672          56           0   \n",
       "1 2015-01-01  S1F0166B        0    61370680           0           3   \n",
       "2 2015-01-01  S1F01E6Y        0   173295968           0           0   \n",
       "3 2015-01-01  S1F01JE0        0    79694024           0           0   \n",
       "4 2015-01-01  S1F01R2B        0   135970480           0           0   \n",
       "\n",
       "   attribute4  attribute5  attribute6  attribute7  attribute8  attribute9  tag  \n",
       "0          52           6      407438           0           0           7  2.0  \n",
       "1           0           6      403174           0           0           0  2.0  \n",
       "2           0          12      237394           0           0           0  2.0  \n",
       "3           0           6      410186           0           0           0  2.0  \n",
       "4           0          15      313173           0           0           3  2.0  "
      ]
     },
     "execution_count": 44,
     "metadata": {},
     "output_type": "execute_result"
    }
   ],
   "source": [
    "non_failures.head()"
   ]
  },
  {
   "cell_type": "code",
   "execution_count": 28,
   "metadata": {},
   "outputs": [
    {
     "data": {
      "text/html": [
       "<div>\n",
       "<style scoped>\n",
       "    .dataframe tbody tr th:only-of-type {\n",
       "        vertical-align: middle;\n",
       "    }\n",
       "\n",
       "    .dataframe tbody tr th {\n",
       "        vertical-align: top;\n",
       "    }\n",
       "\n",
       "    .dataframe thead th {\n",
       "        text-align: right;\n",
       "    }\n",
       "</style>\n",
       "<table border=\"1\" class=\"dataframe\">\n",
       "  <thead>\n",
       "    <tr style=\"text-align: right;\">\n",
       "      <th></th>\n",
       "      <th>date</th>\n",
       "      <th>device</th>\n",
       "      <th>failure</th>\n",
       "      <th>attribute1</th>\n",
       "      <th>attribute2</th>\n",
       "      <th>attribute3</th>\n",
       "      <th>attribute4</th>\n",
       "      <th>attribute5</th>\n",
       "      <th>attribute6</th>\n",
       "      <th>attribute7</th>\n",
       "      <th>attribute8</th>\n",
       "      <th>attribute9</th>\n",
       "      <th>tag</th>\n",
       "    </tr>\n",
       "  </thead>\n",
       "  <tbody>\n",
       "    <tr>\n",
       "      <th>7</th>\n",
       "      <td>2015-01-01</td>\n",
       "      <td>S1F023H2</td>\n",
       "      <td>0</td>\n",
       "      <td>141503600</td>\n",
       "      <td>0</td>\n",
       "      <td>0</td>\n",
       "      <td>1</td>\n",
       "      <td>19</td>\n",
       "      <td>494462</td>\n",
       "      <td>16</td>\n",
       "      <td>16</td>\n",
       "      <td>3</td>\n",
       "      <td>1.0</td>\n",
       "    </tr>\n",
       "    <tr>\n",
       "      <th>23</th>\n",
       "      <td>2015-01-01</td>\n",
       "      <td>S1F03YZM</td>\n",
       "      <td>0</td>\n",
       "      <td>55587136</td>\n",
       "      <td>0</td>\n",
       "      <td>0</td>\n",
       "      <td>0</td>\n",
       "      <td>7</td>\n",
       "      <td>199132</td>\n",
       "      <td>0</td>\n",
       "      <td>0</td>\n",
       "      <td>0</td>\n",
       "      <td>1.0</td>\n",
       "    </tr>\n",
       "    <tr>\n",
       "      <th>44</th>\n",
       "      <td>2015-01-01</td>\n",
       "      <td>S1F09DZQ</td>\n",
       "      <td>0</td>\n",
       "      <td>12568128</td>\n",
       "      <td>136</td>\n",
       "      <td>0</td>\n",
       "      <td>2</td>\n",
       "      <td>6</td>\n",
       "      <td>380112</td>\n",
       "      <td>0</td>\n",
       "      <td>0</td>\n",
       "      <td>2</td>\n",
       "      <td>1.0</td>\n",
       "    </tr>\n",
       "    <tr>\n",
       "      <th>63</th>\n",
       "      <td>2015-01-01</td>\n",
       "      <td>S1F0CTDN</td>\n",
       "      <td>0</td>\n",
       "      <td>50147888</td>\n",
       "      <td>528</td>\n",
       "      <td>0</td>\n",
       "      <td>4</td>\n",
       "      <td>9</td>\n",
       "      <td>381198</td>\n",
       "      <td>32</td>\n",
       "      <td>32</td>\n",
       "      <td>3</td>\n",
       "      <td>1.0</td>\n",
       "    </tr>\n",
       "    <tr>\n",
       "      <th>74</th>\n",
       "      <td>2015-01-01</td>\n",
       "      <td>S1F0DSTY</td>\n",
       "      <td>0</td>\n",
       "      <td>8471680</td>\n",
       "      <td>0</td>\n",
       "      <td>0</td>\n",
       "      <td>0</td>\n",
       "      <td>11</td>\n",
       "      <td>436682</td>\n",
       "      <td>0</td>\n",
       "      <td>0</td>\n",
       "      <td>0</td>\n",
       "      <td>1.0</td>\n",
       "    </tr>\n",
       "  </tbody>\n",
       "</table>\n",
       "</div>"
      ],
      "text/plain": [
       "         date    device  failure  attribute1  attribute2  attribute3  \\\n",
       "7  2015-01-01  S1F023H2        0   141503600           0           0   \n",
       "23 2015-01-01  S1F03YZM        0    55587136           0           0   \n",
       "44 2015-01-01  S1F09DZQ        0    12568128         136           0   \n",
       "63 2015-01-01  S1F0CTDN        0    50147888         528           0   \n",
       "74 2015-01-01  S1F0DSTY        0     8471680           0           0   \n",
       "\n",
       "    attribute4  attribute5  attribute6  attribute7  attribute8  attribute9  \\\n",
       "7            1          19      494462          16          16           3   \n",
       "23           0           7      199132           0           0           0   \n",
       "44           2           6      380112           0           0           2   \n",
       "63           4           9      381198          32          32           3   \n",
       "74           0          11      436682           0           0           0   \n",
       "\n",
       "    tag  \n",
       "7   1.0  \n",
       "23  1.0  \n",
       "44  1.0  \n",
       "63  1.0  \n",
       "74  1.0  "
      ]
     },
     "execution_count": 28,
     "metadata": {},
     "output_type": "execute_result"
    }
   ],
   "source": [
    "failures.head()"
   ]
  },
  {
   "cell_type": "code",
   "execution_count": 29,
   "metadata": {},
   "outputs": [
    {
     "data": {
      "text/plain": [
       "106"
      ]
     },
     "execution_count": 29,
     "metadata": {},
     "output_type": "execute_result"
    }
   ],
   "source": [
    "failures.device.nunique()"
   ]
  },
  {
   "cell_type": "code",
   "execution_count": 30,
   "metadata": {},
   "outputs": [
    {
     "data": {
      "text/html": [
       "<div>\n",
       "<style scoped>\n",
       "    .dataframe tbody tr th:only-of-type {\n",
       "        vertical-align: middle;\n",
       "    }\n",
       "\n",
       "    .dataframe tbody tr th {\n",
       "        vertical-align: top;\n",
       "    }\n",
       "\n",
       "    .dataframe thead th {\n",
       "        text-align: right;\n",
       "    }\n",
       "</style>\n",
       "<table border=\"1\" class=\"dataframe\">\n",
       "  <thead>\n",
       "    <tr style=\"text-align: right;\">\n",
       "      <th></th>\n",
       "      <th>device</th>\n",
       "      <th>count</th>\n",
       "      <th>unique</th>\n",
       "      <th>top</th>\n",
       "      <th>freq</th>\n",
       "      <th>first</th>\n",
       "      <th>last</th>\n",
       "    </tr>\n",
       "  </thead>\n",
       "  <tbody>\n",
       "    <tr>\n",
       "      <th>0</th>\n",
       "      <td>S1F023H2</td>\n",
       "      <td>19</td>\n",
       "      <td>19</td>\n",
       "      <td>2015-01-04</td>\n",
       "      <td>1</td>\n",
       "      <td>2015-01-01</td>\n",
       "      <td>2015-01-19</td>\n",
       "    </tr>\n",
       "    <tr>\n",
       "      <th>1</th>\n",
       "      <td>S1F03YZM</td>\n",
       "      <td>215</td>\n",
       "      <td>215</td>\n",
       "      <td>2015-07-19</td>\n",
       "      <td>1</td>\n",
       "      <td>2015-01-01</td>\n",
       "      <td>2015-08-03</td>\n",
       "    </tr>\n",
       "    <tr>\n",
       "      <th>2</th>\n",
       "      <td>S1F09DZQ</td>\n",
       "      <td>199</td>\n",
       "      <td>199</td>\n",
       "      <td>2015-01-31</td>\n",
       "      <td>1</td>\n",
       "      <td>2015-01-01</td>\n",
       "      <td>2015-07-18</td>\n",
       "    </tr>\n",
       "    <tr>\n",
       "      <th>3</th>\n",
       "      <td>S1F0CTDN</td>\n",
       "      <td>7</td>\n",
       "      <td>7</td>\n",
       "      <td>2015-01-04</td>\n",
       "      <td>1</td>\n",
       "      <td>2015-01-01</td>\n",
       "      <td>2015-01-07</td>\n",
       "    </tr>\n",
       "    <tr>\n",
       "      <th>4</th>\n",
       "      <td>S1F0DSTY</td>\n",
       "      <td>45</td>\n",
       "      <td>45</td>\n",
       "      <td>2015-02-01</td>\n",
       "      <td>1</td>\n",
       "      <td>2015-01-01</td>\n",
       "      <td>2015-02-14</td>\n",
       "    </tr>\n",
       "    <tr>\n",
       "      <th>...</th>\n",
       "      <td>...</td>\n",
       "      <td>...</td>\n",
       "      <td>...</td>\n",
       "      <td>...</td>\n",
       "      <td>...</td>\n",
       "      <td>...</td>\n",
       "      <td>...</td>\n",
       "    </tr>\n",
       "    <tr>\n",
       "      <th>101</th>\n",
       "      <td>Z1F1901P</td>\n",
       "      <td>132</td>\n",
       "      <td>132</td>\n",
       "      <td>2015-01-07</td>\n",
       "      <td>1</td>\n",
       "      <td>2015-01-01</td>\n",
       "      <td>2015-05-12</td>\n",
       "    </tr>\n",
       "    <tr>\n",
       "      <th>102</th>\n",
       "      <td>Z1F1AG5N</td>\n",
       "      <td>9</td>\n",
       "      <td>9</td>\n",
       "      <td>2015-01-04</td>\n",
       "      <td>1</td>\n",
       "      <td>2015-01-01</td>\n",
       "      <td>2015-05-08</td>\n",
       "    </tr>\n",
       "    <tr>\n",
       "      <th>103</th>\n",
       "      <td>Z1F1FCH5</td>\n",
       "      <td>19</td>\n",
       "      <td>19</td>\n",
       "      <td>2015-01-04</td>\n",
       "      <td>1</td>\n",
       "      <td>2015-01-01</td>\n",
       "      <td>2015-01-19</td>\n",
       "    </tr>\n",
       "    <tr>\n",
       "      <th>104</th>\n",
       "      <td>Z1F1RJFA</td>\n",
       "      <td>124</td>\n",
       "      <td>124</td>\n",
       "      <td>2015-01-07</td>\n",
       "      <td>1</td>\n",
       "      <td>2015-01-01</td>\n",
       "      <td>2015-05-04</td>\n",
       "    </tr>\n",
       "    <tr>\n",
       "      <th>105</th>\n",
       "      <td>Z1F1VQFY</td>\n",
       "      <td>125</td>\n",
       "      <td>125</td>\n",
       "      <td>2015-01-07</td>\n",
       "      <td>1</td>\n",
       "      <td>2015-01-01</td>\n",
       "      <td>2015-06-30</td>\n",
       "    </tr>\n",
       "  </tbody>\n",
       "</table>\n",
       "<p>106 rows × 7 columns</p>\n",
       "</div>"
      ],
      "text/plain": [
       "       device count unique        top freq      first       last\n",
       "0    S1F023H2    19     19 2015-01-04    1 2015-01-01 2015-01-19\n",
       "1    S1F03YZM   215    215 2015-07-19    1 2015-01-01 2015-08-03\n",
       "2    S1F09DZQ   199    199 2015-01-31    1 2015-01-01 2015-07-18\n",
       "3    S1F0CTDN     7      7 2015-01-04    1 2015-01-01 2015-01-07\n",
       "4    S1F0DSTY    45     45 2015-02-01    1 2015-01-01 2015-02-14\n",
       "..        ...   ...    ...        ...  ...        ...        ...\n",
       "101  Z1F1901P   132    132 2015-01-07    1 2015-01-01 2015-05-12\n",
       "102  Z1F1AG5N     9      9 2015-01-04    1 2015-01-01 2015-05-08\n",
       "103  Z1F1FCH5    19     19 2015-01-04    1 2015-01-01 2015-01-19\n",
       "104  Z1F1RJFA   124    124 2015-01-07    1 2015-01-01 2015-05-04\n",
       "105  Z1F1VQFY   125    125 2015-01-07    1 2015-01-01 2015-06-30\n",
       "\n",
       "[106 rows x 7 columns]"
      ]
     },
     "execution_count": 30,
     "metadata": {},
     "output_type": "execute_result"
    }
   ],
   "source": [
    "failures.groupby(\"device\").date.describe().reset_index()"
   ]
  },
  {
   "cell_type": "code",
   "execution_count": 45,
   "metadata": {},
   "outputs": [
    {
     "data": {
      "text/html": [
       "<div>\n",
       "<style scoped>\n",
       "    .dataframe tbody tr th:only-of-type {\n",
       "        vertical-align: middle;\n",
       "    }\n",
       "\n",
       "    .dataframe tbody tr th {\n",
       "        vertical-align: top;\n",
       "    }\n",
       "\n",
       "    .dataframe thead th {\n",
       "        text-align: right;\n",
       "    }\n",
       "</style>\n",
       "<table border=\"1\" class=\"dataframe\">\n",
       "  <thead>\n",
       "    <tr style=\"text-align: right;\">\n",
       "      <th></th>\n",
       "      <th>device</th>\n",
       "      <th>first</th>\n",
       "      <th>last</th>\n",
       "    </tr>\n",
       "  </thead>\n",
       "  <tbody>\n",
       "    <tr>\n",
       "      <th>0</th>\n",
       "      <td>S1F023H2</td>\n",
       "      <td>2015-01-01</td>\n",
       "      <td>2015-01-19</td>\n",
       "    </tr>\n",
       "    <tr>\n",
       "      <th>1</th>\n",
       "      <td>S1F03YZM</td>\n",
       "      <td>2015-01-01</td>\n",
       "      <td>2015-08-03</td>\n",
       "    </tr>\n",
       "    <tr>\n",
       "      <th>2</th>\n",
       "      <td>S1F09DZQ</td>\n",
       "      <td>2015-01-01</td>\n",
       "      <td>2015-07-18</td>\n",
       "    </tr>\n",
       "    <tr>\n",
       "      <th>3</th>\n",
       "      <td>S1F0CTDN</td>\n",
       "      <td>2015-01-01</td>\n",
       "      <td>2015-01-07</td>\n",
       "    </tr>\n",
       "    <tr>\n",
       "      <th>4</th>\n",
       "      <td>S1F0DSTY</td>\n",
       "      <td>2015-01-01</td>\n",
       "      <td>2015-02-14</td>\n",
       "    </tr>\n",
       "  </tbody>\n",
       "</table>\n",
       "</div>"
      ],
      "text/plain": [
       "     device      first       last\n",
       "0  S1F023H2 2015-01-01 2015-01-19\n",
       "1  S1F03YZM 2015-01-01 2015-08-03\n",
       "2  S1F09DZQ 2015-01-01 2015-07-18\n",
       "3  S1F0CTDN 2015-01-01 2015-01-07\n",
       "4  S1F0DSTY 2015-01-01 2015-02-14"
      ]
     },
     "execution_count": 45,
     "metadata": {},
     "output_type": "execute_result"
    }
   ],
   "source": [
    "failures_desc = failures.groupby(\"device\").date.describe().reset_index()\n",
    "failures_desc.drop([\"count\",\"unique\",\"top\",\"freq\"], axis=1, inplace=True)\n",
    "non_failures_desc = non_failures.groupby(\"device\").date.describe().reset_index()\n",
    "non_failures_desc.drop([\"count\",\"unique\",\"top\",\"freq\"], axis=1, inplace=True)\n",
    "failures_desc.head()"
   ]
  },
  {
   "cell_type": "code",
   "execution_count": 41,
   "metadata": {},
   "outputs": [
    {
     "data": {
      "text/plain": [
       "count                     106\n",
       "unique                      1\n",
       "top       2015-01-01 00:00:00\n",
       "freq                      106\n",
       "first     2015-01-01 00:00:00\n",
       "last      2015-01-01 00:00:00\n",
       "Name: first, dtype: object"
      ]
     },
     "execution_count": 41,
     "metadata": {},
     "output_type": "execute_result"
    }
   ],
   "source": [
    "failures_desc[\"first\"].describe()"
   ]
  },
  {
   "cell_type": "code",
   "execution_count": 48,
   "metadata": {},
   "outputs": [
    {
     "data": {
      "text/html": [
       "<div>\n",
       "<style scoped>\n",
       "    .dataframe tbody tr th:only-of-type {\n",
       "        vertical-align: middle;\n",
       "    }\n",
       "\n",
       "    .dataframe tbody tr th {\n",
       "        vertical-align: top;\n",
       "    }\n",
       "\n",
       "    .dataframe thead th {\n",
       "        text-align: right;\n",
       "    }\n",
       "</style>\n",
       "<table border=\"1\" class=\"dataframe\">\n",
       "  <thead>\n",
       "    <tr style=\"text-align: right;\">\n",
       "      <th></th>\n",
       "      <th>device</th>\n",
       "      <th>first</th>\n",
       "      <th>last</th>\n",
       "    </tr>\n",
       "  </thead>\n",
       "  <tbody>\n",
       "    <tr>\n",
       "      <th>0</th>\n",
       "      <td>S1F023H2</td>\n",
       "      <td>2015-01-01</td>\n",
       "      <td>2015-01-19</td>\n",
       "    </tr>\n",
       "    <tr>\n",
       "      <th>1</th>\n",
       "      <td>S1F03YZM</td>\n",
       "      <td>2015-01-01</td>\n",
       "      <td>2015-08-03</td>\n",
       "    </tr>\n",
       "    <tr>\n",
       "      <th>2</th>\n",
       "      <td>S1F09DZQ</td>\n",
       "      <td>2015-01-01</td>\n",
       "      <td>2015-07-18</td>\n",
       "    </tr>\n",
       "    <tr>\n",
       "      <th>3</th>\n",
       "      <td>S1F0CTDN</td>\n",
       "      <td>2015-01-01</td>\n",
       "      <td>2015-01-07</td>\n",
       "    </tr>\n",
       "    <tr>\n",
       "      <th>4</th>\n",
       "      <td>S1F0DSTY</td>\n",
       "      <td>2015-01-01</td>\n",
       "      <td>2015-02-14</td>\n",
       "    </tr>\n",
       "  </tbody>\n",
       "</table>\n",
       "</div>"
      ],
      "text/plain": [
       "     device      first       last\n",
       "0  S1F023H2 2015-01-01 2015-01-19\n",
       "1  S1F03YZM 2015-01-01 2015-08-03\n",
       "2  S1F09DZQ 2015-01-01 2015-07-18\n",
       "3  S1F0CTDN 2015-01-01 2015-01-07\n",
       "4  S1F0DSTY 2015-01-01 2015-02-14"
      ]
     },
     "execution_count": 48,
     "metadata": {},
     "output_type": "execute_result"
    }
   ],
   "source": [
    "failures_desc.head()"
   ]
  },
  {
   "cell_type": "code",
   "execution_count": 53,
   "metadata": {},
   "outputs": [
    {
     "data": {
      "image/png": "[encoded data removed]",
      "text/plain": [
       "<Figure size 1368x1440 with 1 Axes>"
      ]
     },
     "metadata": {},
     "output_type": "display_data"
    }
   ],
   "source": [
    "df = failures_desc.rename(columns={'device':'device',\n",
    "                          'first':'Initial',\n",
    "                          'last':'Final'})\n",
    "\n",
    "fig = plt.figure(figsize=(19,20))\n",
    "ax = fig.add_subplot(111)\n",
    "ax = ax.xaxis_date()\n",
    "ax = plt.hlines(df.device, dt.date2num(df.Initial), dt.date2num(df.Final))"
   ]
  },
  {
   "cell_type": "code",
   "execution_count": 59,
   "metadata": {},
   "outputs": [
    {
     "data": {
      "text/html": [
       "<div>\n",
       "<style scoped>\n",
       "    .dataframe tbody tr th:only-of-type {\n",
       "        vertical-align: middle;\n",
       "    }\n",
       "\n",
       "    .dataframe tbody tr th {\n",
       "        vertical-align: top;\n",
       "    }\n",
       "\n",
       "    .dataframe thead th {\n",
       "        text-align: right;\n",
       "    }\n",
       "</style>\n",
       "<table border=\"1\" class=\"dataframe\">\n",
       "  <thead>\n",
       "    <tr style=\"text-align: right;\">\n",
       "      <th></th>\n",
       "      <th>date</th>\n",
       "      <th>device</th>\n",
       "      <th>failure</th>\n",
       "      <th>attribute1</th>\n",
       "      <th>attribute2</th>\n",
       "      <th>attribute3</th>\n",
       "      <th>attribute4</th>\n",
       "      <th>attribute5</th>\n",
       "      <th>attribute6</th>\n",
       "      <th>attribute7</th>\n",
       "      <th>attribute8</th>\n",
       "      <th>attribute9</th>\n",
       "      <th>tag</th>\n",
       "    </tr>\n",
       "  </thead>\n",
       "  <tbody>\n",
       "    <tr>\n",
       "      <th>235</th>\n",
       "      <td>2015-01-01</td>\n",
       "      <td>S1F0RRB1</td>\n",
       "      <td>0</td>\n",
       "      <td>5230888</td>\n",
       "      <td>2288</td>\n",
       "      <td>0</td>\n",
       "      <td>37</td>\n",
       "      <td>8</td>\n",
       "      <td>39267</td>\n",
       "      <td>24</td>\n",
       "      <td>24</td>\n",
       "      <td>1</td>\n",
       "      <td>1.0</td>\n",
       "    </tr>\n",
       "    <tr>\n",
       "      <th>1398</th>\n",
       "      <td>2015-01-02</td>\n",
       "      <td>S1F0RRB1</td>\n",
       "      <td>0</td>\n",
       "      <td>13307628</td>\n",
       "      <td>64776</td>\n",
       "      <td>0</td>\n",
       "      <td>49</td>\n",
       "      <td>8</td>\n",
       "      <td>39267</td>\n",
       "      <td>56</td>\n",
       "      <td>56</td>\n",
       "      <td>1</td>\n",
       "      <td>1.0</td>\n",
       "    </tr>\n",
       "    <tr>\n",
       "      <th>2561</th>\n",
       "      <td>2015-01-03</td>\n",
       "      <td>S1F0RRB1</td>\n",
       "      <td>0</td>\n",
       "      <td>26258330</td>\n",
       "      <td>64776</td>\n",
       "      <td>0</td>\n",
       "      <td>135</td>\n",
       "      <td>8</td>\n",
       "      <td>39267</td>\n",
       "      <td>56</td>\n",
       "      <td>56</td>\n",
       "      <td>1</td>\n",
       "      <td>1.0</td>\n",
       "    </tr>\n",
       "    <tr>\n",
       "      <th>3724</th>\n",
       "      <td>2015-01-04</td>\n",
       "      <td>S1F0RRB1</td>\n",
       "      <td>0</td>\n",
       "      <td>37985862</td>\n",
       "      <td>64776</td>\n",
       "      <td>0</td>\n",
       "      <td>763</td>\n",
       "      <td>8</td>\n",
       "      <td>39267</td>\n",
       "      <td>56</td>\n",
       "      <td>56</td>\n",
       "      <td>1</td>\n",
       "      <td>1.0</td>\n",
       "    </tr>\n",
       "    <tr>\n",
       "      <th>4885</th>\n",
       "      <td>2015-01-05</td>\n",
       "      <td>S1F0RRB1</td>\n",
       "      <td>1</td>\n",
       "      <td>48467332</td>\n",
       "      <td>64776</td>\n",
       "      <td>0</td>\n",
       "      <td>841</td>\n",
       "      <td>8</td>\n",
       "      <td>39267</td>\n",
       "      <td>56</td>\n",
       "      <td>56</td>\n",
       "      <td>1</td>\n",
       "      <td>1.0</td>\n",
       "    </tr>\n",
       "  </tbody>\n",
       "</table>\n",
       "</div>"
      ],
      "text/plain": [
       "           date    device  failure  attribute1  attribute2  attribute3  \\\n",
       "235  2015-01-01  S1F0RRB1        0     5230888        2288           0   \n",
       "1398 2015-01-02  S1F0RRB1        0    13307628       64776           0   \n",
       "2561 2015-01-03  S1F0RRB1        0    26258330       64776           0   \n",
       "3724 2015-01-04  S1F0RRB1        0    37985862       64776           0   \n",
       "4885 2015-01-05  S1F0RRB1        1    48467332       64776           0   \n",
       "\n",
       "      attribute4  attribute5  attribute6  attribute7  attribute8  attribute9  \\\n",
       "235           37           8       39267          24          24           1   \n",
       "1398          49           8       39267          56          56           1   \n",
       "2561         135           8       39267          56          56           1   \n",
       "3724         763           8       39267          56          56           1   \n",
       "4885         841           8       39267          56          56           1   \n",
       "\n",
       "      tag  \n",
       "235   1.0  \n",
       "1398  1.0  \n",
       "2561  1.0  \n",
       "3724  1.0  \n",
       "4885  1.0  "
      ]
     },
     "execution_count": 59,
     "metadata": {},
     "output_type": "execute_result"
    }
   ],
   "source": [
    "failures[failures.device == \"S1F0RRB1\"]"
   ]
  },
  {
   "cell_type": "markdown",
   "metadata": {},
   "source": [
    "We do not have a regular pattern over a date range, failures can happen at week 2 or any other week. We cannot take this problem with a time series perspective since it'll have the property that predictions will be based on a window with only a week maybe two as history and the need to drop observations."
   ]
  },
  {
   "cell_type": "markdown",
   "metadata": {},
   "source": [
    "As a first conclusion, we have to treat this problem as a supervised machine learning problem, in particular a binary classification task on the target variable 'failure'."
   ]
  },
  {
   "cell_type": "markdown",
   "metadata": {},
   "source": [
    "# Data Processing and Feature selection"
   ]
  },
  {
   "cell_type": "code",
   "execution_count": 12,
   "metadata": {},
   "outputs": [],
   "source": [
    "process_cols = ['attribute1', 'attribute2', 'attribute3',\n",
    "       'attribute4', 'attribute5', 'attribute6', 'attribute7', 'attribute8','attribute9']"
   ]
  },
  {
   "cell_type": "code",
   "execution_count": 13,
   "metadata": {},
   "outputs": [
    {
     "data": {
      "text/html": [
       "<div>\n",
       "<style scoped>\n",
       "    .dataframe tbody tr th:only-of-type {\n",
       "        vertical-align: middle;\n",
       "    }\n",
       "\n",
       "    .dataframe tbody tr th {\n",
       "        vertical-align: top;\n",
       "    }\n",
       "\n",
       "    .dataframe thead th {\n",
       "        text-align: right;\n",
       "    }\n",
       "</style>\n",
       "<table border=\"1\" class=\"dataframe\">\n",
       "  <thead>\n",
       "    <tr style=\"text-align: right;\">\n",
       "      <th></th>\n",
       "      <th>attribute1</th>\n",
       "      <th>attribute2</th>\n",
       "      <th>attribute3</th>\n",
       "      <th>attribute4</th>\n",
       "      <th>attribute5</th>\n",
       "      <th>attribute6</th>\n",
       "      <th>attribute7</th>\n",
       "      <th>attribute8</th>\n",
       "      <th>attribute9</th>\n",
       "    </tr>\n",
       "  </thead>\n",
       "  <tbody>\n",
       "    <tr>\n",
       "      <th>count</th>\n",
       "      <td>1.244940e+05</td>\n",
       "      <td>124494.000000</td>\n",
       "      <td>124494.000000</td>\n",
       "      <td>124494.000000</td>\n",
       "      <td>124494.000000</td>\n",
       "      <td>124494.000000</td>\n",
       "      <td>124494.000000</td>\n",
       "      <td>124494.000000</td>\n",
       "      <td>124494.000000</td>\n",
       "    </tr>\n",
       "    <tr>\n",
       "      <th>mean</th>\n",
       "      <td>1.223881e+08</td>\n",
       "      <td>159.484762</td>\n",
       "      <td>9.940455</td>\n",
       "      <td>1.741120</td>\n",
       "      <td>14.222669</td>\n",
       "      <td>260172.657726</td>\n",
       "      <td>0.292528</td>\n",
       "      <td>0.292528</td>\n",
       "      <td>12.451524</td>\n",
       "    </tr>\n",
       "    <tr>\n",
       "      <th>std</th>\n",
       "      <td>7.045933e+07</td>\n",
       "      <td>2179.657730</td>\n",
       "      <td>185.747321</td>\n",
       "      <td>22.908507</td>\n",
       "      <td>15.943028</td>\n",
       "      <td>99151.078547</td>\n",
       "      <td>7.436924</td>\n",
       "      <td>7.436924</td>\n",
       "      <td>191.425623</td>\n",
       "    </tr>\n",
       "    <tr>\n",
       "      <th>min</th>\n",
       "      <td>0.000000e+00</td>\n",
       "      <td>0.000000</td>\n",
       "      <td>0.000000</td>\n",
       "      <td>0.000000</td>\n",
       "      <td>1.000000</td>\n",
       "      <td>8.000000</td>\n",
       "      <td>0.000000</td>\n",
       "      <td>0.000000</td>\n",
       "      <td>0.000000</td>\n",
       "    </tr>\n",
       "    <tr>\n",
       "      <th>25%</th>\n",
       "      <td>6.128476e+07</td>\n",
       "      <td>0.000000</td>\n",
       "      <td>0.000000</td>\n",
       "      <td>0.000000</td>\n",
       "      <td>8.000000</td>\n",
       "      <td>221452.000000</td>\n",
       "      <td>0.000000</td>\n",
       "      <td>0.000000</td>\n",
       "      <td>0.000000</td>\n",
       "    </tr>\n",
       "    <tr>\n",
       "      <th>50%</th>\n",
       "      <td>1.227974e+08</td>\n",
       "      <td>0.000000</td>\n",
       "      <td>0.000000</td>\n",
       "      <td>0.000000</td>\n",
       "      <td>10.000000</td>\n",
       "      <td>249799.500000</td>\n",
       "      <td>0.000000</td>\n",
       "      <td>0.000000</td>\n",
       "      <td>0.000000</td>\n",
       "    </tr>\n",
       "    <tr>\n",
       "      <th>75%</th>\n",
       "      <td>1.833096e+08</td>\n",
       "      <td>0.000000</td>\n",
       "      <td>0.000000</td>\n",
       "      <td>0.000000</td>\n",
       "      <td>12.000000</td>\n",
       "      <td>310266.000000</td>\n",
       "      <td>0.000000</td>\n",
       "      <td>0.000000</td>\n",
       "      <td>0.000000</td>\n",
       "    </tr>\n",
       "    <tr>\n",
       "      <th>max</th>\n",
       "      <td>2.441405e+08</td>\n",
       "      <td>64968.000000</td>\n",
       "      <td>24929.000000</td>\n",
       "      <td>1666.000000</td>\n",
       "      <td>98.000000</td>\n",
       "      <td>689161.000000</td>\n",
       "      <td>832.000000</td>\n",
       "      <td>832.000000</td>\n",
       "      <td>18701.000000</td>\n",
       "    </tr>\n",
       "  </tbody>\n",
       "</table>\n",
       "</div>"
      ],
      "text/plain": [
       "         attribute1     attribute2     attribute3     attribute4  \\\n",
       "count  1.244940e+05  124494.000000  124494.000000  124494.000000   \n",
       "mean   1.223881e+08     159.484762       9.940455       1.741120   \n",
       "std    7.045933e+07    2179.657730     185.747321      22.908507   \n",
       "min    0.000000e+00       0.000000       0.000000       0.000000   \n",
       "25%    6.128476e+07       0.000000       0.000000       0.000000   \n",
       "50%    1.227974e+08       0.000000       0.000000       0.000000   \n",
       "75%    1.833096e+08       0.000000       0.000000       0.000000   \n",
       "max    2.441405e+08   64968.000000   24929.000000    1666.000000   \n",
       "\n",
       "          attribute5     attribute6     attribute7     attribute8  \\\n",
       "count  124494.000000  124494.000000  124494.000000  124494.000000   \n",
       "mean       14.222669  260172.657726       0.292528       0.292528   \n",
       "std        15.943028   99151.078547       7.436924       7.436924   \n",
       "min         1.000000       8.000000       0.000000       0.000000   \n",
       "25%         8.000000  221452.000000       0.000000       0.000000   \n",
       "50%        10.000000  249799.500000       0.000000       0.000000   \n",
       "75%        12.000000  310266.000000       0.000000       0.000000   \n",
       "max        98.000000  689161.000000     832.000000     832.000000   \n",
       "\n",
       "          attribute9  \n",
       "count  124494.000000  \n",
       "mean       12.451524  \n",
       "std       191.425623  \n",
       "min         0.000000  \n",
       "25%         0.000000  \n",
       "50%         0.000000  \n",
       "75%         0.000000  \n",
       "max     18701.000000  "
      ]
     },
     "execution_count": 13,
     "metadata": {},
     "output_type": "execute_result"
    }
   ],
   "source": [
    "# A descriptive analysis will help to understand relation between variables\n",
    "# \n",
    "devices[process_cols].describe()"
   ]
  },
  {
   "cell_type": "code",
   "execution_count": 64,
   "metadata": {},
   "outputs": [],
   "source": [
    "## It seems we have two very similar variables: attribute7 and attribute8"
   ]
  },
  {
   "cell_type": "code",
   "execution_count": 15,
   "metadata": {},
   "outputs": [
    {
     "data": {
      "text/html": [
       "<style  type=\"text/css\" >\n",
       "    #T_14c11072_be5c_11ea_a6ee_9cb6d0e02a1frow0_col0 {\n",
       "            background-color:  #b40426;\n",
       "            color:  #f1f1f1;\n",
       "        }    #T_14c11072_be5c_11ea_a6ee_9cb6d0e02a1frow0_col1 {\n",
       "            background-color:  #4055c8;\n",
       "            color:  #f1f1f1;\n",
       "        }    #T_14c11072_be5c_11ea_a6ee_9cb6d0e02a1frow0_col2 {\n",
       "            background-color:  #3d50c3;\n",
       "            color:  #f1f1f1;\n",
       "        }    #T_14c11072_be5c_11ea_a6ee_9cb6d0e02a1frow0_col3 {\n",
       "            background-color:  #3d50c3;\n",
       "            color:  #f1f1f1;\n",
       "        }    #T_14c11072_be5c_11ea_a6ee_9cb6d0e02a1frow0_col4 {\n",
       "            background-color:  #3e51c5;\n",
       "            color:  #f1f1f1;\n",
       "        }    #T_14c11072_be5c_11ea_a6ee_9cb6d0e02a1frow0_col5 {\n",
       "            background-color:  #4257c9;\n",
       "            color:  #f1f1f1;\n",
       "        }    #T_14c11072_be5c_11ea_a6ee_9cb6d0e02a1frow0_col6 {\n",
       "            background-color:  #3e51c5;\n",
       "            color:  #f1f1f1;\n",
       "        }    #T_14c11072_be5c_11ea_a6ee_9cb6d0e02a1frow0_col7 {\n",
       "            background-color:  #3e51c5;\n",
       "            color:  #f1f1f1;\n",
       "        }    #T_14c11072_be5c_11ea_a6ee_9cb6d0e02a1frow0_col8 {\n",
       "            background-color:  #3b4cc0;\n",
       "            color:  #f1f1f1;\n",
       "        }    #T_14c11072_be5c_11ea_a6ee_9cb6d0e02a1frow1_col0 {\n",
       "            background-color:  #3b4cc0;\n",
       "            color:  #f1f1f1;\n",
       "        }    #T_14c11072_be5c_11ea_a6ee_9cb6d0e02a1frow1_col1 {\n",
       "            background-color:  #b40426;\n",
       "            color:  #f1f1f1;\n",
       "        }    #T_14c11072_be5c_11ea_a6ee_9cb6d0e02a1frow1_col2 {\n",
       "            background-color:  #3c4ec2;\n",
       "            color:  #f1f1f1;\n",
       "        }    #T_14c11072_be5c_11ea_a6ee_9cb6d0e02a1frow1_col3 {\n",
       "            background-color:  #6b8df0;\n",
       "            color:  #000000;\n",
       "        }    #T_14c11072_be5c_11ea_a6ee_9cb6d0e02a1frow1_col4 {\n",
       "            background-color:  #3b4cc0;\n",
       "            color:  #f1f1f1;\n",
       "        }    #T_14c11072_be5c_11ea_a6ee_9cb6d0e02a1frow1_col5 {\n",
       "            background-color:  #3b4cc0;\n",
       "            color:  #f1f1f1;\n",
       "        }    #T_14c11072_be5c_11ea_a6ee_9cb6d0e02a1frow1_col6 {\n",
       "            background-color:  #6a8bef;\n",
       "            color:  #000000;\n",
       "        }    #T_14c11072_be5c_11ea_a6ee_9cb6d0e02a1frow1_col7 {\n",
       "            background-color:  #6a8bef;\n",
       "            color:  #000000;\n",
       "        }    #T_14c11072_be5c_11ea_a6ee_9cb6d0e02a1frow1_col8 {\n",
       "            background-color:  #3b4cc0;\n",
       "            color:  #f1f1f1;\n",
       "        }    #T_14c11072_be5c_11ea_a6ee_9cb6d0e02a1frow2_col0 {\n",
       "            background-color:  #3d50c3;\n",
       "            color:  #f1f1f1;\n",
       "        }    #T_14c11072_be5c_11ea_a6ee_9cb6d0e02a1frow2_col1 {\n",
       "            background-color:  #4055c8;\n",
       "            color:  #f1f1f1;\n",
       "        }    #T_14c11072_be5c_11ea_a6ee_9cb6d0e02a1frow2_col2 {\n",
       "            background-color:  #b40426;\n",
       "            color:  #f1f1f1;\n",
       "        }    #T_14c11072_be5c_11ea_a6ee_9cb6d0e02a1frow2_col3 {\n",
       "            background-color:  #5b7ae5;\n",
       "            color:  #000000;\n",
       "        }    #T_14c11072_be5c_11ea_a6ee_9cb6d0e02a1frow2_col4 {\n",
       "            background-color:  #3d50c3;\n",
       "            color:  #f1f1f1;\n",
       "        }    #T_14c11072_be5c_11ea_a6ee_9cb6d0e02a1frow2_col5 {\n",
       "            background-color:  #445acc;\n",
       "            color:  #f1f1f1;\n",
       "        }    #T_14c11072_be5c_11ea_a6ee_9cb6d0e02a1frow2_col6 {\n",
       "            background-color:  #3d50c3;\n",
       "            color:  #f1f1f1;\n",
       "        }    #T_14c11072_be5c_11ea_a6ee_9cb6d0e02a1frow2_col7 {\n",
       "            background-color:  #3d50c3;\n",
       "            color:  #f1f1f1;\n",
       "        }    #T_14c11072_be5c_11ea_a6ee_9cb6d0e02a1frow2_col8 {\n",
       "            background-color:  #e5d8d1;\n",
       "            color:  #000000;\n",
       "        }    #T_14c11072_be5c_11ea_a6ee_9cb6d0e02a1frow3_col0 {\n",
       "            background-color:  #3c4ec2;\n",
       "            color:  #f1f1f1;\n",
       "        }    #T_14c11072_be5c_11ea_a6ee_9cb6d0e02a1frow3_col1 {\n",
       "            background-color:  #7093f3;\n",
       "            color:  #000000;\n",
       "        }    #T_14c11072_be5c_11ea_a6ee_9cb6d0e02a1frow3_col2 {\n",
       "            background-color:  #5a78e4;\n",
       "            color:  #000000;\n",
       "        }    #T_14c11072_be5c_11ea_a6ee_9cb6d0e02a1frow3_col3 {\n",
       "            background-color:  #b40426;\n",
       "            color:  #f1f1f1;\n",
       "        }    #T_14c11072_be5c_11ea_a6ee_9cb6d0e02a1frow3_col4 {\n",
       "            background-color:  #3c4ec2;\n",
       "            color:  #f1f1f1;\n",
       "        }    #T_14c11072_be5c_11ea_a6ee_9cb6d0e02a1frow3_col5 {\n",
       "            background-color:  #4961d2;\n",
       "            color:  #f1f1f1;\n",
       "        }    #T_14c11072_be5c_11ea_a6ee_9cb6d0e02a1frow3_col6 {\n",
       "            background-color:  #4b64d5;\n",
       "            color:  #f1f1f1;\n",
       "        }    #T_14c11072_be5c_11ea_a6ee_9cb6d0e02a1frow3_col7 {\n",
       "            background-color:  #4b64d5;\n",
       "            color:  #f1f1f1;\n",
       "        }    #T_14c11072_be5c_11ea_a6ee_9cb6d0e02a1frow3_col8 {\n",
       "            background-color:  #455cce;\n",
       "            color:  #f1f1f1;\n",
       "        }    #T_14c11072_be5c_11ea_a6ee_9cb6d0e02a1frow4_col0 {\n",
       "            background-color:  #3b4cc0;\n",
       "            color:  #f1f1f1;\n",
       "        }    #T_14c11072_be5c_11ea_a6ee_9cb6d0e02a1frow4_col1 {\n",
       "            background-color:  #3e51c5;\n",
       "            color:  #f1f1f1;\n",
       "        }    #T_14c11072_be5c_11ea_a6ee_9cb6d0e02a1frow4_col2 {\n",
       "            background-color:  #3b4cc0;\n",
       "            color:  #f1f1f1;\n",
       "        }    #T_14c11072_be5c_11ea_a6ee_9cb6d0e02a1frow4_col3 {\n",
       "            background-color:  #3b4cc0;\n",
       "            color:  #f1f1f1;\n",
       "        }    #T_14c11072_be5c_11ea_a6ee_9cb6d0e02a1frow4_col4 {\n",
       "            background-color:  #b40426;\n",
       "            color:  #f1f1f1;\n",
       "        }    #T_14c11072_be5c_11ea_a6ee_9cb6d0e02a1frow4_col5 {\n",
       "            background-color:  #3d50c3;\n",
       "            color:  #f1f1f1;\n",
       "        }    #T_14c11072_be5c_11ea_a6ee_9cb6d0e02a1frow4_col6 {\n",
       "            background-color:  #3b4cc0;\n",
       "            color:  #f1f1f1;\n",
       "        }    #T_14c11072_be5c_11ea_a6ee_9cb6d0e02a1frow4_col7 {\n",
       "            background-color:  #3b4cc0;\n",
       "            color:  #f1f1f1;\n",
       "        }    #T_14c11072_be5c_11ea_a6ee_9cb6d0e02a1frow4_col8 {\n",
       "            background-color:  #3d50c3;\n",
       "            color:  #f1f1f1;\n",
       "        }    #T_14c11072_be5c_11ea_a6ee_9cb6d0e02a1frow5_col0 {\n",
       "            background-color:  #3b4cc0;\n",
       "            color:  #f1f1f1;\n",
       "        }    #T_14c11072_be5c_11ea_a6ee_9cb6d0e02a1frow5_col1 {\n",
       "            background-color:  #3b4cc0;\n",
       "            color:  #f1f1f1;\n",
       "        }    #T_14c11072_be5c_11ea_a6ee_9cb6d0e02a1frow5_col2 {\n",
       "            background-color:  #3e51c5;\n",
       "            color:  #f1f1f1;\n",
       "        }    #T_14c11072_be5c_11ea_a6ee_9cb6d0e02a1frow5_col3 {\n",
       "            background-color:  #445acc;\n",
       "            color:  #f1f1f1;\n",
       "        }    #T_14c11072_be5c_11ea_a6ee_9cb6d0e02a1frow5_col4 {\n",
       "            background-color:  #3b4cc0;\n",
       "            color:  #f1f1f1;\n",
       "        }    #T_14c11072_be5c_11ea_a6ee_9cb6d0e02a1frow5_col5 {\n",
       "            background-color:  #b40426;\n",
       "            color:  #f1f1f1;\n",
       "        }    #T_14c11072_be5c_11ea_a6ee_9cb6d0e02a1frow5_col6 {\n",
       "            background-color:  #3b4cc0;\n",
       "            color:  #f1f1f1;\n",
       "        }    #T_14c11072_be5c_11ea_a6ee_9cb6d0e02a1frow5_col7 {\n",
       "            background-color:  #3b4cc0;\n",
       "            color:  #f1f1f1;\n",
       "        }    #T_14c11072_be5c_11ea_a6ee_9cb6d0e02a1frow5_col8 {\n",
       "            background-color:  #4257c9;\n",
       "            color:  #f1f1f1;\n",
       "        }    #T_14c11072_be5c_11ea_a6ee_9cb6d0e02a1frow6_col0 {\n",
       "            background-color:  #3c4ec2;\n",
       "            color:  #f1f1f1;\n",
       "        }    #T_14c11072_be5c_11ea_a6ee_9cb6d0e02a1frow6_col1 {\n",
       "            background-color:  #6e90f2;\n",
       "            color:  #000000;\n",
       "        }    #T_14c11072_be5c_11ea_a6ee_9cb6d0e02a1frow6_col2 {\n",
       "            background-color:  #3c4ec2;\n",
       "            color:  #f1f1f1;\n",
       "        }    #T_14c11072_be5c_11ea_a6ee_9cb6d0e02a1frow6_col3 {\n",
       "            background-color:  #4b64d5;\n",
       "            color:  #f1f1f1;\n",
       "        }    #T_14c11072_be5c_11ea_a6ee_9cb6d0e02a1frow6_col4 {\n",
       "            background-color:  #3c4ec2;\n",
       "            color:  #f1f1f1;\n",
       "        }    #T_14c11072_be5c_11ea_a6ee_9cb6d0e02a1frow6_col5 {\n",
       "            background-color:  #3e51c5;\n",
       "            color:  #f1f1f1;\n",
       "        }    #T_14c11072_be5c_11ea_a6ee_9cb6d0e02a1frow6_col6 {\n",
       "            background-color:  #b40426;\n",
       "            color:  #f1f1f1;\n",
       "        }    #T_14c11072_be5c_11ea_a6ee_9cb6d0e02a1frow6_col7 {\n",
       "            background-color:  #b40426;\n",
       "            color:  #f1f1f1;\n",
       "        }    #T_14c11072_be5c_11ea_a6ee_9cb6d0e02a1frow6_col8 {\n",
       "            background-color:  #3d50c3;\n",
       "            color:  #f1f1f1;\n",
       "        }    #T_14c11072_be5c_11ea_a6ee_9cb6d0e02a1frow7_col0 {\n",
       "            background-color:  #3c4ec2;\n",
       "            color:  #f1f1f1;\n",
       "        }    #T_14c11072_be5c_11ea_a6ee_9cb6d0e02a1frow7_col1 {\n",
       "            background-color:  #6e90f2;\n",
       "            color:  #000000;\n",
       "        }    #T_14c11072_be5c_11ea_a6ee_9cb6d0e02a1frow7_col2 {\n",
       "            background-color:  #3c4ec2;\n",
       "            color:  #f1f1f1;\n",
       "        }    #T_14c11072_be5c_11ea_a6ee_9cb6d0e02a1frow7_col3 {\n",
       "            background-color:  #4b64d5;\n",
       "            color:  #f1f1f1;\n",
       "        }    #T_14c11072_be5c_11ea_a6ee_9cb6d0e02a1frow7_col4 {\n",
       "            background-color:  #3c4ec2;\n",
       "            color:  #f1f1f1;\n",
       "        }    #T_14c11072_be5c_11ea_a6ee_9cb6d0e02a1frow7_col5 {\n",
       "            background-color:  #3e51c5;\n",
       "            color:  #f1f1f1;\n",
       "        }    #T_14c11072_be5c_11ea_a6ee_9cb6d0e02a1frow7_col6 {\n",
       "            background-color:  #b40426;\n",
       "            color:  #f1f1f1;\n",
       "        }    #T_14c11072_be5c_11ea_a6ee_9cb6d0e02a1frow7_col7 {\n",
       "            background-color:  #b40426;\n",
       "            color:  #f1f1f1;\n",
       "        }    #T_14c11072_be5c_11ea_a6ee_9cb6d0e02a1frow7_col8 {\n",
       "            background-color:  #3d50c3;\n",
       "            color:  #f1f1f1;\n",
       "        }    #T_14c11072_be5c_11ea_a6ee_9cb6d0e02a1frow8_col0 {\n",
       "            background-color:  #3c4ec2;\n",
       "            color:  #f1f1f1;\n",
       "        }    #T_14c11072_be5c_11ea_a6ee_9cb6d0e02a1frow8_col1 {\n",
       "            background-color:  #4055c8;\n",
       "            color:  #f1f1f1;\n",
       "        }    #T_14c11072_be5c_11ea_a6ee_9cb6d0e02a1frow8_col2 {\n",
       "            background-color:  #e6d7cf;\n",
       "            color:  #000000;\n",
       "        }    #T_14c11072_be5c_11ea_a6ee_9cb6d0e02a1frow8_col3 {\n",
       "            background-color:  #485fd1;\n",
       "            color:  #f1f1f1;\n",
       "        }    #T_14c11072_be5c_11ea_a6ee_9cb6d0e02a1frow8_col4 {\n",
       "            background-color:  #4055c8;\n",
       "            color:  #f1f1f1;\n",
       "        }    #T_14c11072_be5c_11ea_a6ee_9cb6d0e02a1frow8_col5 {\n",
       "            background-color:  #485fd1;\n",
       "            color:  #f1f1f1;\n",
       "        }    #T_14c11072_be5c_11ea_a6ee_9cb6d0e02a1frow8_col6 {\n",
       "            background-color:  #3f53c6;\n",
       "            color:  #f1f1f1;\n",
       "        }    #T_14c11072_be5c_11ea_a6ee_9cb6d0e02a1frow8_col7 {\n",
       "            background-color:  #3f53c6;\n",
       "            color:  #f1f1f1;\n",
       "        }    #T_14c11072_be5c_11ea_a6ee_9cb6d0e02a1frow8_col8 {\n",
       "            background-color:  #b40426;\n",
       "            color:  #f1f1f1;\n",
       "        }</style><table id=\"T_14c11072_be5c_11ea_a6ee_9cb6d0e02a1f\" ><thead>    <tr>        <th class=\"blank level0\" ></th>        <th class=\"col_heading level0 col0\" >attribute1</th>        <th class=\"col_heading level0 col1\" >attribute2</th>        <th class=\"col_heading level0 col2\" >attribute3</th>        <th class=\"col_heading level0 col3\" >attribute4</th>        <th class=\"col_heading level0 col4\" >attribute5</th>        <th class=\"col_heading level0 col5\" >attribute6</th>        <th class=\"col_heading level0 col6\" >attribute7</th>        <th class=\"col_heading level0 col7\" >attribute8</th>        <th class=\"col_heading level0 col8\" >attribute9</th>    </tr></thead><tbody>\n",
       "                <tr>\n",
       "                        <th id=\"T_14c11072_be5c_11ea_a6ee_9cb6d0e02a1flevel0_row0\" class=\"row_heading level0 row0\" >attribute1</th>\n",
       "                        <td id=\"T_14c11072_be5c_11ea_a6ee_9cb6d0e02a1frow0_col0\" class=\"data row0 col0\" >1.000</td>\n",
       "                        <td id=\"T_14c11072_be5c_11ea_a6ee_9cb6d0e02a1frow0_col1\" class=\"data row0 col1\" >-0.004</td>\n",
       "                        <td id=\"T_14c11072_be5c_11ea_a6ee_9cb6d0e02a1frow0_col2\" class=\"data row0 col2\" >0.004</td>\n",
       "                        <td id=\"T_14c11072_be5c_11ea_a6ee_9cb6d0e02a1frow0_col3\" class=\"data row0 col3\" >0.002</td>\n",
       "                        <td id=\"T_14c11072_be5c_11ea_a6ee_9cb6d0e02a1frow0_col4\" class=\"data row0 col4\" >-0.003</td>\n",
       "                        <td id=\"T_14c11072_be5c_11ea_a6ee_9cb6d0e02a1frow0_col5\" class=\"data row0 col5\" >-0.002</td>\n",
       "                        <td id=\"T_14c11072_be5c_11ea_a6ee_9cb6d0e02a1frow0_col6\" class=\"data row0 col6\" >0.000</td>\n",
       "                        <td id=\"T_14c11072_be5c_11ea_a6ee_9cb6d0e02a1frow0_col7\" class=\"data row0 col7\" >0.000</td>\n",
       "                        <td id=\"T_14c11072_be5c_11ea_a6ee_9cb6d0e02a1frow0_col8\" class=\"data row0 col8\" >0.001</td>\n",
       "            </tr>\n",
       "            <tr>\n",
       "                        <th id=\"T_14c11072_be5c_11ea_a6ee_9cb6d0e02a1flevel0_row1\" class=\"row_heading level0 row1\" >attribute2</th>\n",
       "                        <td id=\"T_14c11072_be5c_11ea_a6ee_9cb6d0e02a1frow1_col0\" class=\"data row1 col0\" >-0.004</td>\n",
       "                        <td id=\"T_14c11072_be5c_11ea_a6ee_9cb6d0e02a1frow1_col1\" class=\"data row1 col1\" >1.000</td>\n",
       "                        <td id=\"T_14c11072_be5c_11ea_a6ee_9cb6d0e02a1frow1_col2\" class=\"data row1 col2\" >-0.003</td>\n",
       "                        <td id=\"T_14c11072_be5c_11ea_a6ee_9cb6d0e02a1frow1_col3\" class=\"data row1 col3\" >0.147</td>\n",
       "                        <td id=\"T_14c11072_be5c_11ea_a6ee_9cb6d0e02a1frow1_col4\" class=\"data row1 col4\" >-0.014</td>\n",
       "                        <td id=\"T_14c11072_be5c_11ea_a6ee_9cb6d0e02a1frow1_col5\" class=\"data row1 col5\" >-0.026</td>\n",
       "                        <td id=\"T_14c11072_be5c_11ea_a6ee_9cb6d0e02a1frow1_col6\" class=\"data row1 col6\" >0.141</td>\n",
       "                        <td id=\"T_14c11072_be5c_11ea_a6ee_9cb6d0e02a1frow1_col7\" class=\"data row1 col7\" >0.141</td>\n",
       "                        <td id=\"T_14c11072_be5c_11ea_a6ee_9cb6d0e02a1frow1_col8\" class=\"data row1 col8\" >-0.003</td>\n",
       "            </tr>\n",
       "            <tr>\n",
       "                        <th id=\"T_14c11072_be5c_11ea_a6ee_9cb6d0e02a1flevel0_row2\" class=\"row_heading level0 row2\" >attribute3</th>\n",
       "                        <td id=\"T_14c11072_be5c_11ea_a6ee_9cb6d0e02a1frow2_col0\" class=\"data row2 col0\" >0.004</td>\n",
       "                        <td id=\"T_14c11072_be5c_11ea_a6ee_9cb6d0e02a1frow2_col1\" class=\"data row2 col1\" >-0.003</td>\n",
       "                        <td id=\"T_14c11072_be5c_11ea_a6ee_9cb6d0e02a1frow2_col2\" class=\"data row2 col2\" >1.000</td>\n",
       "                        <td id=\"T_14c11072_be5c_11ea_a6ee_9cb6d0e02a1frow2_col3\" class=\"data row2 col3\" >0.097</td>\n",
       "                        <td id=\"T_14c11072_be5c_11ea_a6ee_9cb6d0e02a1frow2_col4\" class=\"data row2 col4\" >-0.007</td>\n",
       "                        <td id=\"T_14c11072_be5c_11ea_a6ee_9cb6d0e02a1frow2_col5\" class=\"data row2 col5\" >0.009</td>\n",
       "                        <td id=\"T_14c11072_be5c_11ea_a6ee_9cb6d0e02a1frow2_col6\" class=\"data row2 col6\" >-0.002</td>\n",
       "                        <td id=\"T_14c11072_be5c_11ea_a6ee_9cb6d0e02a1frow2_col7\" class=\"data row2 col7\" >-0.002</td>\n",
       "                        <td id=\"T_14c11072_be5c_11ea_a6ee_9cb6d0e02a1frow2_col8\" class=\"data row2 col8\" >0.532</td>\n",
       "            </tr>\n",
       "            <tr>\n",
       "                        <th id=\"T_14c11072_be5c_11ea_a6ee_9cb6d0e02a1flevel0_row3\" class=\"row_heading level0 row3\" >attribute4</th>\n",
       "                        <td id=\"T_14c11072_be5c_11ea_a6ee_9cb6d0e02a1frow3_col0\" class=\"data row3 col0\" >0.002</td>\n",
       "                        <td id=\"T_14c11072_be5c_11ea_a6ee_9cb6d0e02a1frow3_col1\" class=\"data row3 col1\" >0.147</td>\n",
       "                        <td id=\"T_14c11072_be5c_11ea_a6ee_9cb6d0e02a1frow3_col2\" class=\"data row3 col2\" >0.097</td>\n",
       "                        <td id=\"T_14c11072_be5c_11ea_a6ee_9cb6d0e02a1frow3_col3\" class=\"data row3 col3\" >1.000</td>\n",
       "                        <td id=\"T_14c11072_be5c_11ea_a6ee_9cb6d0e02a1frow3_col4\" class=\"data row3 col4\" >-0.010</td>\n",
       "                        <td id=\"T_14c11072_be5c_11ea_a6ee_9cb6d0e02a1frow3_col5\" class=\"data row3 col5\" >0.025</td>\n",
       "                        <td id=\"T_14c11072_be5c_11ea_a6ee_9cb6d0e02a1frow3_col6\" class=\"data row3 col6\" >0.046</td>\n",
       "                        <td id=\"T_14c11072_be5c_11ea_a6ee_9cb6d0e02a1frow3_col7\" class=\"data row3 col7\" >0.046</td>\n",
       "                        <td id=\"T_14c11072_be5c_11ea_a6ee_9cb6d0e02a1frow3_col8\" class=\"data row3 col8\" >0.036</td>\n",
       "            </tr>\n",
       "            <tr>\n",
       "                        <th id=\"T_14c11072_be5c_11ea_a6ee_9cb6d0e02a1flevel0_row4\" class=\"row_heading level0 row4\" >attribute5</th>\n",
       "                        <td id=\"T_14c11072_be5c_11ea_a6ee_9cb6d0e02a1frow4_col0\" class=\"data row4 col0\" >-0.003</td>\n",
       "                        <td id=\"T_14c11072_be5c_11ea_a6ee_9cb6d0e02a1frow4_col1\" class=\"data row4 col1\" >-0.014</td>\n",
       "                        <td id=\"T_14c11072_be5c_11ea_a6ee_9cb6d0e02a1frow4_col2\" class=\"data row4 col2\" >-0.007</td>\n",
       "                        <td id=\"T_14c11072_be5c_11ea_a6ee_9cb6d0e02a1frow4_col3\" class=\"data row4 col3\" >-0.010</td>\n",
       "                        <td id=\"T_14c11072_be5c_11ea_a6ee_9cb6d0e02a1frow4_col4\" class=\"data row4 col4\" >1.000</td>\n",
       "                        <td id=\"T_14c11072_be5c_11ea_a6ee_9cb6d0e02a1frow4_col5\" class=\"data row4 col5\" >-0.017</td>\n",
       "                        <td id=\"T_14c11072_be5c_11ea_a6ee_9cb6d0e02a1frow4_col6\" class=\"data row4 col6\" >-0.009</td>\n",
       "                        <td id=\"T_14c11072_be5c_11ea_a6ee_9cb6d0e02a1frow4_col7\" class=\"data row4 col7\" >-0.009</td>\n",
       "                        <td id=\"T_14c11072_be5c_11ea_a6ee_9cb6d0e02a1frow4_col8\" class=\"data row4 col8\" >0.006</td>\n",
       "            </tr>\n",
       "            <tr>\n",
       "                        <th id=\"T_14c11072_be5c_11ea_a6ee_9cb6d0e02a1flevel0_row5\" class=\"row_heading level0 row5\" >attribute6</th>\n",
       "                        <td id=\"T_14c11072_be5c_11ea_a6ee_9cb6d0e02a1frow5_col0\" class=\"data row5 col0\" >-0.002</td>\n",
       "                        <td id=\"T_14c11072_be5c_11ea_a6ee_9cb6d0e02a1frow5_col1\" class=\"data row5 col1\" >-0.026</td>\n",
       "                        <td id=\"T_14c11072_be5c_11ea_a6ee_9cb6d0e02a1frow5_col2\" class=\"data row5 col2\" >0.009</td>\n",
       "                        <td id=\"T_14c11072_be5c_11ea_a6ee_9cb6d0e02a1frow5_col3\" class=\"data row5 col3\" >0.025</td>\n",
       "                        <td id=\"T_14c11072_be5c_11ea_a6ee_9cb6d0e02a1frow5_col4\" class=\"data row5 col4\" >-0.017</td>\n",
       "                        <td id=\"T_14c11072_be5c_11ea_a6ee_9cb6d0e02a1frow5_col5\" class=\"data row5 col5\" >1.000</td>\n",
       "                        <td id=\"T_14c11072_be5c_11ea_a6ee_9cb6d0e02a1frow5_col6\" class=\"data row5 col6\" >-0.012</td>\n",
       "                        <td id=\"T_14c11072_be5c_11ea_a6ee_9cb6d0e02a1frow5_col7\" class=\"data row5 col7\" >-0.012</td>\n",
       "                        <td id=\"T_14c11072_be5c_11ea_a6ee_9cb6d0e02a1frow5_col8\" class=\"data row5 col8\" >0.021</td>\n",
       "            </tr>\n",
       "            <tr>\n",
       "                        <th id=\"T_14c11072_be5c_11ea_a6ee_9cb6d0e02a1flevel0_row6\" class=\"row_heading level0 row6\" >attribute7</th>\n",
       "                        <td id=\"T_14c11072_be5c_11ea_a6ee_9cb6d0e02a1frow6_col0\" class=\"data row6 col0\" >0.000</td>\n",
       "                        <td id=\"T_14c11072_be5c_11ea_a6ee_9cb6d0e02a1frow6_col1\" class=\"data row6 col1\" >0.141</td>\n",
       "                        <td id=\"T_14c11072_be5c_11ea_a6ee_9cb6d0e02a1frow6_col2\" class=\"data row6 col2\" >-0.002</td>\n",
       "                        <td id=\"T_14c11072_be5c_11ea_a6ee_9cb6d0e02a1frow6_col3\" class=\"data row6 col3\" >0.046</td>\n",
       "                        <td id=\"T_14c11072_be5c_11ea_a6ee_9cb6d0e02a1frow6_col4\" class=\"data row6 col4\" >-0.009</td>\n",
       "                        <td id=\"T_14c11072_be5c_11ea_a6ee_9cb6d0e02a1frow6_col5\" class=\"data row6 col5\" >-0.012</td>\n",
       "                        <td id=\"T_14c11072_be5c_11ea_a6ee_9cb6d0e02a1frow6_col6\" class=\"data row6 col6\" >1.000</td>\n",
       "                        <td id=\"T_14c11072_be5c_11ea_a6ee_9cb6d0e02a1frow6_col7\" class=\"data row6 col7\" >1.000</td>\n",
       "                        <td id=\"T_14c11072_be5c_11ea_a6ee_9cb6d0e02a1frow6_col8\" class=\"data row6 col8\" >0.007</td>\n",
       "            </tr>\n",
       "            <tr>\n",
       "                        <th id=\"T_14c11072_be5c_11ea_a6ee_9cb6d0e02a1flevel0_row7\" class=\"row_heading level0 row7\" >attribute8</th>\n",
       "                        <td id=\"T_14c11072_be5c_11ea_a6ee_9cb6d0e02a1frow7_col0\" class=\"data row7 col0\" >0.000</td>\n",
       "                        <td id=\"T_14c11072_be5c_11ea_a6ee_9cb6d0e02a1frow7_col1\" class=\"data row7 col1\" >0.141</td>\n",
       "                        <td id=\"T_14c11072_be5c_11ea_a6ee_9cb6d0e02a1frow7_col2\" class=\"data row7 col2\" >-0.002</td>\n",
       "                        <td id=\"T_14c11072_be5c_11ea_a6ee_9cb6d0e02a1frow7_col3\" class=\"data row7 col3\" >0.046</td>\n",
       "                        <td id=\"T_14c11072_be5c_11ea_a6ee_9cb6d0e02a1frow7_col4\" class=\"data row7 col4\" >-0.009</td>\n",
       "                        <td id=\"T_14c11072_be5c_11ea_a6ee_9cb6d0e02a1frow7_col5\" class=\"data row7 col5\" >-0.012</td>\n",
       "                        <td id=\"T_14c11072_be5c_11ea_a6ee_9cb6d0e02a1frow7_col6\" class=\"data row7 col6\" >1.000</td>\n",
       "                        <td id=\"T_14c11072_be5c_11ea_a6ee_9cb6d0e02a1frow7_col7\" class=\"data row7 col7\" >1.000</td>\n",
       "                        <td id=\"T_14c11072_be5c_11ea_a6ee_9cb6d0e02a1frow7_col8\" class=\"data row7 col8\" >0.007</td>\n",
       "            </tr>\n",
       "            <tr>\n",
       "                        <th id=\"T_14c11072_be5c_11ea_a6ee_9cb6d0e02a1flevel0_row8\" class=\"row_heading level0 row8\" >attribute9</th>\n",
       "                        <td id=\"T_14c11072_be5c_11ea_a6ee_9cb6d0e02a1frow8_col0\" class=\"data row8 col0\" >0.001</td>\n",
       "                        <td id=\"T_14c11072_be5c_11ea_a6ee_9cb6d0e02a1frow8_col1\" class=\"data row8 col1\" >-0.003</td>\n",
       "                        <td id=\"T_14c11072_be5c_11ea_a6ee_9cb6d0e02a1frow8_col2\" class=\"data row8 col2\" >0.532</td>\n",
       "                        <td id=\"T_14c11072_be5c_11ea_a6ee_9cb6d0e02a1frow8_col3\" class=\"data row8 col3\" >0.036</td>\n",
       "                        <td id=\"T_14c11072_be5c_11ea_a6ee_9cb6d0e02a1frow8_col4\" class=\"data row8 col4\" >0.006</td>\n",
       "                        <td id=\"T_14c11072_be5c_11ea_a6ee_9cb6d0e02a1frow8_col5\" class=\"data row8 col5\" >0.021</td>\n",
       "                        <td id=\"T_14c11072_be5c_11ea_a6ee_9cb6d0e02a1frow8_col6\" class=\"data row8 col6\" >0.007</td>\n",
       "                        <td id=\"T_14c11072_be5c_11ea_a6ee_9cb6d0e02a1frow8_col7\" class=\"data row8 col7\" >0.007</td>\n",
       "                        <td id=\"T_14c11072_be5c_11ea_a6ee_9cb6d0e02a1frow8_col8\" class=\"data row8 col8\" >1.000</td>\n",
       "            </tr>\n",
       "    </tbody></table>"
      ],
      "text/plain": [
       "<pandas.io.formats.style.Styler at 0x7f4804d36ef0>"
      ]
     },
     "execution_count": 15,
     "metadata": {},
     "output_type": "execute_result"
    }
   ],
   "source": [
    "# We can also look at the correlation matrix between variables:\n",
    "\n",
    "corr = devices[process_cols].corr() \n",
    "corr.style.background_gradient(cmap='coolwarm').set_precision(3)"
   ]
  },
  {
   "cell_type": "markdown",
   "metadata": {},
   "source": [
    "We can see a very important issue here: attribute7 and attribute8 have correlation 1 and the same distribution. \n",
    "\n",
    "Most likely they are equal, but still no new information will be generated by keeping both variables."
   ]
  },
  {
   "cell_type": "code",
   "execution_count": 16,
   "metadata": {},
   "outputs": [],
   "source": [
    "devices.drop(columns=[\"attribute7\"], axis=1, inplace=True)\n",
    "\n",
    "# And we remove it also from the list of attributes for processing\n",
    "\n",
    "process_cols.remove('attribute7')"
   ]
  },
  {
   "cell_type": "code",
   "execution_count": 17,
   "metadata": {},
   "outputs": [
    {
     "data": {
      "text/plain": [
       "failure       1.000000\n",
       "attribute8    0.119055\n",
       "attribute4    0.067398\n",
       "attribute2    0.052902\n",
       "attribute5    0.002270\n",
       "attribute1    0.001983\n",
       "attribute9    0.001622\n",
       "attribute6   -0.000550\n",
       "attribute3   -0.000948\n",
       "Name: failure, dtype: float64"
      ]
     },
     "execution_count": 17,
     "metadata": {},
     "output_type": "execute_result"
    }
   ],
   "source": [
    "# We can look now to linear correlation between variables and the target:\n",
    "\n",
    "devices.corr()['failure'].sort_values(ascending=False)"
   ]
  },
  {
   "cell_type": "markdown",
   "metadata": {},
   "source": [
    "__Feature Selection__"
   ]
  },
  {
   "cell_type": "markdown",
   "metadata": {},
   "source": [
    " Before we proceed to selection method, attributes need to be standarized since ranges differ from each other and this will cause truble with selection by logistic regression."
   ]
  },
  {
   "cell_type": "code",
   "execution_count": 19,
   "metadata": {},
   "outputs": [],
   "source": [
    "# We create two pipelines for processing data so that we have them available for later use:\n",
    "\n",
    "# We reserve PCA pipeline if needed.\n",
    "\n",
    "num_pipeline = Pipeline([\n",
    "    (\"estandarizador\", StandardScaler())\n",
    "])\n",
    "\n",
    "\n",
    "pipeline = ColumnTransformer([\n",
    "    (\"cont\", num_pipeline, process_cols)#,\n",
    "    #(\"pcas\", PCA(n_components = 1, random_state=2020), process_cols)\n",
    "])"
   ]
  },
  {
   "cell_type": "code",
   "execution_count": 20,
   "metadata": {},
   "outputs": [],
   "source": [
    "df_num = pipeline.fit_transform(devices)"
   ]
  },
  {
   "cell_type": "code",
   "execution_count": 21,
   "metadata": {},
   "outputs": [],
   "source": [
    "std_cols = ['x1', 'x2', 'x3' , 'x4', 'x5', 'x6', 'x7' , 'x8']"
   ]
  },
  {
   "cell_type": "code",
   "execution_count": 22,
   "metadata": {},
   "outputs": [],
   "source": [
    "df_num = pd.DataFrame(df_num, columns=std_cols)"
   ]
  },
  {
   "cell_type": "code",
   "execution_count": 23,
   "metadata": {},
   "outputs": [],
   "source": [
    "df_num[\"y\"] = devices[\"failure\"]"
   ]
  },
  {
   "cell_type": "code",
   "execution_count": 24,
   "metadata": {},
   "outputs": [
    {
     "data": {
      "text/html": [
       "<div>\n",
       "<style scoped>\n",
       "    .dataframe tbody tr th:only-of-type {\n",
       "        vertical-align: middle;\n",
       "    }\n",
       "\n",
       "    .dataframe tbody tr th {\n",
       "        vertical-align: top;\n",
       "    }\n",
       "\n",
       "    .dataframe thead th {\n",
       "        text-align: right;\n",
       "    }\n",
       "</style>\n",
       "<table border=\"1\" class=\"dataframe\">\n",
       "  <thead>\n",
       "    <tr style=\"text-align: right;\">\n",
       "      <th></th>\n",
       "      <th>x1</th>\n",
       "      <th>x2</th>\n",
       "      <th>x3</th>\n",
       "      <th>x4</th>\n",
       "      <th>x5</th>\n",
       "      <th>x6</th>\n",
       "      <th>x7</th>\n",
       "      <th>x8</th>\n",
       "      <th>y</th>\n",
       "    </tr>\n",
       "  </thead>\n",
       "  <tbody>\n",
       "    <tr>\n",
       "      <th>0</th>\n",
       "      <td>1.323358</td>\n",
       "      <td>-0.047478</td>\n",
       "      <td>-0.053516</td>\n",
       "      <td>2.193905</td>\n",
       "      <td>-0.515755</td>\n",
       "      <td>1.485268</td>\n",
       "      <td>-0.039335</td>\n",
       "      <td>-0.028479</td>\n",
       "      <td>0</td>\n",
       "    </tr>\n",
       "    <tr>\n",
       "      <th>1</th>\n",
       "      <td>-0.865998</td>\n",
       "      <td>-0.073170</td>\n",
       "      <td>-0.037365</td>\n",
       "      <td>-0.076004</td>\n",
       "      <td>-0.515755</td>\n",
       "      <td>1.442263</td>\n",
       "      <td>-0.039335</td>\n",
       "      <td>-0.065047</td>\n",
       "      <td>0</td>\n",
       "    </tr>\n",
       "    <tr>\n",
       "      <th>2</th>\n",
       "      <td>0.722517</td>\n",
       "      <td>-0.073170</td>\n",
       "      <td>-0.053516</td>\n",
       "      <td>-0.076004</td>\n",
       "      <td>-0.139414</td>\n",
       "      <td>-0.229738</td>\n",
       "      <td>-0.039335</td>\n",
       "      <td>-0.065047</td>\n",
       "      <td>0</td>\n",
       "    </tr>\n",
       "    <tr>\n",
       "      <th>3</th>\n",
       "      <td>-0.605942</td>\n",
       "      <td>-0.073170</td>\n",
       "      <td>-0.053516</td>\n",
       "      <td>-0.076004</td>\n",
       "      <td>-0.515755</td>\n",
       "      <td>1.512983</td>\n",
       "      <td>-0.039335</td>\n",
       "      <td>-0.065047</td>\n",
       "      <td>0</td>\n",
       "    </tr>\n",
       "    <tr>\n",
       "      <th>4</th>\n",
       "      <td>0.192770</td>\n",
       "      <td>-0.073170</td>\n",
       "      <td>-0.053516</td>\n",
       "      <td>-0.076004</td>\n",
       "      <td>0.048757</td>\n",
       "      <td>0.534543</td>\n",
       "      <td>-0.039335</td>\n",
       "      <td>-0.049375</td>\n",
       "      <td>0</td>\n",
       "    </tr>\n",
       "  </tbody>\n",
       "</table>\n",
       "</div>"
      ],
      "text/plain": [
       "         x1        x2        x3        x4        x5        x6        x7  \\\n",
       "0  1.323358 -0.047478 -0.053516  2.193905 -0.515755  1.485268 -0.039335   \n",
       "1 -0.865998 -0.073170 -0.037365 -0.076004 -0.515755  1.442263 -0.039335   \n",
       "2  0.722517 -0.073170 -0.053516 -0.076004 -0.139414 -0.229738 -0.039335   \n",
       "3 -0.605942 -0.073170 -0.053516 -0.076004 -0.515755  1.512983 -0.039335   \n",
       "4  0.192770 -0.073170 -0.053516 -0.076004  0.048757  0.534543 -0.039335   \n",
       "\n",
       "         x8  y  \n",
       "0 -0.028479  0  \n",
       "1 -0.065047  0  \n",
       "2 -0.065047  0  \n",
       "3 -0.065047  0  \n",
       "4 -0.049375  0  "
      ]
     },
     "execution_count": 24,
     "metadata": {},
     "output_type": "execute_result"
    }
   ],
   "source": [
    "df_num.head()"
   ]
  },
  {
   "cell_type": "code",
   "execution_count": 25,
   "metadata": {},
   "outputs": [],
   "source": [
    "X = df_num[std_cols].values\n",
    "Y = df_num.y"
   ]
  },
  {
   "cell_type": "code",
   "execution_count": 167,
   "metadata": {},
   "outputs": [],
   "source": [
    "poly = PolynomialFeatures(interaction_only=True)\n",
    "X_int = poly.fit_transform(X)"
   ]
  },
  {
   "cell_type": "code",
   "execution_count": 168,
   "metadata": {},
   "outputs": [
    {
     "data": {
      "text/plain": [
       "array([[-0.49533753,  0.18914722,  1.24371904, -5.52573988,  0.84532227,\n",
       "        -0.23263094,  0.28724526,  1.48718155, -1.41304512, -0.11276852,\n",
       "         1.85475531, -0.28057735,  0.17412718, -0.01439656,  0.44078069,\n",
       "         1.52082723, -0.29364314, -0.02108822,  0.97060255,  0.91767086,\n",
       "        -0.41926479,  1.03249105, -3.81830848, -6.05914619,  4.65637122,\n",
       "        -0.47385241, -0.50548736,  0.65569993, -0.77778383,  0.14528875,\n",
       "        -3.29678448,  0.39791156,  0.45544156, -1.15487165,  0.18035603,\n",
       "        -0.51614393, -0.13894346]])"
      ]
     },
     "execution_count": 168,
     "metadata": {},
     "output_type": "execute_result"
    }
   ],
   "source": [
    "selector = SelectFromModel(estimator=LogisticRegression(class_weight='balanced',\n",
    "                                                        max_iter=200,\n",
    "                                                        random_state=2020), \n",
    "                           threshold = 'median').fit(X_int, Y)\n",
    "selector.estimator_.coef_"
   ]
  },
  {
   "cell_type": "code",
   "execution_count": 169,
   "metadata": {},
   "outputs": [
    {
     "data": {
      "text/plain": [
       "array([False, False,  True,  True,  True, False, False,  True,  True,\n",
       "       False,  True, False, False, False, False,  True, False, False,\n",
       "        True,  True, False,  True,  True,  True,  True, False,  True,\n",
       "        True,  True, False,  True, False, False,  True, False,  True,\n",
       "       False])"
      ]
     },
     "execution_count": 169,
     "metadata": {},
     "output_type": "execute_result"
    }
   ],
   "source": [
    "selector.get_support()"
   ]
  },
  {
   "cell_type": "code",
   "execution_count": 170,
   "metadata": {},
   "outputs": [
    {
     "data": {
      "text/plain": [
       "0.5054873617015109"
      ]
     },
     "execution_count": 170,
     "metadata": {},
     "output_type": "execute_result"
    }
   ],
   "source": [
    "selector.threshold_"
   ]
  },
  {
   "cell_type": "markdown",
   "metadata": {},
   "source": [
    "We have a second conclusion: by feature selection with a logistic regression, we can drop the nearly uniformly distributed variable: attribute1 and others that show almost no correlation to the target. \n",
    "\n",
    "This is only a way to select a *strategy*: first we'll try with all the variables and only drop the ones we detect here to get better performance.\n",
    "\n",
    "A third conclusion is the need for *interactions*, these mean nonlinear relation between attributes to help predicting the target. This points us in the following direction: we can try again logistic regression, but better fitted, with the interactions in mind and perhaps try to fit a model using bayesian techniques to quantify uncertainty in the coefficients. \n",
    "\n",
    "Another direction to take thes nonlinear relations into account is the use of tree-based algorithms.\n",
    "\n",
    "So, now we can draw a strategy for modelling: we'll try logit as benchmark and from there we can search for tree-based algorithms. Since nonlinear relations seem to be in the play, we can also try neural network architecture to solve our classification task."
   ]
  },
  {
   "cell_type": "markdown",
   "metadata": {},
   "source": [
    "# Modelling: Benchmark"
   ]
  },
  {
   "cell_type": "code",
   "execution_count": 68,
   "metadata": {},
   "outputs": [],
   "source": [
    "###################\n",
    "# target variable\n",
    "y = devices.failure\n",
    "###################\n",
    "\n",
    "# We separate in train and test sets to measure the performance and to test generalization capacity of the models.\n",
    "\n",
    "X_train, X_test, y_train, y_test = train_test_split(devices[process_cols],y,\n",
    "                                                    test_size=0.3, \n",
    "                                                    stratify= y, \n",
    "                                                    random_state=2020)\n",
    "\n",
    "# For the case of logistic regression we use the standarization pipeline build before.\n",
    "# We apply it in separate to avoid data leakage\n",
    "\n",
    "X_train_lg = pipeline.fit_transform(X_train)\n",
    "X_test_lg = pipeline.fit_transform(X_test)\n",
    "\n",
    "#################################################"
   ]
  },
  {
   "cell_type": "markdown",
   "metadata": {},
   "source": [
    " Because we are dealing with imbalanced classes, not too many failures, it is a good practice to use a library to help over samplig.\n",
    "\n",
    " SMOTE is a technique used to help in the situation we have.\n",
    "\n",
    " SMOTE was proposed in \n",
    "\n",
    " Bowyer, et al., 2002, SMOTE: Synthetic Minority Over-sampling Technique, \n",
    " Journal of Artificial Intelligence Research 16 (2002) 321–357 \n",
    " (https://arxiv.org/pdf/1106.1813.pdf, accessed on July 2020)."
   ]
  },
  {
   "cell_type": "code",
   "execution_count": 32,
   "metadata": {},
   "outputs": [],
   "source": [
    "sm = SMOTE(random_state = 2)\n",
    "\n",
    "# over sampling for logit:\n",
    "\n",
    "X_train_rlg, y_train_rlg = sm.fit_sample(X_train_lg, y_train.ravel())\n",
    "\n",
    "# We'll try tree based algorithms so we have no need to stadandarize, but still have to balance the sets:\n",
    "\n",
    "X_train_res, y_train_res = sm.fit_sample(X_train, y_train.ravel())"
   ]
  },
  {
   "cell_type": "code",
   "execution_count": 33,
   "metadata": {},
   "outputs": [],
   "source": [
    "y_train_rlg = pd.DataFrame(y_train_rlg, columns=['y'])\n",
    "X_train_rlg = pd.DataFrame(X_train_rlg, columns=process_cols)\n",
    "#y_train_rlg.head()"
   ]
  },
  {
   "cell_type": "code",
   "execution_count": 43,
   "metadata": {},
   "outputs": [],
   "source": [
    "# Next we create the train pipelines for the benchmarks.\n",
    "\n",
    "# The first is the base logistic regression:\n",
    "\n",
    "penalty = 'l2'\n",
    "C = 0.5\n",
    "class_weight = 'balanced'\n",
    "random_state = 2020\n",
    "solver = 'liblinear'\n",
    "\n",
    "logReg = LogisticRegression(penalty=penalty, \n",
    "                            C=C,\n",
    "                            class_weight=class_weight, \n",
    "                            random_state=random_state,\n",
    "                            solver=solver, \n",
    "                            n_jobs=-1)"
   ]
  },
  {
   "cell_type": "code",
   "execution_count": 44,
   "metadata": {},
   "outputs": [],
   "source": [
    "trainingScores = []\n",
    "cvScores = []\n",
    "predictionsBasedOnKFolds = pd.DataFrame(data=[],\n",
    "                                        index=y_train_rlg.index,columns=[0,1])\n",
    "\n",
    "model = logReg\n",
    "\n",
    "\n",
    "k_fold = StratifiedKFold(n_splits=5,shuffle=True,random_state=2020)"
   ]
  },
  {
   "cell_type": "code",
   "execution_count": 45,
   "metadata": {},
   "outputs": [
    {
     "name": "stdout",
     "output_type": "stream",
     "text": [
      "Training Log Loss:  0.5492905116972435\n",
      "CV Log Loss:  0.5481947137053443\n",
      "Training Log Loss:  0.5481535882873572\n",
      "CV Log Loss:  0.5526379303687012\n",
      "Training Log Loss:  0.5486941215740074\n",
      "CV Log Loss:  0.552015514669048\n",
      "Training Log Loss:  0.5483518933188506\n",
      "CV Log Loss:  0.5526713114013646\n",
      "Training Log Loss:  0.5517897733247721\n",
      "CV Log Loss:  0.5416488242331747\n",
      "Logistic Regression Log Loss:  0.5494336701612952\n"
     ]
    }
   ],
   "source": [
    "for train_index, cv_index in k_fold.split(np.zeros(len(X_train_rlg)),y_train_rlg.y.ravel()):\n",
    "    X_train_fold, X_cv_fold = X_train_rlg.iloc[train_index,:],X_train_rlg.iloc[cv_index,:]\n",
    "    y_train_fold, y_cv_fold = y_train_rlg.iloc[train_index],y_train_rlg.iloc[cv_index]\n",
    "    \n",
    "    model.fit(X_train_fold, y_train_fold)\n",
    "    loglossTraining = log_loss(y_train_fold, model.predict_proba(X_train_fold)[:,1])\n",
    "    trainingScores.append(loglossTraining)\n",
    "    \n",
    "    predictionsBasedOnKFolds.loc[X_cv_fold.index,:] = model.predict_proba(X_cv_fold)  \n",
    "    loglossCV = log_loss(y_cv_fold, predictionsBasedOnKFolds.loc[X_cv_fold.index,1])\n",
    "    cvScores.append(loglossCV)\n",
    "    \n",
    "    print('Training Log Loss: ', loglossTraining)\n",
    "    print('CV Log Loss: ', loglossCV)\n",
    "    \n",
    "loglossLogisticRegression = log_loss(y_train_rlg, predictionsBasedOnKFolds.loc[:,1])\n",
    "print('Logistic Regression Log Loss: ', loglossLogisticRegression)"
   ]
  },
  {
   "cell_type": "code",
   "execution_count": 46,
   "metadata": {},
   "outputs": [
    {
     "name": "stdout",
     "output_type": "stream",
     "text": [
      "Optimal Threshold=0.356528, F-Score=0.737\n"
     ]
    },
    {
     "data": {
      "text/plain": [
       "Text(0.5, 1.0, 'Precision-Recall curve: Average Precision = 0.83')"
      ]
     },
     "execution_count": 46,
     "metadata": {},
     "output_type": "execute_result"
    },
    {
     "data": {
      "image/png": "[encoded data removed]",
      "text/plain": [
       "<Figure size 1440x720 with 1 Axes>"
      ]
     },
     "metadata": {},
     "output_type": "display_data"
    }
   ],
   "source": [
    "preds = pd.concat([y_train_rlg,predictionsBasedOnKFolds.loc[:,1]], axis=1)\n",
    "preds.columns = ['trueLabel','prediction']\n",
    "predictionsBasedOnKFoldsLogisticRegression = preds.copy()\n",
    "precision, recall, thresholds = precision_recall_curve(preds['trueLabel'],\n",
    "                                                       preds['prediction'])\n",
    "average_precision = average_precision_score(preds['trueLabel'],\n",
    "                                            preds['prediction'])\n",
    "# convert to f score\n",
    "fscore = (2 * precision * recall) / (precision + recall)\n",
    "# locate the index of the largest f score\n",
    "corte = np.argmax(fscore)\n",
    "print('Optimal Threshold=%f, F-Score=%.3f' % (thresholds[corte], fscore[corte]))\n",
    "\n",
    "\n",
    "plt.step(recall, precision, color='k', alpha=0.7, where='post')\n",
    "plt.fill_between(recall, precision, step='post', alpha=0.3, color='k')\n",
    "plt.scatter(recall[corte], precision[corte], marker='o', color='blue', label='Best')\n",
    "plt.xlabel('Recall')\n",
    "plt.ylabel('Precision')\n",
    "plt.ylim([0.0, 1.05])\n",
    "plt.xlim([0.0, 1.0])\n",
    "\n",
    "plt.title('Precision-Recall curve: Average Precision = {0:0.2f}'.format(average_precision))"
   ]
  },
  {
   "cell_type": "code",
   "execution_count": 47,
   "metadata": {},
   "outputs": [
    {
     "name": "stdout",
     "output_type": "stream",
     "text": [
      "Optimal Threshold=0.466013\n"
     ]
    },
    {
     "data": {
      "image/png": "[encoded data removed]",
      "text/plain": [
       "<Figure size 1440x720 with 1 Axes>"
      ]
     },
     "metadata": {},
     "output_type": "display_data"
    }
   ],
   "source": [
    "fpr, tpr, thresholds = roc_curve(preds['trueLabel'],preds['prediction'])\n",
    "\n",
    "areaUnderROC = auc(fpr, tpr)\n",
    "\n",
    "# To find the best threshold we can use Youden's statistic \n",
    "# J = Sensitivity + Specificity – 1\n",
    "# https://en.wikipedia.org/wiki/Youden%27s_J_statistic\n",
    "\n",
    "# But we have that Sensitivity is the True Positive Rate\n",
    "# And then J = Sensitivity + (1 – FalsePositiveRate) – 1\n",
    "# Then\n",
    "\n",
    "J = tpr - fpr\n",
    "optim = np.argmax(J)\n",
    "best_thresh = thresholds[optim]\n",
    "print('Optimal Threshold=%f' % (best_thresh))\n",
    "\n",
    "\n",
    "plt.figure()\n",
    "plt.plot(fpr, tpr, color='r', lw=2, label='ROC curve')\n",
    "plt.plot([0, 1], [0, 1], color='k', lw=2, linestyle='--')\n",
    "plt.xlim([0.0, 1.0])\n",
    "plt.ylim([0.0, 1.05])\n",
    "# optimal point\n",
    "plt.scatter(fpr[optim], tpr[optim], marker='o', color='blue', label='Best')\n",
    "#\n",
    "plt.xlabel('False Positive Rate')\n",
    "plt.ylabel('True Positive Rate')\n",
    "plt.title('Receiver operating characteristic:Area under the curve = {0:0.2f}'.format(areaUnderROC))\n",
    "plt.legend(loc=\"lower right\")\n",
    "plt.show()"
   ]
  },
  {
   "cell_type": "markdown",
   "metadata": {},
   "source": [
    "# MODEL 2: LOGISTIC REGRESSION WITH INTERACTIONS"
   ]
  },
  {
   "cell_type": "markdown",
   "metadata": {},
   "source": [
    "The second model will contain all variables and their interactions but no powers of the variables."
   ]
  },
  {
   "cell_type": "code",
   "execution_count": 82,
   "metadata": {},
   "outputs": [],
   "source": [
    "num_pipeline = Pipeline([\n",
    "    (\"estandarizador\", StandardScaler())\n",
    "])\n",
    "\n",
    "int_pipeline = Pipeline([\n",
    "    (\"estandarizador\", StandardScaler()),\n",
    "    (\"interacciones\", PolynomialFeatures(interaction_only=True))\n",
    "])\n",
    "\n",
    "pipeline_int = ColumnTransformer([\n",
    "    (\"int\", int_pipeline, process_cols)])"
   ]
  },
  {
   "cell_type": "code",
   "execution_count": 84,
   "metadata": {},
   "outputs": [],
   "source": [
    "# Applying the new pipeline:\n",
    "\n",
    "X_train_lg2 = pipeline_int.fit_transform(X_train)\n",
    "X_test_lg2 = pipeline_int.fit_transform(X_test)"
   ]
  },
  {
   "cell_type": "code",
   "execution_count": 85,
   "metadata": {},
   "outputs": [],
   "source": [
    "X_train_rlg2, y_train_rlg2 = sm.fit_sample(X_train_lg2, y_train.ravel())"
   ]
  },
  {
   "cell_type": "code",
   "execution_count": 86,
   "metadata": {},
   "outputs": [],
   "source": [
    "y_train_rlg2 = pd.DataFrame(y_train_rlg2, columns=['y'])\n",
    "X_train_rlg2 = pd.DataFrame(X_train_rlg2)\n",
    "#y_train_rlg.head() , columns=process_cols"
   ]
  },
  {
   "cell_type": "code",
   "execution_count": 87,
   "metadata": {},
   "outputs": [
    {
     "data": {
      "text/html": [
       "<div>\n",
       "<style scoped>\n",
       "    .dataframe tbody tr th:only-of-type {\n",
       "        vertical-align: middle;\n",
       "    }\n",
       "\n",
       "    .dataframe tbody tr th {\n",
       "        vertical-align: top;\n",
       "    }\n",
       "\n",
       "    .dataframe thead th {\n",
       "        text-align: right;\n",
       "    }\n",
       "</style>\n",
       "<table border=\"1\" class=\"dataframe\">\n",
       "  <thead>\n",
       "    <tr style=\"text-align: right;\">\n",
       "      <th></th>\n",
       "      <th>0</th>\n",
       "      <th>1</th>\n",
       "      <th>2</th>\n",
       "      <th>3</th>\n",
       "      <th>4</th>\n",
       "      <th>5</th>\n",
       "      <th>6</th>\n",
       "      <th>7</th>\n",
       "      <th>8</th>\n",
       "      <th>9</th>\n",
       "      <th>10</th>\n",
       "      <th>11</th>\n",
       "      <th>12</th>\n",
       "      <th>13</th>\n",
       "      <th>14</th>\n",
       "      <th>15</th>\n",
       "      <th>16</th>\n",
       "      <th>17</th>\n",
       "      <th>18</th>\n",
       "      <th>19</th>\n",
       "      <th>20</th>\n",
       "      <th>21</th>\n",
       "      <th>22</th>\n",
       "      <th>23</th>\n",
       "      <th>24</th>\n",
       "      <th>25</th>\n",
       "      <th>26</th>\n",
       "      <th>27</th>\n",
       "      <th>28</th>\n",
       "      <th>29</th>\n",
       "      <th>30</th>\n",
       "      <th>31</th>\n",
       "      <th>32</th>\n",
       "      <th>33</th>\n",
       "      <th>34</th>\n",
       "      <th>35</th>\n",
       "      <th>36</th>\n",
       "    </tr>\n",
       "  </thead>\n",
       "  <tbody>\n",
       "    <tr>\n",
       "      <th>0</th>\n",
       "      <td>1.0</td>\n",
       "      <td>-0.670981</td>\n",
       "      <td>-0.066263</td>\n",
       "      <td>-0.051656</td>\n",
       "      <td>-0.077427</td>\n",
       "      <td>0.552642</td>\n",
       "      <td>-2.615636</td>\n",
       "      <td>-0.038215</td>\n",
       "      <td>-0.066249</td>\n",
       "      <td>0.044461</td>\n",
       "      <td>0.034660</td>\n",
       "      <td>0.051952</td>\n",
       "      <td>-0.370812</td>\n",
       "      <td>1.755043</td>\n",
       "      <td>0.025642</td>\n",
       "      <td>0.044452</td>\n",
       "      <td>0.003423</td>\n",
       "      <td>0.005131</td>\n",
       "      <td>-0.036620</td>\n",
       "      <td>0.173320</td>\n",
       "      <td>0.002532</td>\n",
       "      <td>0.004390</td>\n",
       "      <td>0.004</td>\n",
       "      <td>-0.028547</td>\n",
       "      <td>0.135112</td>\n",
       "      <td>0.001974</td>\n",
       "      <td>0.003422</td>\n",
       "      <td>-0.042790</td>\n",
       "      <td>0.202522</td>\n",
       "      <td>0.002959</td>\n",
       "      <td>0.005129</td>\n",
       "      <td>-1.445510</td>\n",
       "      <td>-0.021119</td>\n",
       "      <td>-0.036612</td>\n",
       "      <td>0.099957</td>\n",
       "      <td>0.173282</td>\n",
       "      <td>0.002532</td>\n",
       "    </tr>\n",
       "    <tr>\n",
       "      <th>1</th>\n",
       "      <td>1.0</td>\n",
       "      <td>-1.147815</td>\n",
       "      <td>-0.073744</td>\n",
       "      <td>-0.051656</td>\n",
       "      <td>-0.077427</td>\n",
       "      <td>-0.201270</td>\n",
       "      <td>-0.613338</td>\n",
       "      <td>-0.038215</td>\n",
       "      <td>-0.066249</td>\n",
       "      <td>0.084644</td>\n",
       "      <td>0.059291</td>\n",
       "      <td>0.088872</td>\n",
       "      <td>0.231021</td>\n",
       "      <td>0.703998</td>\n",
       "      <td>0.043864</td>\n",
       "      <td>0.076041</td>\n",
       "      <td>0.003809</td>\n",
       "      <td>0.005710</td>\n",
       "      <td>0.014842</td>\n",
       "      <td>0.045230</td>\n",
       "      <td>0.002818</td>\n",
       "      <td>0.004885</td>\n",
       "      <td>0.004</td>\n",
       "      <td>0.010397</td>\n",
       "      <td>0.031682</td>\n",
       "      <td>0.001974</td>\n",
       "      <td>0.003422</td>\n",
       "      <td>0.015584</td>\n",
       "      <td>0.047489</td>\n",
       "      <td>0.002959</td>\n",
       "      <td>0.005129</td>\n",
       "      <td>0.123447</td>\n",
       "      <td>0.007692</td>\n",
       "      <td>0.013334</td>\n",
       "      <td>0.023439</td>\n",
       "      <td>0.040633</td>\n",
       "      <td>0.002532</td>\n",
       "    </tr>\n",
       "    <tr>\n",
       "      <th>2</th>\n",
       "      <td>1.0</td>\n",
       "      <td>-0.317916</td>\n",
       "      <td>-0.073744</td>\n",
       "      <td>-0.051656</td>\n",
       "      <td>-0.077427</td>\n",
       "      <td>4.761984</td>\n",
       "      <td>-0.349450</td>\n",
       "      <td>-0.038215</td>\n",
       "      <td>-0.066249</td>\n",
       "      <td>0.023444</td>\n",
       "      <td>0.016422</td>\n",
       "      <td>0.024615</td>\n",
       "      <td>-1.513913</td>\n",
       "      <td>0.111096</td>\n",
       "      <td>0.012149</td>\n",
       "      <td>0.021062</td>\n",
       "      <td>0.003809</td>\n",
       "      <td>0.005710</td>\n",
       "      <td>-0.351167</td>\n",
       "      <td>0.025770</td>\n",
       "      <td>0.002818</td>\n",
       "      <td>0.004885</td>\n",
       "      <td>0.004</td>\n",
       "      <td>-0.245983</td>\n",
       "      <td>0.018051</td>\n",
       "      <td>0.001974</td>\n",
       "      <td>0.003422</td>\n",
       "      <td>-0.368707</td>\n",
       "      <td>0.027057</td>\n",
       "      <td>0.002959</td>\n",
       "      <td>0.005129</td>\n",
       "      <td>-1.664078</td>\n",
       "      <td>-0.181980</td>\n",
       "      <td>-0.315475</td>\n",
       "      <td>0.013354</td>\n",
       "      <td>0.023151</td>\n",
       "      <td>0.002532</td>\n",
       "    </tr>\n",
       "    <tr>\n",
       "      <th>3</th>\n",
       "      <td>1.0</td>\n",
       "      <td>-1.371747</td>\n",
       "      <td>-0.073744</td>\n",
       "      <td>-0.051656</td>\n",
       "      <td>-0.077427</td>\n",
       "      <td>-0.452574</td>\n",
       "      <td>-0.245283</td>\n",
       "      <td>-0.038215</td>\n",
       "      <td>-0.055442</td>\n",
       "      <td>0.101158</td>\n",
       "      <td>0.070858</td>\n",
       "      <td>0.106211</td>\n",
       "      <td>0.620818</td>\n",
       "      <td>0.336466</td>\n",
       "      <td>0.052421</td>\n",
       "      <td>0.076052</td>\n",
       "      <td>0.003809</td>\n",
       "      <td>0.005710</td>\n",
       "      <td>0.033375</td>\n",
       "      <td>0.018088</td>\n",
       "      <td>0.002818</td>\n",
       "      <td>0.004088</td>\n",
       "      <td>0.004</td>\n",
       "      <td>0.023378</td>\n",
       "      <td>0.012670</td>\n",
       "      <td>0.001974</td>\n",
       "      <td>0.002864</td>\n",
       "      <td>0.035042</td>\n",
       "      <td>0.018992</td>\n",
       "      <td>0.002959</td>\n",
       "      <td>0.004293</td>\n",
       "      <td>0.111009</td>\n",
       "      <td>0.017295</td>\n",
       "      <td>0.025092</td>\n",
       "      <td>0.009374</td>\n",
       "      <td>0.013599</td>\n",
       "      <td>0.002119</td>\n",
       "    </tr>\n",
       "    <tr>\n",
       "      <th>4</th>\n",
       "      <td>1.0</td>\n",
       "      <td>-0.110690</td>\n",
       "      <td>-0.073744</td>\n",
       "      <td>-0.051656</td>\n",
       "      <td>-0.077427</td>\n",
       "      <td>-0.389748</td>\n",
       "      <td>0.535118</td>\n",
       "      <td>-0.038215</td>\n",
       "      <td>-0.066249</td>\n",
       "      <td>0.008163</td>\n",
       "      <td>0.005718</td>\n",
       "      <td>0.008570</td>\n",
       "      <td>0.043141</td>\n",
       "      <td>-0.059232</td>\n",
       "      <td>0.004230</td>\n",
       "      <td>0.007333</td>\n",
       "      <td>0.003809</td>\n",
       "      <td>0.005710</td>\n",
       "      <td>0.028742</td>\n",
       "      <td>-0.039462</td>\n",
       "      <td>0.002818</td>\n",
       "      <td>0.004885</td>\n",
       "      <td>0.004</td>\n",
       "      <td>0.020133</td>\n",
       "      <td>-0.027642</td>\n",
       "      <td>0.001974</td>\n",
       "      <td>0.003422</td>\n",
       "      <td>0.030177</td>\n",
       "      <td>-0.041433</td>\n",
       "      <td>0.002959</td>\n",
       "      <td>0.005129</td>\n",
       "      <td>-0.208561</td>\n",
       "      <td>0.014894</td>\n",
       "      <td>0.025820</td>\n",
       "      <td>-0.020450</td>\n",
       "      <td>-0.035451</td>\n",
       "      <td>0.002532</td>\n",
       "    </tr>\n",
       "  </tbody>\n",
       "</table>\n",
       "</div>"
      ],
      "text/plain": [
       "     0         1         2         3         4         5         6         7  \\\n",
       "0  1.0 -0.670981 -0.066263 -0.051656 -0.077427  0.552642 -2.615636 -0.038215   \n",
       "1  1.0 -1.147815 -0.073744 -0.051656 -0.077427 -0.201270 -0.613338 -0.038215   \n",
       "2  1.0 -0.317916 -0.073744 -0.051656 -0.077427  4.761984 -0.349450 -0.038215   \n",
       "3  1.0 -1.371747 -0.073744 -0.051656 -0.077427 -0.452574 -0.245283 -0.038215   \n",
       "4  1.0 -0.110690 -0.073744 -0.051656 -0.077427 -0.389748  0.535118 -0.038215   \n",
       "\n",
       "          8         9        10        11        12        13        14  \\\n",
       "0 -0.066249  0.044461  0.034660  0.051952 -0.370812  1.755043  0.025642   \n",
       "1 -0.066249  0.084644  0.059291  0.088872  0.231021  0.703998  0.043864   \n",
       "2 -0.066249  0.023444  0.016422  0.024615 -1.513913  0.111096  0.012149   \n",
       "3 -0.055442  0.101158  0.070858  0.106211  0.620818  0.336466  0.052421   \n",
       "4 -0.066249  0.008163  0.005718  0.008570  0.043141 -0.059232  0.004230   \n",
       "\n",
       "         15        16        17        18        19        20        21  \\\n",
       "0  0.044452  0.003423  0.005131 -0.036620  0.173320  0.002532  0.004390   \n",
       "1  0.076041  0.003809  0.005710  0.014842  0.045230  0.002818  0.004885   \n",
       "2  0.021062  0.003809  0.005710 -0.351167  0.025770  0.002818  0.004885   \n",
       "3  0.076052  0.003809  0.005710  0.033375  0.018088  0.002818  0.004088   \n",
       "4  0.007333  0.003809  0.005710  0.028742 -0.039462  0.002818  0.004885   \n",
       "\n",
       "      22        23        24        25        26        27        28  \\\n",
       "0  0.004 -0.028547  0.135112  0.001974  0.003422 -0.042790  0.202522   \n",
       "1  0.004  0.010397  0.031682  0.001974  0.003422  0.015584  0.047489   \n",
       "2  0.004 -0.245983  0.018051  0.001974  0.003422 -0.368707  0.027057   \n",
       "3  0.004  0.023378  0.012670  0.001974  0.002864  0.035042  0.018992   \n",
       "4  0.004  0.020133 -0.027642  0.001974  0.003422  0.030177 -0.041433   \n",
       "\n",
       "         29        30        31        32        33        34        35  \\\n",
       "0  0.002959  0.005129 -1.445510 -0.021119 -0.036612  0.099957  0.173282   \n",
       "1  0.002959  0.005129  0.123447  0.007692  0.013334  0.023439  0.040633   \n",
       "2  0.002959  0.005129 -1.664078 -0.181980 -0.315475  0.013354  0.023151   \n",
       "3  0.002959  0.004293  0.111009  0.017295  0.025092  0.009374  0.013599   \n",
       "4  0.002959  0.005129 -0.208561  0.014894  0.025820 -0.020450 -0.035451   \n",
       "\n",
       "         36  \n",
       "0  0.002532  \n",
       "1  0.002532  \n",
       "2  0.002532  \n",
       "3  0.002119  \n",
       "4  0.002532  "
      ]
     },
     "execution_count": 87,
     "metadata": {},
     "output_type": "execute_result"
    }
   ],
   "source": [
    "X_train_rlg2.head()"
   ]
  },
  {
   "cell_type": "code",
   "execution_count": 90,
   "metadata": {},
   "outputs": [],
   "source": [
    "# Next we create the train pipelines for the benchmarks.\n",
    "\n",
    "# The first is the base logistic regression:\n",
    "\n",
    "penalty = 'l2'\n",
    "C = 0.4\n",
    "class_weight = 'balanced'\n",
    "random_state = 2020\n",
    "solver = 'liblinear'\n",
    "\n",
    "logReg = LogisticRegression(penalty=penalty, \n",
    "                            C=C,\n",
    "                            max_iter = 500, \n",
    "                            warm_start = True,\n",
    "                            #class_weight=class_weight, \n",
    "                            random_state=random_state,\n",
    "                            solver=solver, \n",
    "                            n_jobs=-1\n",
    "                           )\n",
    "\n",
    "trainingScores = []\n",
    "cvScores = []\n",
    "predictionsBasedOnKFolds = pd.DataFrame(data=[],\n",
    "                                        index=y_train_rlg2.index,columns=[0,1])\n",
    "\n",
    "model = logReg"
   ]
  },
  {
   "cell_type": "code",
   "execution_count": 91,
   "metadata": {},
   "outputs": [
    {
     "name": "stdout",
     "output_type": "stream",
     "text": [
      "Training Log Loss:  0.5000650310296977\n",
      "CV Log Loss:  0.5036891819199959\n",
      "Training Log Loss:  0.5024513130533012\n",
      "CV Log Loss:  0.4991846853788029\n",
      "Training Log Loss:  0.5001721308691905\n",
      "CV Log Loss:  0.5065359423281001\n",
      "Training Log Loss:  0.4998058292759337\n",
      "CV Log Loss:  0.5078021960196831\n",
      "Training Log Loss:  0.5037710680391275\n",
      "CV Log Loss:  0.49585641843318284\n",
      "Logistic Regression with interactions Log Loss:  0.5026136713011069\n"
     ]
    }
   ],
   "source": [
    "for train_index, cv_index in k_fold.split(np.zeros(len(X_train_rlg2)),y_train_rlg2.y.ravel()):\n",
    "    X_train_fold, X_cv_fold = X_train_rlg2.iloc[train_index,:],X_train_rlg2.iloc[cv_index,:]\n",
    "    y_train_fold, y_cv_fold = y_train_rlg2.iloc[train_index],y_train_rlg2.iloc[cv_index]\n",
    "    \n",
    "    model.fit(X_train_fold, y_train_fold)\n",
    "    loglossTraining = log_loss(y_train_fold, model.predict_proba(X_train_fold)[:,1])\n",
    "    trainingScores.append(loglossTraining)\n",
    "    \n",
    "    predictionsBasedOnKFolds.loc[X_cv_fold.index,:] = model.predict_proba(X_cv_fold)  \n",
    "    loglossCV = log_loss(y_cv_fold, predictionsBasedOnKFolds.loc[X_cv_fold.index,1])\n",
    "    cvScores.append(loglossCV)\n",
    "    \n",
    "    print('Training Log Loss: ', loglossTraining)\n",
    "    print('CV Log Loss: ', loglossCV)\n",
    "    \n",
    "loglossLogisticRegression = log_loss(y_train_rlg2, predictionsBasedOnKFolds.loc[:,1]) \n",
    "#l1 y C=.4 Logistic Regression with interactions Log Loss:  0.47963111564766253\n",
    "print('Logistic Regression with interactions Log Loss: ', loglossLogisticRegression) \n",
    "#Logistic Regression Log Loss:  0.5289955008268935"
   ]
  },
  {
   "cell_type": "code",
   "execution_count": 92,
   "metadata": {},
   "outputs": [
    {
     "name": "stdout",
     "output_type": "stream",
     "text": [
      "Optimal Threshold=0.360420, F-Score=0.783\n"
     ]
    },
    {
     "data": {
      "text/plain": [
       "Text(0.5, 1.0, 'Precision-Recall curve: Average Precision = 0.88')"
      ]
     },
     "execution_count": 92,
     "metadata": {},
     "output_type": "execute_result"
    },
    {
     "data": {
      "image/png": "[encoded data removed]",
      "text/plain": [
       "<Figure size 1440x720 with 1 Axes>"
      ]
     },
     "metadata": {},
     "output_type": "display_data"
    }
   ],
   "source": [
    "preds = pd.concat([y_train_rlg2,predictionsBasedOnKFolds.loc[:,1]], axis=1)\n",
    "preds.columns = ['trueLabel','prediction']\n",
    "predictionsBasedOnKFoldsLogisticRegression = preds.copy()\n",
    "\n",
    "precision, recall, thresholds = precision_recall_curve(preds['trueLabel'],\n",
    "                                                       preds['prediction'])\n",
    "\n",
    "average_precision = average_precision_score(preds['trueLabel'],\n",
    "                                            preds['prediction'])\n",
    "\n",
    "# convert to f score\n",
    "fscore = (2 * precision * recall) / (precision + recall)\n",
    "# locate the index of the largest f score\n",
    "corte = np.argmax(fscore)\n",
    "print('Optimal Threshold=%f, F-Score=%.3f' % (thresholds[corte], fscore[corte]))\n",
    "\n",
    "plt.step(recall, precision, color='k', alpha=0.7, where='post')\n",
    "plt.fill_between(recall, precision, step='post', alpha=0.3, color='k')\n",
    "plt.scatter(recall[corte], precision[corte], marker='o', color='blue', label='Best')\n",
    "plt.xlabel('Recall')\n",
    "plt.ylabel('Precision')\n",
    "plt.ylim([0.0, 1.05])\n",
    "plt.xlim([0.0, 1.0])\n",
    "\n",
    "plt.title('Precision-Recall curve: Average Precision = {0:0.2f}'.format(\n",
    "          average_precision))"
   ]
  },
  {
   "cell_type": "code",
   "execution_count": 93,
   "metadata": {},
   "outputs": [
    {
     "name": "stdout",
     "output_type": "stream",
     "text": [
      "Optimal Threshold=0.364441\n"
     ]
    },
    {
     "data": {
      "image/png": "[encoded data removed]",
      "text/plain": [
       "<Figure size 1440x720 with 1 Axes>"
      ]
     },
     "metadata": {},
     "output_type": "display_data"
    }
   ],
   "source": [
    "fpr, tpr, thresholds = roc_curve(preds['trueLabel'],preds['prediction'])\n",
    "\n",
    "areaUnderROC = auc(fpr, tpr)\n",
    "\n",
    "J = tpr - fpr\n",
    "optim = np.argmax(J)\n",
    "best_thresh = thresholds[optim]\n",
    "print('Optimal Threshold=%f' % (best_thresh))\n",
    "\n",
    "plt.figure()\n",
    "plt.plot(fpr, tpr, color='r', lw=2, label='ROC curve')\n",
    "plt.plot([0, 1], [0, 1], color='k', lw=2, linestyle='--')\n",
    "plt.xlim([0.0, 1.0])\n",
    "plt.ylim([0.0, 1.05])\n",
    "# optimal point\n",
    "plt.scatter(fpr[optim], tpr[optim], marker='o', color='blue', label='Best')\n",
    "\n",
    "plt.xlabel('False Positive Rate')\n",
    "plt.ylabel('True Positive Rate')\n",
    "plt.title('ROC-AUC = {0:0.2f}'.format(areaUnderROC))\n",
    "plt.legend(loc=\"lower right\")\n",
    "plt.show()"
   ]
  },
  {
   "cell_type": "markdown",
   "metadata": {},
   "source": []
  },
  {
   "cell_type": "markdown",
   "metadata": {},
   "source": [
    "# MODEL 3: RANDOM FOREST"
   ]
  },
  {
   "cell_type": "markdown",
   "metadata": {},
   "source": [
    "We'll try a tree based classifier.\n",
    "\n",
    "In this case we do not need the standirized variables.\n",
    "\n",
    "The following steps represent one way to search for hyperparameters in a given range."
   ]
  },
  {
   "cell_type": "code",
   "execution_count": 100,
   "metadata": {},
   "outputs": [],
   "source": [
    "pipe_rf = Pipeline([('classifier' , RandomForestClassifier(random_state=2020))])\n",
    "\n",
    "param_grid_rf = [\n",
    "    {'classifier' : [RandomForestClassifier(random_state=2020,\n",
    "                                            criterion=\"gini\", \n",
    "                                            max_features=\"auto\", \n",
    "                                            oob_score= True\n",
    "                                            #class_weight=\"balanced\",\n",
    "                                            )],\n",
    "    'classifier__n_estimators' : list(range(200,381,20)),\n",
    "    'classifier__max_depth' : list(range(7,9,1))\n",
    "    } \n",
    "]"
   ]
  },
  {
   "cell_type": "code",
   "execution_count": 101,
   "metadata": {},
   "outputs": [],
   "source": [
    "clf_rf = GridSearchCV(pipe_rf, param_grid = param_grid_rf, cv = 5, verbose=True, n_jobs=-1) #cambiar a 5"
   ]
  },
  {
   "cell_type": "code",
   "execution_count": 102,
   "metadata": {},
   "outputs": [
    {
     "name": "stdout",
     "output_type": "stream",
     "text": [
      "Fitting 5 folds for each of 20 candidates, totalling 100 fits\n"
     ]
    },
    {
     "name": "stderr",
     "output_type": "stream",
     "text": [
      "[Parallel(n_jobs=-1)]: Using backend LokyBackend with 8 concurrent workers.\n",
      "[Parallel(n_jobs=-1)]: Done  34 tasks      | elapsed:  3.9min\n",
      "[Parallel(n_jobs=-1)]: Done 100 out of 100 | elapsed: 11.7min finished\n"
     ]
    }
   ],
   "source": [
    "best_rf = clf_rf.fit(X_train_res, y_train_res)"
   ]
  },
  {
   "cell_type": "code",
   "execution_count": 103,
   "metadata": {},
   "outputs": [
    {
     "name": "stdout",
     "output_type": "stream",
     "text": [
      "RandomForestClassifier(max_depth=8, n_estimators=260, oob_score=True,\n",
      "                       random_state=2020)\n"
     ]
    }
   ],
   "source": [
    "print(best_rf.best_estimator_.get_params()['classifier'])"
   ]
  },
  {
   "cell_type": "code",
   "execution_count": 106,
   "metadata": {},
   "outputs": [
    {
     "name": "stdout",
     "output_type": "stream",
     "text": [
      "Accuracy en entrenamiento rf 0.9501785898864146\n",
      "Accuracy en prueba rf 0.9623550831347559\n"
     ]
    }
   ],
   "source": [
    "print('Accuracy en entrenamiento rf',best_rf.score(X_train_res, y_train_res))\n",
    "print('Accuracy en prueba rf',best_rf.score(X_test, y_test))"
   ]
  },
  {
   "cell_type": "code",
   "execution_count": 107,
   "metadata": {},
   "outputs": [
    {
     "name": "stdout",
     "output_type": "stream",
     "text": [
      "              precision    recall  f1-score   support\n",
      "\n",
      "           0       0.96      1.00      0.98     35939\n",
      "           1       0.56      0.01      0.02      1410\n",
      "\n",
      "    accuracy                           0.96     37349\n",
      "   macro avg       0.76      0.51      0.50     37349\n",
      "weighted avg       0.95      0.96      0.94     37349\n",
      "\n"
     ]
    }
   ],
   "source": [
    "classes_rf = best_rf.predict(X_test)\n",
    "print(classification_report(classes_rf, y_test))"
   ]
  },
  {
   "cell_type": "markdown",
   "metadata": {},
   "source": [
    "We just found the best hyperparameters in a test range. Now we retrain the best model using k-fold cross validation."
   ]
  },
  {
   "cell_type": "code",
   "execution_count": null,
   "metadata": {},
   "outputs": [],
   "source": [
    "for train_index, cv_index in k_fold.split(np.zeros(len(X_train_rlg2)),y_train_rlg2.y.ravel()):\n",
    "    X_train_fold, X_cv_fold = X_train_rlg2.iloc[train_index,:],X_train_rlg2.iloc[cv_index,:]\n",
    "    y_train_fold, y_cv_fold = y_train_rlg2.iloc[train_index],y_train_rlg2.iloc[cv_index]\n",
    "    \n",
    "    model.fit(X_train_fold, y_train_fold)\n",
    "    loglossTraining = log_loss(y_train_fold, model.predict_proba(X_train_fold)[:,1])\n",
    "    trainingScores.append(loglossTraining)\n",
    "    \n",
    "    predictionsBasedOnKFolds.loc[X_cv_fold.index,:] = model.predict_proba(X_cv_fold)  \n",
    "    loglossCV = log_loss(y_cv_fold, predictionsBasedOnKFolds.loc[X_cv_fold.index,1])\n",
    "    cvScores.append(loglossCV)\n",
    "    \n",
    "    print('Training Log Loss: ', loglossTraining)\n",
    "    print('CV Log Loss: ', loglossCV)\n",
    "    \n",
    "loglossLogisticRegression = log_loss(y_train_rlg2, predictionsBasedOnKFolds.loc[:,1]) \n",
    "#l1 y C=.4 Logistic Regression with interactions Log Loss:  0.47963111564766253\n",
    "print('Logistic Regression with interactions Log Loss: ', loglossLogisticRegression) \n",
    "#Logistic Regression Log Loss:  0.5289955008268935"
   ]
  },
  {
   "cell_type": "code",
   "execution_count": null,
   "metadata": {},
   "outputs": [],
   "source": []
  },
  {
   "cell_type": "code",
   "execution_count": null,
   "metadata": {},
   "outputs": [],
   "source": [
    "pipe_rf = Pipeline([('classifier' , RandomForestClassifier(random_state=20200611))])\n",
    "\n",
    "\n",
    "pipe_gb = Pipeline([('classifier' , GradientBoostingClassifier(random_state=20200611))])\n",
    "\n",
    "\n",
    "#########################\n",
    "click.echo(\"Se crea la malla para hiperparámetros de RF\")\n",
    "##########################\n",
    "\n",
    "\n",
    "param_grid_rf = [\n",
    "    {'classifier' : [RandomForestClassifier(random_state=20200611,\n",
    "                                            criterion=\"gini\", \n",
    "                                            max_features=\"auto\", \n",
    "                                            oob_score= True,\n",
    "                                            #class_weight=\"balanced\",\n",
    "                                            n_jobs=-1)],\n",
    "    'classifier__n_estimators' : list(range(200,681,20)),\n",
    "    'classifier__max_depth' : list(range(4,11,1))\n",
    "    } \n",
    "]\n",
    "\n",
    "\n",
    "\n",
    "param_grid_gb = [\n",
    "    {'classifier' : [GradientBoostingClassifier(random_state=20200611, \n",
    "    validation_fraction=0.1)],\n",
    "    'classifier__learning_rate' : list(np.logspace(-4.8, -1.2, 8)), \n",
    "    'classifier__subsample' : list(np.logspace(-.2, -.01, 5)), \n",
    "    'classifier__n_estimators' : list(range(540,601,20)),\n",
    "    'classifier__max_features' : list(range(7,11,1)),\n",
    "    'classifier__n_iter_no_change' : list(range(7,11,1))\n",
    "    }\n",
    "]\n",
    "\n",
    "\n",
    "# Se usan 5 para prueba, aunque no es necesario subirle\n",
    "\n",
    "\n",
    "clf_ode_rf = GridSearchCV(pipe_rf, param_grid = param_grid_rf, cv = 5, verbose=True, n_jobs=-1) #cambiar a 5\n",
    "\n",
    "clf_ode_gb = GridSearchCV(pipe_gb, param_grid = param_grid_gb, cv = 5, verbose=True, n_jobs=-1) #cambiar a 5\n",
    "\n",
    "#click.echo(\"Corriendo grid search para el mejor clasificador RF\")\n",
    "#best_clf_ode_rf = clf_ode_rf.fit(X_train_res, y_train_res)\n",
    "\n",
    "\n",
    "#click.echo(\"Corriendo grid search para el mejor clasificador GB\")\n",
    "#best_clf_ode_gb = clf_ode_gb.fit(X_train_res, y_train_res)\n",
    "\n",
    "\n",
    "# Mejores modelos\n",
    "#print(best_clf_ode_rf.best_estimator_.get_params()['classifier'])\n",
    "#print(best_clf_ode_gb.best_estimator_.get_params()['classifier'])\n",
    "\n",
    "\n",
    "# Métricas\n",
    "#print('Accuracy en entrenamiento rf',best_clf_ode_rf.score(X_train_prep, y_train))\n",
    "#print('Accuracy en prueba rf',best_clf_ode_rf.score(X_test_prep, y_test))\n",
    "\n",
    "#print('Accuracy en entrenamiento gb',best_clf_ode_gb.score(X_train_prep, y_train))\n",
    "#print('Accuracy en prueba gb',best_clf_ode_gb.score(X_test_prep, y_test))\n",
    "\n",
    "# Reportes\n",
    "#click.echo(\"Reporte de clasificación para el mejor clasificador rf\")\n",
    "#classes_rf = best_clf_ode_rf.predict(X_test_prep)\n",
    "#print(classification_report(classes_rf, y_test))\n",
    "\n",
    "#click.echo(\"Reporte de clasificación para el mejor clasificador gb\")\n",
    "#classes_gb = best_clf_ode_gb.predict(X_test_prep)\n",
    "#print(classification_report(classes_gb, y_test))\n",
    "#\n",
    "# \n",
    "# Guardando\n",
    "\n",
    "#filename_rf = 'ode_model_train_RFreducedvar.pkl'\n",
    "\n",
    "#pickle.dump(best_clf_ode_rf, open('/pfs/out/ode_model_train_RFreducedvar.pkl', 'wb'))\n",
    "\n",
    "#click.echo(\"Modelo RFC con reducción dimensional: {} escrito\".format(filename_rf))\n",
    "\n",
    "#filename_gb = 'ode_model_train_GBreducedvar.pkl'\n",
    "\n",
    "#pickle.dump(best_clf_ode_gb, open('/pfs/out/ode_model_train_GBreducedvar.pkl', 'wb'))\n",
    "\n",
    "#click.echo(\"Modelo GBC con reducción dimensional: {} escrito\".format(filename_gb))\n",
    "\n",
    "# Modelos sin grid search\n",
    "\n",
    "# Son para comparación\n",
    "\n",
    "# Transformaciones de variables para entrenamiento"
   ]
  },
  {
   "cell_type": "code",
   "execution_count": 82,
   "metadata": {},
   "outputs": [
    {
     "data": {
      "image/png": "[encoded data removed]",
      "text/plain": [
       "<Figure size 1440x720 with 1 Axes>"
      ]
     },
     "metadata": {},
     "output_type": "display_data"
    }
   ],
   "source": [
    "# Correlated variables with target may show some ranges of interest:\n",
    "\n",
    "sns.stripplot(x=\"failure\", y=\"attribute4\", data=devices, jitter=True)\n",
    "plt.show();"
   ]
  },
  {
   "cell_type": "markdown",
   "metadata": {},
   "source": [
    "# Pendientes\n",
    "\n",
    "### 1. Pca no ha sido probada como opción\n",
    "### 2. Prototipo: regresión logística con y sin interacciones.\n",
    "### 3. Paso 2: métodos de árboles\n",
    "### 4. Paso 3: red neuronal\n",
    "### 5. Paso 4: Deteccion de anomalías: PCA, SOM SOLO SI DA TIEMPO\n",
    "### 6. Evaluaciones: tabla comparativa de performance"
   ]
  },
  {
   "cell_type": "code",
   "execution_count": null,
   "metadata": {},
   "outputs": [],
   "source": []
  }
 ],
 "metadata": {
  "kernelspec": {
   "display_name": "Python 3",
   "language": "python",
   "name": "python3"
  },
  "language_info": {
   "codemirror_mode": {
    "name": "ipython",
    "version": 3
   },
   "file_extension": ".py",
   "mimetype": "text/x-python",
   "name": "python",
   "nbconvert_exporter": "python",
   "pygments_lexer": "ipython3",
   "version": "3.6.10"
  }
 },
 "nbformat": 4,
 "nbformat_minor": 4
}
